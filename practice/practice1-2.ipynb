{
  "nbformat": 4,
  "nbformat_minor": 0,
  "metadata": {
    "colab": {
      "name": "practice1-2.ipynb",
      "provenance": [],
      "collapsed_sections": []
    },
    "kernelspec": {
      "name": "python3",
      "display_name": "Python 3"
    },
    "language_info": {
      "name": "python"
    }
  },
  "cells": [
    {
      "cell_type": "markdown",
      "metadata": {
        "id": "q2gH5BSalPUe"
      },
      "source": [
        "## 練習題 1-2\n",
        "\n",
        "現在機票有促銷活動，所有機票享有8 折優惠，請你寫一個程式，使用者可以輸入購買的機票金額(price)，輸入完後，螢幕上會顯示優惠價格(discount_price):\n",
        "\n",
        "\n",
        "**輸出範例**\n",
        "\n",
        "`您購買的機票原價為 <price> 元整，經活動打折後，您所購買的機票享有優惠價 <discount_price> 元整`\n",
        "\n",
        "**注意:輸出的 discount_price 必須為整數**"
      ]
    },
    {
      "cell_type": "code",
      "metadata": {
        "id": "DPsV6yzalP0O"
      },
      "source": [
        "price = input(\"請輸入購買的機票金額:\")\n",
        "\n",
        "discount_price = \n",
        "\n",
        "output = f'您購買的機票原價為 {price} 元整，經活動打折後，您所購買的機票享有優惠價 {discount_price} 元整'\n",
        "print(output)"
      ],
      "execution_count": null,
      "outputs": []
    },
    {
      "cell_type": "code",
      "metadata": {
        "cellView": "form",
        "id": "360f62B5lfOj"
      },
      "source": [
        "#@markdown 檢視答案\n",
        "\n",
        "if output.strip() == f'您購買的機票原價為 {int(price)} 元整，經活動打折後，您所購買的機票享有優惠價 {int(int(price)*0.8)} 元整':\n",
        "  print('答案正確')\n",
        "else:\n",
        "  print('答案不正確歐，再想想還有哪邊要修改')"
      ],
      "execution_count": null,
      "outputs": []
    },
    {
      "cell_type": "code",
      "metadata": {
        "id": "swu6GZddlje-"
      },
      "source": [
        ""
      ],
      "execution_count": null,
      "outputs": []
    }
  ]
}