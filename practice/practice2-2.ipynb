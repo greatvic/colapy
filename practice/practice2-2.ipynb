{
  "nbformat": 4,
  "nbformat_minor": 0,
  "metadata": {
    "kernelspec": {
      "display_name": "Python 3",
      "language": "python",
      "name": "python3"
    },
    "language_info": {
      "codemirror_mode": {
        "name": "ipython",
        "version": 3
      },
      "file_extension": ".py",
      "mimetype": "text/x-python",
      "name": "python",
      "nbconvert_exporter": "python",
      "pygments_lexer": "ipython3",
      "version": "3.7.3"
    },
    "colab": {
      "name": "practice2-2.ipynb",
      "provenance": [],
      "collapsed_sections": []
    }
  },
  "cells": [
    {
      "cell_type": "markdown",
      "metadata": {
        "id": "r6F0JWBBGRrk"
      },
      "source": [
        "## 練習題 2-2\n",
        "\n",
        "請協助完成連結中的程式，讓該程式能夠順利擷取該討論串HTML 頁面中，所有連結中包含的標題(純文字)，並將文字內容存放到 List 中\n"
      ]
    },
    {
      "cell_type": "markdown",
      "metadata": {
        "id": "v4d2AolbGRrm"
      },
      "source": [
        "### 網頁內容"
      ]
    },
    {
      "cell_type": "markdown",
      "metadata": {
        "id": "053xg3tLGRrn"
      },
      "source": [
        "<html><body>\n",
        "<div class=\"block\">\n",
        "<div class=\"links\">[<a class=\"link_font\" href=\"https://www.backpackers.com.tw/forum/forumdisplay.php?f=20\">中國港澳綜合</a>] <a class=\"link_font\" href=\"https://www.backpackers.com.tw/forum/showthread.php?t=10469879\">「2021最新」中國隔離28天全紀錄，隔離隔到睡路邊的故事!? 含食衣住行外賣價格疫苗通行碼等所有資訊</a><span style=\"color:#9a9ba3;font-size: 11px;\"> 46m</span></div><div class=\"links\">[<a class=\"link_font\" href=\"https://www.backpackers.com.tw/forum/forumdisplay.php?f=247\">墨西哥</a>] <a class=\"link_font\" href=\"https://www.backpackers.com.tw/forum/showthread.php?t=10469917\">有人在Mérida嗎?</a><span style=\"color:#9a9ba3;font-size: 11px;\"> 7h</span></div><div class=\"links\">[<a class=\"link_font\" href=\"https://www.backpackers.com.tw/forum/forumdisplay.php?f=174\">南亞旅遊好文</a>] <a class=\"link_font\" href=\"https://www.backpackers.com.tw/forum/showthread.php?t=10469880\">印度詐騙【新德里不思議 】</a><span style=\"color:#9a9ba3;font-size: 11px;\"> 10h</span></div><div class=\"links\">[<a class=\"link_font\" href=\"https://www.backpackers.com.tw/forum/forumdisplay.php?f=351\">健行登山</a>] <a class=\"link_font\" href=\"https://www.backpackers.com.tw/forum/showthread.php?t=10469966\">9/18(六)油羅山</a><span style=\"color:#9a9ba3;font-size: 11px;\"> 12h</span></div><div class=\"links\">[<a class=\"link_font\" href=\"https://www.backpackers.com.tw/forum/forumdisplay.php?f=352\">潛水</a>] <a class=\"link_font\" href=\"https://www.backpackers.com.tw/forum/showthread.php?t=10469918\">扁仙壺海膽大爆發@墾丁後壁湖左側餵魚區航道</a><span style=\"color:#9a9ba3;font-size: 11px;\"> 15h</span></div><div class=\"links\">[<a class=\"link_font\" href=\"https://www.backpackers.com.tw/forum/forumdisplay.php?f=50\">美國綜合</a>] <a class=\"link_font\" href=\"https://www.backpackers.com.tw/forum/showthread.php?t=10469931\">關於心理/精神疾病 K1簽證</a><span style=\"color:#9a9ba3;font-size: 11px;\"> 17h</span></div><div class=\"links\">[<a class=\"link_font\" href=\"https://www.backpackers.com.tw/forum/forumdisplay.php?f=50\">美國綜合</a>] <a class=\"link_font\" href=\"https://www.backpackers.com.tw/forum/showthread.php?t=10469892\">疫苗白卡如何換WHO要求的黃卡</a><span style=\"color:#9a9ba3;font-size: 11px;\"> 18h</span></div><div class=\"links\">[<a class=\"link_font\" href=\"https://www.backpackers.com.tw/forum/forumdisplay.php?f=50\">美國綜合</a>] <a class=\"link_font\" href=\"https://www.backpackers.com.tw/forum/showthread.php?t=10469930\">B1/B2美簽180天適用問題</a><span style=\"color:#9a9ba3;font-size: 11px;\"> 18h</span></div><div class=\"links\">[<a class=\"link_font\" href=\"https://www.backpackers.com.tw/forum/forumdisplay.php?f=45\">印度</a>] <a class=\"link_font\" href=\"https://www.backpackers.com.tw/forum/showthread.php?t=10469858\">印度是背包客的最後試煉場</a><span style=\"color:#9a9ba3;font-size: 11px;\"> 1d</span></div><div class=\"links\">[<a class=\"link_font\" href=\"https://www.backpackers.com.tw/forum/forumdisplay.php?f=50\">美國綜合</a>] <a class=\"link_font\" href=\"https://www.backpackers.com.tw/forum/showthread.php?t=10469908\">ESTA 入境兩個月，回台計畫申請語言學校及學生簽證，隔三個月後在來讀書</a><span style=\"color:#9a9ba3;font-size: 11px;\"> 1d</span></div>\n",
        "\t\t\t</div>\n",
        "</body></html>"
      ]
    },
    {
      "cell_type": "markdown",
      "metadata": {
        "id": "byi9DHOBGRrn"
      },
      "source": [
        "### 網頁字串"
      ]
    },
    {
      "cell_type": "code",
      "metadata": {
        "id": "klmIPBq9GRro"
      },
      "source": [
        "html = '''<html><body>\n",
        "<div class=\"block\">\n",
        "<div class=\"links\">[<a class=\"link_font\" href=\"https://www.backpackers.com.tw/forum/forumdisplay.php?f=20\">中國港澳綜合</a>] <a class=\"link_font\" href=\"https://www.backpackers.com.tw/forum/showthread.php?t=10469879\">「2021最新」中國隔離28天全紀錄，隔離隔到睡路邊的故事!? 含食衣住行外賣價格疫苗通行碼等所有資訊</a><span style=\"color:#9a9ba3;font-size: 11px;\"> 46m</span></div><div class=\"links\">[<a class=\"link_font\" href=\"https://www.backpackers.com.tw/forum/forumdisplay.php?f=247\">墨西哥</a>] <a class=\"link_font\" href=\"https://www.backpackers.com.tw/forum/showthread.php?t=10469917\">有人在Mérida嗎?</a><span style=\"color:#9a9ba3;font-size: 11px;\"> 7h</span></div><div class=\"links\">[<a class=\"link_font\" href=\"https://www.backpackers.com.tw/forum/forumdisplay.php?f=174\">南亞旅遊好文</a>] <a class=\"link_font\" href=\"https://www.backpackers.com.tw/forum/showthread.php?t=10469880\">印度詐騙【新德里不思議 】</a><span style=\"color:#9a9ba3;font-size: 11px;\"> 10h</span></div><div class=\"links\">[<a class=\"link_font\" href=\"https://www.backpackers.com.tw/forum/forumdisplay.php?f=351\">健行登山</a>] <a class=\"link_font\" href=\"https://www.backpackers.com.tw/forum/showthread.php?t=10469966\">9/18(六)油羅山</a><span style=\"color:#9a9ba3;font-size: 11px;\"> 12h</span></div><div class=\"links\">[<a class=\"link_font\" href=\"https://www.backpackers.com.tw/forum/forumdisplay.php?f=352\">潛水</a>] <a class=\"link_font\" href=\"https://www.backpackers.com.tw/forum/showthread.php?t=10469918\">扁仙壺海膽大爆發@墾丁後壁湖左側餵魚區航道</a><span style=\"color:#9a9ba3;font-size: 11px;\"> 15h</span></div><div class=\"links\">[<a class=\"link_font\" href=\"https://www.backpackers.com.tw/forum/forumdisplay.php?f=50\">美國綜合</a>] <a class=\"link_font\" href=\"https://www.backpackers.com.tw/forum/showthread.php?t=10469931\">關於心理/精神疾病 K1簽證</a><span style=\"color:#9a9ba3;font-size: 11px;\"> 17h</span></div><div class=\"links\">[<a class=\"link_font\" href=\"https://www.backpackers.com.tw/forum/forumdisplay.php?f=50\">美國綜合</a>] <a class=\"link_font\" href=\"https://www.backpackers.com.tw/forum/showthread.php?t=10469892\">疫苗白卡如何換WHO要求的黃卡</a><span style=\"color:#9a9ba3;font-size: 11px;\"> 18h</span></div><div class=\"links\">[<a class=\"link_font\" href=\"https://www.backpackers.com.tw/forum/forumdisplay.php?f=50\">美國綜合</a>] <a class=\"link_font\" href=\"https://www.backpackers.com.tw/forum/showthread.php?t=10469930\">B1/B2美簽180天適用問題</a><span style=\"color:#9a9ba3;font-size: 11px;\"> 18h</span></div><div class=\"links\">[<a class=\"link_font\" href=\"https://www.backpackers.com.tw/forum/forumdisplay.php?f=45\">印度</a>] <a class=\"link_font\" href=\"https://www.backpackers.com.tw/forum/showthread.php?t=10469858\">印度是背包客的最後試煉場</a><span style=\"color:#9a9ba3;font-size: 11px;\"> 1d</span></div><div class=\"links\">[<a class=\"link_font\" href=\"https://www.backpackers.com.tw/forum/forumdisplay.php?f=50\">美國綜合</a>] <a class=\"link_font\" href=\"https://www.backpackers.com.tw/forum/showthread.php?t=10469908\">ESTA 入境兩個月，回台計畫申請語言學校及學生簽證，隔三個月後在來讀書</a><span style=\"color:#9a9ba3;font-size: 11px;\"> 1d</span></div>\n",
        "\t\t\t</div>\n",
        "</body></html>'''"
      ],
      "execution_count": 1,
      "outputs": []
    },
    {
      "cell_type": "code",
      "metadata": {
        "id": "7z3wzLZ0GRro"
      },
      "source": [
        "from bs4 import BeautifulSoup\n",
        "soup = BeautifulSoup(html, 'lxml')\n",
        "\n",
        "# 請完成以下程式\n",
        "answer = []"
      ],
      "execution_count": 2,
      "outputs": []
    },
    {
      "cell_type": "code",
      "metadata": {
        "id": "FwG0pPJhGRrp",
        "cellView": "form"
      },
      "source": [
        "#@markdown 檢視答案\n",
        "\n",
        "answer2 = [e.text for e in soup.select('.links')]\n",
        "if answer2 == answer:\n",
        "  print('答案正確')\n",
        "else:\n",
        "  print('答案不正確歐，再想想還有哪邊要修改')"
      ],
      "execution_count": null,
      "outputs": []
    }
  ]
}