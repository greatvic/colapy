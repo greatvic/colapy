{
 "cells": [
  {
   "cell_type": "markdown",
   "id": "9fa9a12f",
   "metadata": {},
   "source": [
    "## 練習題 1\n",
    "\n",
    "請啟用 playwright 瀏覽Hotels.com (https://tw.hotels.com/) 網站的資料，查詢12/11~12/12 礁溪寒沐酒店是否有兩位大人的空房間，並將playwright 產生的程式碼寫入hotels.py 之中"
   ]
  },
  {
   "cell_type": "markdown",
   "id": "662c0054",
   "metadata": {},
   "source": [
    "## 練習題 2\n",
    "請修改以下程式碼，讓我們能夠瀏覽到底 12月 有哪個週末我們可以訂到礁溪老爺酒店的房間?"
   ]
  },
  {
   "cell_type": "code",
   "execution_count": null,
   "id": "34efb942",
   "metadata": {},
   "outputs": [],
   "source": [
    "from playwright.sync_api import Playwright, sync_playwright\n",
    "from datetime import date, datetime, timedelta\n",
    "\n",
    "\n",
    "page_url = \"https://tw.hotels.com/ho620495360/?q-check-in={}&q-check-out={}&q-rooms=1&q-room-0-adults=2&q-room-0-children=0&sort-order=BEST_SELLER\"\n",
    "\n",
    "def run(playwright: Playwright) -> None:\n",
    "    browser = playwright.webkit.launch(headless=False)\n",
    "    context = browser.new_context()\n",
    "\n",
    "    # Open new page\n",
    "    page = context.new_page()\n",
    "\n",
    "    sdate = date(2021,11, 6)\n",
    "    edate = date(2021,11, 7)\n",
    "    for i in range(0,4):\n",
    "        sdt = sdate + timedelta(days = i * 7)\n",
    "        edt = edate + timedelta(days = i * 7)\n",
    "        page.goto(page_url.format(sdt, edt))\n",
    "        page.screenshot(path = '{}_{}.png'.format(sdt, edt))\n",
    "    \n",
    "    # ---------------------\n",
    "    context.close()\n",
    "    browser.close()\n",
    "\n",
    "\n",
    "with sync_playwright() as playwright:\n",
    "    run(playwright)\n"
   ]
  },
  {
   "cell_type": "markdown",
   "id": "3a810e14",
   "metadata": {},
   "source": [
    "## 練習題 3\n",
    "請修改以下程式碼，讓我們能夠瀏覽到底 12月 各週末[礁溪老爺酒店」的房間個要花多少錢?"
   ]
  },
  {
   "cell_type": "code",
   "execution_count": null,
   "id": "b5551e78",
   "metadata": {},
   "outputs": [],
   "source": [
    "from playwright.sync_api import Playwright, sync_playwright\n",
    "from bs4 import BeautifulSoup\n",
    "from datetime import datetime, timedelta\n",
    "import time\n",
    "\n",
    "page_url = \"https://tw.hotels.com/search.do?destination-id=1639064&q-check-in={}&q-check-out={}&q-rooms=1&q-room-0-adults=2&q-room-0-children=0&f-name={}&sort-order=BEST_SELLER\"\n",
    "\n",
    "def getWeekend(start_date, end_date):\n",
    "    sdate = datetime.strptime(start_date, '%Y-%m-%d')\n",
    "    edate = datetime.strptime(end_date, '%Y-%m-%d')\n",
    "    delta = edate - sdate\n",
    "    weekends = []\n",
    "    for i in range(delta.days + 1):\n",
    "        day = sdate + timedelta(days=i)\n",
    "        if (day.strftime('%w') == '6'):\n",
    "            weekends.append((day.strftime('%Y-%m-%d'), (day + timedelta(days=1)).strftime('%Y-%m-%d')) )\n",
    "    return weekends\n",
    "\n",
    "def run(playwright: Playwright) -> None:\n",
    "    browser = playwright.webkit.launch(headless=False)\n",
    "    context = browser.new_context()\n",
    "    # Open new page\n",
    "    page = context.new_page()\n",
    "    weekends = getWeekend('2021-11-01', '2021-12-01')\n",
    "    for sdate, edate in weekends:\n",
    "        page.goto(page_url.format(sdate,edate,'礁溪寒沐酒店, 礁溪, 台灣'))\n",
    "        time.sleep(3)\n",
    "        soup = BeautifulSoup(page.content(), 'lxml')\n",
    "        price = soup.select_one('li[data-hotel-id] span[dir=\"auto\"]')\n",
    "        if price:\n",
    "            print(sdate,edate,price.text)\n",
    "\n",
    "    context.close()\n",
    "    browser.close()\n",
    "with sync_playwright() as playwright:\n",
    "    run(playwright)"
   ]
  }
 ],
 "metadata": {
  "kernelspec": {
   "display_name": "Python 3 (ipykernel)",
   "language": "python",
   "name": "python3"
  },
  "language_info": {
   "codemirror_mode": {
    "name": "ipython",
    "version": 3
   },
   "file_extension": ".py",
   "mimetype": "text/x-python",
   "name": "python",
   "nbconvert_exporter": "python",
   "pygments_lexer": "ipython3",
   "version": "3.8.10"
  }
 },
 "nbformat": 4,
 "nbformat_minor": 5
}
