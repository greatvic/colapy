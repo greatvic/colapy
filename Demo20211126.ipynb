{
 "cells": [
  {
   "cell_type": "markdown",
   "id": "a8719fa8",
   "metadata": {},
   "source": [
    "## 語音辨識"
   ]
  },
  {
   "cell_type": "code",
   "execution_count": 24,
   "id": "8b3adc68",
   "metadata": {},
   "outputs": [
    {
     "name": "stdout",
     "output_type": "stream",
     "text": [
      "Requirement already satisfied: SpeechRecognition in /Users/david/.pyenv/versions/3.8.10/lib/python3.8/site-packages (3.8.1)\n",
      "\u001b[33mWARNING: You are using pip version 21.1.1; however, version 21.3.1 is available.\n",
      "You should consider upgrading via the '/Users/david/.pyenv/versions/3.8.10/bin/python3.8 -m pip install --upgrade pip' command.\u001b[0m\n"
     ]
    }
   ],
   "source": [
    "! pip install SpeechRecognition"
   ]
  },
  {
   "cell_type": "code",
   "execution_count": 25,
   "id": "908ed16f",
   "metadata": {},
   "outputs": [
    {
     "name": "stdout",
     "output_type": "stream",
     "text": [
      "Requirement already satisfied: PyAudio in /Users/david/.pyenv/versions/3.8.10/lib/python3.8/site-packages (0.2.11)\n",
      "\u001b[33mWARNING: You are using pip version 21.1.1; however, version 21.3.1 is available.\n",
      "You should consider upgrading via the '/Users/david/.pyenv/versions/3.8.10/bin/python3.8 -m pip install --upgrade pip' command.\u001b[0m\n"
     ]
    }
   ],
   "source": [
    "! pip install PyAudio"
   ]
  },
  {
   "cell_type": "code",
   "execution_count": 26,
   "id": "cde0957b",
   "metadata": {},
   "outputs": [
    {
     "name": "stdout",
     "output_type": "stream",
     "text": [
      "Say something!\n",
      "大家好今天很高興來到貴寶地\n"
     ]
    }
   ],
   "source": [
    "import speech_recognition as sr\n",
    "\n",
    "# obtain audio from the microphone\n",
    "r = sr.Recognizer()\n",
    "with sr.Microphone() as source:\n",
    "    print(\"Say something!\")\n",
    "    audio = r.listen(source)\n",
    "\n",
    "print(r.recognize_google(audio, language= 'zh-TW'))"
   ]
  },
  {
   "cell_type": "code",
   "execution_count": 4,
   "id": "72e5d9f7",
   "metadata": {},
   "outputs": [],
   "source": [
    "?r.recognize_google"
   ]
  },
  {
   "cell_type": "markdown",
   "id": "30394a65",
   "metadata": {},
   "source": [
    "## 文字轉語音"
   ]
  },
  {
   "cell_type": "code",
   "execution_count": 6,
   "id": "86d63bf8",
   "metadata": {
    "collapsed": true
   },
   "outputs": [
    {
     "name": "stdout",
     "output_type": "stream",
     "text": [
      "Requirement already satisfied: pyttsx3 in /Users/david/.pyenv/versions/3.8.10/lib/python3.8/site-packages (2.90)\n",
      "Requirement already satisfied: pyobjc>=2.4 in /Users/david/.pyenv/versions/3.8.10/lib/python3.8/site-packages (from pyttsx3) (7.3)\n",
      "Requirement already satisfied: pyobjc-framework-CoreWLAN==7.3 in /Users/david/.pyenv/versions/3.8.10/lib/python3.8/site-packages (from pyobjc>=2.4->pyttsx3) (7.3)\n",
      "Requirement already satisfied: pyobjc-framework-SecurityInterface==7.3 in /Users/david/.pyenv/versions/3.8.10/lib/python3.8/site-packages (from pyobjc>=2.4->pyttsx3) (7.3)\n",
      "Requirement already satisfied: pyobjc-framework-AppleScriptObjC==7.3 in /Users/david/.pyenv/versions/3.8.10/lib/python3.8/site-packages (from pyobjc>=2.4->pyttsx3) (7.3)\n",
      "Requirement already satisfied: pyobjc-framework-CoreMediaIO==7.3 in /Users/david/.pyenv/versions/3.8.10/lib/python3.8/site-packages (from pyobjc>=2.4->pyttsx3) (7.3)\n",
      "Requirement already satisfied: pyobjc-framework-LatentSemanticMapping==7.3 in /Users/david/.pyenv/versions/3.8.10/lib/python3.8/site-packages (from pyobjc>=2.4->pyttsx3) (7.3)\n",
      "Requirement already satisfied: pyobjc-framework-SecurityFoundation==7.3 in /Users/david/.pyenv/versions/3.8.10/lib/python3.8/site-packages (from pyobjc>=2.4->pyttsx3) (7.3)\n",
      "Requirement already satisfied: pyobjc-framework-Network==7.3 in /Users/david/.pyenv/versions/3.8.10/lib/python3.8/site-packages (from pyobjc>=2.4->pyttsx3) (7.3)\n",
      "Requirement already satisfied: pyobjc-framework-MapKit==7.3 in /Users/david/.pyenv/versions/3.8.10/lib/python3.8/site-packages (from pyobjc>=2.4->pyttsx3) (7.3)\n",
      "Requirement already satisfied: pyobjc-framework-KernelManagement==7.3 in /Users/david/.pyenv/versions/3.8.10/lib/python3.8/site-packages (from pyobjc>=2.4->pyttsx3) (7.3)\n",
      "Requirement already satisfied: pyobjc-framework-FSEvents==7.3 in /Users/david/.pyenv/versions/3.8.10/lib/python3.8/site-packages (from pyobjc>=2.4->pyttsx3) (7.3)\n",
      "Requirement already satisfied: pyobjc-framework-CoreAudio==7.3 in /Users/david/.pyenv/versions/3.8.10/lib/python3.8/site-packages (from pyobjc>=2.4->pyttsx3) (7.3)\n",
      "Requirement already satisfied: pyobjc-framework-LaunchServices==7.3 in /Users/david/.pyenv/versions/3.8.10/lib/python3.8/site-packages (from pyobjc>=2.4->pyttsx3) (7.3)\n",
      "Requirement already satisfied: pyobjc-framework-SyncServices==7.3 in /Users/david/.pyenv/versions/3.8.10/lib/python3.8/site-packages (from pyobjc>=2.4->pyttsx3) (7.3)\n",
      "Requirement already satisfied: pyobjc-core==7.3 in /Users/david/.pyenv/versions/3.8.10/lib/python3.8/site-packages (from pyobjc>=2.4->pyttsx3) (7.3)\n",
      "Requirement already satisfied: pyobjc-framework-MultipeerConnectivity==7.3 in /Users/david/.pyenv/versions/3.8.10/lib/python3.8/site-packages (from pyobjc>=2.4->pyttsx3) (7.3)\n",
      "Requirement already satisfied: pyobjc-framework-SystemExtensions==7.3 in /Users/david/.pyenv/versions/3.8.10/lib/python3.8/site-packages (from pyobjc>=2.4->pyttsx3) (7.3)\n",
      "Requirement already satisfied: pyobjc-framework-FileProvider==7.3 in /Users/david/.pyenv/versions/3.8.10/lib/python3.8/site-packages (from pyobjc>=2.4->pyttsx3) (7.3)\n",
      "Requirement already satisfied: pyobjc-framework-CloudKit==7.3 in /Users/david/.pyenv/versions/3.8.10/lib/python3.8/site-packages (from pyobjc>=2.4->pyttsx3) (7.3)\n",
      "Requirement already satisfied: pyobjc-framework-MediaPlayer==7.3 in /Users/david/.pyenv/versions/3.8.10/lib/python3.8/site-packages (from pyobjc>=2.4->pyttsx3) (7.3)\n",
      "Requirement already satisfied: pyobjc-framework-MetalKit==7.3 in /Users/david/.pyenv/versions/3.8.10/lib/python3.8/site-packages (from pyobjc>=2.4->pyttsx3) (7.3)\n",
      "Requirement already satisfied: pyobjc-framework-QuickLookThumbnailing==7.3 in /Users/david/.pyenv/versions/3.8.10/lib/python3.8/site-packages (from pyobjc>=2.4->pyttsx3) (7.3)\n",
      "Requirement already satisfied: pyobjc-framework-UserNotifications==7.3 in /Users/david/.pyenv/versions/3.8.10/lib/python3.8/site-packages (from pyobjc>=2.4->pyttsx3) (7.3)\n",
      "Requirement already satisfied: pyobjc-framework-CoreServices==7.3 in /Users/david/.pyenv/versions/3.8.10/lib/python3.8/site-packages (from pyobjc>=2.4->pyttsx3) (7.3)\n",
      "Requirement already satisfied: pyobjc-framework-Vision==7.3 in /Users/david/.pyenv/versions/3.8.10/lib/python3.8/site-packages (from pyobjc>=2.4->pyttsx3) (7.3)\n",
      "Requirement already satisfied: pyobjc-framework-AuthenticationServices==7.3 in /Users/david/.pyenv/versions/3.8.10/lib/python3.8/site-packages (from pyobjc>=2.4->pyttsx3) (7.3)\n",
      "Requirement already satisfied: pyobjc-framework-VideoSubscriberAccount==7.3 in /Users/david/.pyenv/versions/3.8.10/lib/python3.8/site-packages (from pyobjc>=2.4->pyttsx3) (7.3)\n",
      "Requirement already satisfied: pyobjc-framework-MLCompute==7.3 in /Users/david/.pyenv/versions/3.8.10/lib/python3.8/site-packages (from pyobjc>=2.4->pyttsx3) (7.3)\n",
      "Requirement already satisfied: pyobjc-framework-Contacts==7.3 in /Users/david/.pyenv/versions/3.8.10/lib/python3.8/site-packages (from pyobjc>=2.4->pyttsx3) (7.3)\n",
      "Requirement already satisfied: pyobjc-framework-SearchKit==7.3 in /Users/david/.pyenv/versions/3.8.10/lib/python3.8/site-packages (from pyobjc>=2.4->pyttsx3) (7.3)\n",
      "Requirement already satisfied: pyobjc-framework-DeviceCheck==7.3 in /Users/david/.pyenv/versions/3.8.10/lib/python3.8/site-packages (from pyobjc>=2.4->pyttsx3) (7.3)\n",
      "Requirement already satisfied: pyobjc-framework-MediaAccessibility==7.3 in /Users/david/.pyenv/versions/3.8.10/lib/python3.8/site-packages (from pyobjc>=2.4->pyttsx3) (7.3)\n",
      "Requirement already satisfied: pyobjc-framework-MediaLibrary==7.3 in /Users/david/.pyenv/versions/3.8.10/lib/python3.8/site-packages (from pyobjc>=2.4->pyttsx3) (7.3)\n",
      "Requirement already satisfied: pyobjc-framework-ServiceManagement==7.3 in /Users/david/.pyenv/versions/3.8.10/lib/python3.8/site-packages (from pyobjc>=2.4->pyttsx3) (7.3)\n",
      "Requirement already satisfied: pyobjc-framework-Quartz==7.3 in /Users/david/.pyenv/versions/3.8.10/lib/python3.8/site-packages (from pyobjc>=2.4->pyttsx3) (7.3)\n",
      "Requirement already satisfied: pyobjc-framework-ColorSync==7.3 in /Users/david/.pyenv/versions/3.8.10/lib/python3.8/site-packages (from pyobjc>=2.4->pyttsx3) (7.3)\n",
      "Requirement already satisfied: pyobjc-framework-VideoToolbox==7.3 in /Users/david/.pyenv/versions/3.8.10/lib/python3.8/site-packages (from pyobjc>=2.4->pyttsx3) (7.3)\n",
      "Requirement already satisfied: pyobjc-framework-ClassKit==7.3 in /Users/david/.pyenv/versions/3.8.10/lib/python3.8/site-packages (from pyobjc>=2.4->pyttsx3) (7.3)\n",
      "Requirement already satisfied: pyobjc-framework-PassKit==7.3 in /Users/david/.pyenv/versions/3.8.10/lib/python3.8/site-packages (from pyobjc>=2.4->pyttsx3) (7.3)\n",
      "Requirement already satisfied: pyobjc-framework-AdServices==7.3 in /Users/david/.pyenv/versions/3.8.10/lib/python3.8/site-packages (from pyobjc>=2.4->pyttsx3) (7.3)\n",
      "Requirement already satisfied: pyobjc-framework-AutomaticAssessmentConfiguration==7.3 in /Users/david/.pyenv/versions/3.8.10/lib/python3.8/site-packages (from pyobjc>=2.4->pyttsx3) (7.3)\n",
      "Requirement already satisfied: pyobjc-framework-ScreenTime==7.3 in /Users/david/.pyenv/versions/3.8.10/lib/python3.8/site-packages (from pyobjc>=2.4->pyttsx3) (7.3)\n",
      "Requirement already satisfied: pyobjc-framework-NaturalLanguage==7.3 in /Users/david/.pyenv/versions/3.8.10/lib/python3.8/site-packages (from pyobjc>=2.4->pyttsx3) (7.3)\n",
      "Requirement already satisfied: pyobjc-framework-Accessibility==7.3 in /Users/david/.pyenv/versions/3.8.10/lib/python3.8/site-packages (from pyobjc>=2.4->pyttsx3) (7.3)\n",
      "Requirement already satisfied: pyobjc-framework-GameController==7.3 in /Users/david/.pyenv/versions/3.8.10/lib/python3.8/site-packages (from pyobjc>=2.4->pyttsx3) (7.3)\n",
      "Requirement already satisfied: pyobjc-framework-MetalPerformanceShaders==7.3 in /Users/david/.pyenv/versions/3.8.10/lib/python3.8/site-packages (from pyobjc>=2.4->pyttsx3) (7.3)\n",
      "Requirement already satisfied: pyobjc-framework-CoreMIDI==7.3 in /Users/david/.pyenv/versions/3.8.10/lib/python3.8/site-packages (from pyobjc>=2.4->pyttsx3) (7.3)\n",
      "Requirement already satisfied: pyobjc-framework-AddressBook==7.3 in /Users/david/.pyenv/versions/3.8.10/lib/python3.8/site-packages (from pyobjc>=2.4->pyttsx3) (7.3)\n",
      "Requirement already satisfied: pyobjc-framework-IMServicePlugIn==7.3 in /Users/david/.pyenv/versions/3.8.10/lib/python3.8/site-packages (from pyobjc>=2.4->pyttsx3) (7.3)\n",
      "Requirement already satisfied: pyobjc-framework-AppleScriptKit==7.3 in /Users/david/.pyenv/versions/3.8.10/lib/python3.8/site-packages (from pyobjc>=2.4->pyttsx3) (7.3)\n"
     ]
    },
    {
     "name": "stdout",
     "output_type": "stream",
     "text": [
      "Requirement already satisfied: pyobjc-framework-ApplicationServices==7.3 in /Users/david/.pyenv/versions/3.8.10/lib/python3.8/site-packages (from pyobjc>=2.4->pyttsx3) (7.3)\n",
      "Requirement already satisfied: pyobjc-framework-ModelIO==7.3 in /Users/david/.pyenv/versions/3.8.10/lib/python3.8/site-packages (from pyobjc>=2.4->pyttsx3) (7.3)\n",
      "Requirement already satisfied: pyobjc-framework-CoreText==7.3 in /Users/david/.pyenv/versions/3.8.10/lib/python3.8/site-packages (from pyobjc>=2.4->pyttsx3) (7.3)\n",
      "Requirement already satisfied: pyobjc-framework-ExceptionHandling==7.3 in /Users/david/.pyenv/versions/3.8.10/lib/python3.8/site-packages (from pyobjc>=2.4->pyttsx3) (7.3)\n",
      "Requirement already satisfied: pyobjc-framework-DVDPlayback==7.3 in /Users/david/.pyenv/versions/3.8.10/lib/python3.8/site-packages (from pyobjc>=2.4->pyttsx3) (7.3)\n",
      "Requirement already satisfied: pyobjc-framework-GameCenter==7.3 in /Users/david/.pyenv/versions/3.8.10/lib/python3.8/site-packages (from pyobjc>=2.4->pyttsx3) (7.3)\n",
      "Requirement already satisfied: pyobjc-framework-BusinessChat==7.3 in /Users/david/.pyenv/versions/3.8.10/lib/python3.8/site-packages (from pyobjc>=2.4->pyttsx3) (7.3)\n",
      "Requirement already satisfied: pyobjc-framework-InputMethodKit==7.3 in /Users/david/.pyenv/versions/3.8.10/lib/python3.8/site-packages (from pyobjc>=2.4->pyttsx3) (7.3)\n",
      "Requirement already satisfied: pyobjc-framework-SystemConfiguration==7.3 in /Users/david/.pyenv/versions/3.8.10/lib/python3.8/site-packages (from pyobjc>=2.4->pyttsx3) (7.3)\n",
      "Requirement already satisfied: pyobjc-framework-Cocoa==7.3 in /Users/david/.pyenv/versions/3.8.10/lib/python3.8/site-packages (from pyobjc>=2.4->pyttsx3) (7.3)\n",
      "Requirement already satisfied: pyobjc-framework-UserNotificationsUI==7.3 in /Users/david/.pyenv/versions/3.8.10/lib/python3.8/site-packages (from pyobjc>=2.4->pyttsx3) (7.3)\n",
      "Requirement already satisfied: pyobjc-framework-ContactsUI==7.3 in /Users/david/.pyenv/versions/3.8.10/lib/python3.8/site-packages (from pyobjc>=2.4->pyttsx3) (7.3)\n",
      "Requirement already satisfied: pyobjc-framework-OSLog==7.3 in /Users/david/.pyenv/versions/3.8.10/lib/python3.8/site-packages (from pyobjc>=2.4->pyttsx3) (7.3)\n",
      "Requirement already satisfied: pyobjc-framework-AVFoundation==7.3 in /Users/david/.pyenv/versions/3.8.10/lib/python3.8/site-packages (from pyobjc>=2.4->pyttsx3) (7.3)\n",
      "Requirement already satisfied: pyobjc-framework-AVKit==7.3 in /Users/david/.pyenv/versions/3.8.10/lib/python3.8/site-packages (from pyobjc>=2.4->pyttsx3) (7.3)\n",
      "Requirement already satisfied: pyobjc-framework-CallKit==7.3 in /Users/david/.pyenv/versions/3.8.10/lib/python3.8/site-packages (from pyobjc>=2.4->pyttsx3) (7.3)\n",
      "Requirement already satisfied: pyobjc-framework-SpriteKit==7.3 in /Users/david/.pyenv/versions/3.8.10/lib/python3.8/site-packages (from pyobjc>=2.4->pyttsx3) (7.3)\n",
      "Requirement already satisfied: pyobjc-framework-ScreenSaver==7.3 in /Users/david/.pyenv/versions/3.8.10/lib/python3.8/site-packages (from pyobjc>=2.4->pyttsx3) (7.3)\n",
      "Requirement already satisfied: pyobjc-framework-FileProviderUI==7.3 in /Users/david/.pyenv/versions/3.8.10/lib/python3.8/site-packages (from pyobjc>=2.4->pyttsx3) (7.3)\n",
      "Requirement already satisfied: pyobjc-framework-CoreMedia==7.3 in /Users/david/.pyenv/versions/3.8.10/lib/python3.8/site-packages (from pyobjc>=2.4->pyttsx3) (7.3)\n",
      "Requirement already satisfied: pyobjc-framework-CalendarStore==7.3 in /Users/david/.pyenv/versions/3.8.10/lib/python3.8/site-packages (from pyobjc>=2.4->pyttsx3) (7.3)\n",
      "Requirement already satisfied: pyobjc-framework-Collaboration==7.3 in /Users/david/.pyenv/versions/3.8.10/lib/python3.8/site-packages (from pyobjc>=2.4->pyttsx3) (7.3)\n",
      "Requirement already satisfied: pyobjc-framework-SceneKit==7.3 in /Users/david/.pyenv/versions/3.8.10/lib/python3.8/site-packages (from pyobjc>=2.4->pyttsx3) (7.3)\n",
      "Requirement already satisfied: pyobjc-framework-Speech==7.3 in /Users/david/.pyenv/versions/3.8.10/lib/python3.8/site-packages (from pyobjc>=2.4->pyttsx3) (7.3)\n",
      "Requirement already satisfied: pyobjc-framework-LinkPresentation==7.3 in /Users/david/.pyenv/versions/3.8.10/lib/python3.8/site-packages (from pyobjc>=2.4->pyttsx3) (7.3)\n",
      "Requirement already satisfied: pyobjc-framework-DictionaryServices==7.3 in /Users/david/.pyenv/versions/3.8.10/lib/python3.8/site-packages (from pyobjc>=2.4->pyttsx3) (7.3)\n",
      "Requirement already satisfied: pyobjc-framework-SafariServices==7.3 in /Users/david/.pyenv/versions/3.8.10/lib/python3.8/site-packages (from pyobjc>=2.4->pyttsx3) (7.3)\n",
      "Requirement already satisfied: pyobjc-framework-InstantMessage==7.3 in /Users/david/.pyenv/versions/3.8.10/lib/python3.8/site-packages (from pyobjc>=2.4->pyttsx3) (7.3)\n",
      "Requirement already satisfied: pyobjc-framework-iTunesLibrary==7.3 in /Users/david/.pyenv/versions/3.8.10/lib/python3.8/site-packages (from pyobjc>=2.4->pyttsx3) (7.3)\n",
      "Requirement already satisfied: pyobjc-framework-DiscRecordingUI==7.3 in /Users/david/.pyenv/versions/3.8.10/lib/python3.8/site-packages (from pyobjc>=2.4->pyttsx3) (7.3)\n",
      "Requirement already satisfied: pyobjc-framework-CoreLocation==7.3 in /Users/david/.pyenv/versions/3.8.10/lib/python3.8/site-packages (from pyobjc>=2.4->pyttsx3) (7.3)\n",
      "Requirement already satisfied: pyobjc-framework-UniformTypeIdentifiers==7.3 in /Users/david/.pyenv/versions/3.8.10/lib/python3.8/site-packages (from pyobjc>=2.4->pyttsx3) (7.3)\n",
      "Requirement already satisfied: pyobjc-framework-CoreAudioKit==7.3 in /Users/david/.pyenv/versions/3.8.10/lib/python3.8/site-packages (from pyobjc>=2.4->pyttsx3) (7.3)\n",
      "Requirement already satisfied: pyobjc-framework-IOSurface==7.3 in /Users/david/.pyenv/versions/3.8.10/lib/python3.8/site-packages (from pyobjc>=2.4->pyttsx3) (7.3)\n",
      "Requirement already satisfied: pyobjc-framework-WebKit==7.3 in /Users/david/.pyenv/versions/3.8.10/lib/python3.8/site-packages (from pyobjc>=2.4->pyttsx3) (7.3)\n",
      "Requirement already satisfied: pyobjc-framework-CoreData==7.3 in /Users/david/.pyenv/versions/3.8.10/lib/python3.8/site-packages (from pyobjc>=2.4->pyttsx3) (7.3)\n",
      "Requirement already satisfied: pyobjc-framework-StoreKit==7.3 in /Users/david/.pyenv/versions/3.8.10/lib/python3.8/site-packages (from pyobjc>=2.4->pyttsx3) (7.3)\n",
      "Requirement already satisfied: pyobjc-framework-Metal==7.3 in /Users/david/.pyenv/versions/3.8.10/lib/python3.8/site-packages (from pyobjc>=2.4->pyttsx3) (7.3)\n",
      "Requirement already satisfied: pyobjc-framework-EventKit==7.3 in /Users/david/.pyenv/versions/3.8.10/lib/python3.8/site-packages (from pyobjc>=2.4->pyttsx3) (7.3)\n",
      "Requirement already satisfied: pyobjc-framework-Social==7.3 in /Users/david/.pyenv/versions/3.8.10/lib/python3.8/site-packages (from pyobjc>=2.4->pyttsx3) (7.3)\n",
      "Requirement already satisfied: pyobjc-framework-OpenDirectory==7.3 in /Users/david/.pyenv/versions/3.8.10/lib/python3.8/site-packages (from pyobjc>=2.4->pyttsx3) (7.3)\n",
      "Requirement already satisfied: pyobjc-framework-PhotosUI==7.3 in /Users/david/.pyenv/versions/3.8.10/lib/python3.8/site-packages (from pyobjc>=2.4->pyttsx3) (7.3)\n",
      "Requirement already satisfied: pyobjc-framework-libdispatch==7.3 in /Users/david/.pyenv/versions/3.8.10/lib/python3.8/site-packages (from pyobjc>=2.4->pyttsx3) (7.3)\n",
      "Requirement already satisfied: pyobjc-framework-ReplayKit==7.3 in /Users/david/.pyenv/versions/3.8.10/lib/python3.8/site-packages (from pyobjc>=2.4->pyttsx3) (7.3)\n",
      "Requirement already satisfied: pyobjc-framework-OSAKit==7.3 in /Users/david/.pyenv/versions/3.8.10/lib/python3.8/site-packages (from pyobjc>=2.4->pyttsx3) (7.3)\n",
      "Requirement already satisfied: pyobjc-framework-Accounts==7.3 in /Users/david/.pyenv/versions/3.8.10/lib/python3.8/site-packages (from pyobjc>=2.4->pyttsx3) (7.3)\n",
      "Requirement already satisfied: pyobjc-framework-PushKit==7.3 in /Users/david/.pyenv/versions/3.8.10/lib/python3.8/site-packages (from pyobjc>=2.4->pyttsx3) (7.3)\n",
      "Requirement already satisfied: pyobjc-framework-NetworkExtension==7.3 in /Users/david/.pyenv/versions/3.8.10/lib/python3.8/site-packages (from pyobjc>=2.4->pyttsx3) (7.3)\n",
      "Requirement already satisfied: pyobjc-framework-Virtualization==7.3 in /Users/david/.pyenv/versions/3.8.10/lib/python3.8/site-packages (from pyobjc>=2.4->pyttsx3) (7.3)\n",
      "Requirement already satisfied: pyobjc-framework-Photos==7.3 in /Users/david/.pyenv/versions/3.8.10/lib/python3.8/site-packages (from pyobjc>=2.4->pyttsx3) (7.3)\n",
      "Requirement already satisfied: pyobjc-framework-CoreMotion==7.3 in /Users/david/.pyenv/versions/3.8.10/lib/python3.8/site-packages (from pyobjc>=2.4->pyttsx3) (7.3)\n",
      "Requirement already satisfied: pyobjc-framework-AppTrackingTransparency==7.3 in /Users/david/.pyenv/versions/3.8.10/lib/python3.8/site-packages (from pyobjc>=2.4->pyttsx3) (7.3)\n",
      "Requirement already satisfied: pyobjc-framework-NotificationCenter==7.3 in /Users/david/.pyenv/versions/3.8.10/lib/python3.8/site-packages (from pyobjc>=2.4->pyttsx3) (7.3)\n",
      "Requirement already satisfied: pyobjc-framework-CoreSpotlight==7.3 in /Users/david/.pyenv/versions/3.8.10/lib/python3.8/site-packages (from pyobjc>=2.4->pyttsx3) (7.3)\n",
      "Requirement already satisfied: pyobjc-framework-MediaToolbox==7.3 in /Users/david/.pyenv/versions/3.8.10/lib/python3.8/site-packages (from pyobjc>=2.4->pyttsx3) (7.3)\n",
      "Requirement already satisfied: pyobjc-framework-SoundAnalysis==7.3 in /Users/david/.pyenv/versions/3.8.10/lib/python3.8/site-packages (from pyobjc>=2.4->pyttsx3) (7.3)\n",
      "Requirement already satisfied: pyobjc-framework-CryptoTokenKit==7.3 in /Users/david/.pyenv/versions/3.8.10/lib/python3.8/site-packages (from pyobjc>=2.4->pyttsx3) (7.3)\n",
      "Requirement already satisfied: pyobjc-framework-CoreML==7.3 in /Users/david/.pyenv/versions/3.8.10/lib/python3.8/site-packages (from pyobjc>=2.4->pyttsx3) (7.3)\n",
      "Requirement already satisfied: pyobjc-framework-MetalPerformanceShadersGraph==7.3 in /Users/david/.pyenv/versions/3.8.10/lib/python3.8/site-packages (from pyobjc>=2.4->pyttsx3) (7.3)\n",
      "Requirement already satisfied: pyobjc-framework-CFNetwork==7.3 in /Users/david/.pyenv/versions/3.8.10/lib/python3.8/site-packages (from pyobjc>=2.4->pyttsx3) (7.3)\n",
      "Requirement already satisfied: pyobjc-framework-ExternalAccessory==7.3 in /Users/david/.pyenv/versions/3.8.10/lib/python3.8/site-packages (from pyobjc>=2.4->pyttsx3) (7.3)\n",
      "Requirement already satisfied: pyobjc-framework-ExecutionPolicy==7.3 in /Users/david/.pyenv/versions/3.8.10/lib/python3.8/site-packages (from pyobjc>=2.4->pyttsx3) (7.3)\n",
      "Requirement already satisfied: pyobjc-framework-GameKit==7.3 in /Users/david/.pyenv/versions/3.8.10/lib/python3.8/site-packages (from pyobjc>=2.4->pyttsx3) (7.3)\n",
      "Requirement already satisfied: pyobjc-framework-ScriptingBridge==7.3 in /Users/david/.pyenv/versions/3.8.10/lib/python3.8/site-packages (from pyobjc>=2.4->pyttsx3) (7.3)\n"
     ]
    },
    {
     "name": "stdout",
     "output_type": "stream",
     "text": [
      "Requirement already satisfied: pyobjc-framework-Automator==7.3 in /Users/david/.pyenv/versions/3.8.10/lib/python3.8/site-packages (from pyobjc>=2.4->pyttsx3) (7.3)\n",
      "Requirement already satisfied: pyobjc-framework-Security==7.3 in /Users/david/.pyenv/versions/3.8.10/lib/python3.8/site-packages (from pyobjc>=2.4->pyttsx3) (7.3)\n",
      "Requirement already satisfied: pyobjc-framework-DiskArbitration==7.3 in /Users/david/.pyenv/versions/3.8.10/lib/python3.8/site-packages (from pyobjc>=2.4->pyttsx3) (7.3)\n",
      "Requirement already satisfied: pyobjc-framework-InstallerPlugins==7.3 in /Users/david/.pyenv/versions/3.8.10/lib/python3.8/site-packages (from pyobjc>=2.4->pyttsx3) (7.3)\n",
      "Requirement already satisfied: pyobjc-framework-PencilKit==7.3 in /Users/david/.pyenv/versions/3.8.10/lib/python3.8/site-packages (from pyobjc>=2.4->pyttsx3) (7.3)\n",
      "Requirement already satisfied: pyobjc-framework-AdSupport==7.3 in /Users/david/.pyenv/versions/3.8.10/lib/python3.8/site-packages (from pyobjc>=2.4->pyttsx3) (7.3)\n",
      "Requirement already satisfied: pyobjc-framework-ImageCaptureCore==7.3 in /Users/david/.pyenv/versions/3.8.10/lib/python3.8/site-packages (from pyobjc>=2.4->pyttsx3) (7.3)\n",
      "Requirement already satisfied: pyobjc-framework-CoreBluetooth==7.3 in /Users/david/.pyenv/versions/3.8.10/lib/python3.8/site-packages (from pyobjc>=2.4->pyttsx3) (7.3)\n",
      "Requirement already satisfied: pyobjc-framework-CoreHaptics==7.3 in /Users/david/.pyenv/versions/3.8.10/lib/python3.8/site-packages (from pyobjc>=2.4->pyttsx3) (7.3)\n",
      "Requirement already satisfied: pyobjc-framework-NetFS==7.3 in /Users/david/.pyenv/versions/3.8.10/lib/python3.8/site-packages (from pyobjc>=2.4->pyttsx3) (7.3)\n",
      "Requirement already satisfied: pyobjc-framework-LocalAuthentication==7.3 in /Users/david/.pyenv/versions/3.8.10/lib/python3.8/site-packages (from pyobjc>=2.4->pyttsx3) (7.3)\n",
      "Requirement already satisfied: pyobjc-framework-PreferencePanes==7.3 in /Users/david/.pyenv/versions/3.8.10/lib/python3.8/site-packages (from pyobjc>=2.4->pyttsx3) (7.3)\n",
      "Requirement already satisfied: pyobjc-framework-DiscRecording==7.3 in /Users/david/.pyenv/versions/3.8.10/lib/python3.8/site-packages (from pyobjc>=2.4->pyttsx3) (7.3)\n",
      "Requirement already satisfied: pyobjc-framework-Intents==7.3 in /Users/david/.pyenv/versions/3.8.10/lib/python3.8/site-packages (from pyobjc>=2.4->pyttsx3) (7.3)\n",
      "Requirement already satisfied: pyobjc-framework-FinderSync==7.3 in /Users/david/.pyenv/versions/3.8.10/lib/python3.8/site-packages (from pyobjc>=2.4->pyttsx3) (7.3)\n",
      "Requirement already satisfied: pyobjc-framework-GameplayKit==7.3 in /Users/david/.pyenv/versions/3.8.10/lib/python3.8/site-packages (from pyobjc>=2.4->pyttsx3) (7.3)\n",
      "\u001b[33mWARNING: You are using pip version 21.1.1; however, version 21.3.1 is available.\n",
      "You should consider upgrading via the '/Users/david/.pyenv/versions/3.8.10/bin/python3.8 -m pip install --upgrade pip' command.\u001b[0m\n"
     ]
    }
   ],
   "source": [
    "! pip install pyttsx3"
   ]
  },
  {
   "cell_type": "code",
   "execution_count": 7,
   "id": "9e311916",
   "metadata": {},
   "outputs": [],
   "source": [
    "import pyttsx3\n",
    "engine = pyttsx3.init()\n",
    "engine.say(\"I will speak this text\")\n",
    "engine.runAndWait()"
   ]
  },
  {
   "cell_type": "code",
   "execution_count": 15,
   "id": "8d221e1a",
   "metadata": {},
   "outputs": [
    {
     "name": "stdout",
     "output_type": "stream",
     "text": [
      "Voice: Alex\n",
      "Voice: Alice\n",
      "Voice: Alva\n",
      "Voice: Amelie\n",
      "Voice: Anna\n",
      "Voice: Carmit\n",
      "Voice: Damayanti\n",
      "Voice: Daniel\n",
      "Voice: Diego\n",
      "Voice: Ellen\n",
      "Voice: Fiona\n",
      "Voice: Fred\n",
      "Voice: Ioana\n",
      "Voice: Joana\n",
      "Voice: Jorge\n",
      "Voice: Juan\n",
      "Voice: Kanya\n",
      "Voice: Karen\n",
      "Voice: Kyoko\n",
      "Voice: Laura\n",
      "Voice: Lekha\n",
      "Voice: Luca\n",
      "Voice: Luciana\n",
      "Voice: Maged\n",
      "Voice: Mariska\n",
      "Voice: Mei-Jia\n",
      "Voice: Melina\n",
      "Voice: Milena\n",
      "Voice: Moira\n",
      "Voice: Monica\n",
      "Voice: Nora\n",
      "Voice: Paulina\n",
      "Voice: Rishi\n",
      "Voice: Samantha\n",
      "Voice: Sara\n",
      "Voice: Satu\n",
      "Voice: Sin-ji\n",
      "Voice: Tessa\n",
      "Voice: Thomas\n",
      "Voice: Ting-Ting\n",
      "Voice: Veena\n",
      "Voice: Victoria\n",
      "Voice: Xander\n",
      "Voice: Yelda\n",
      "Voice: Yuna\n",
      "Voice: Yuri\n",
      "Voice: Zosia\n",
      "Voice: Zuzana\n"
     ]
    }
   ],
   "source": [
    "voices = engine.getProperty('voices')\n",
    "for voice in voices:\n",
    "    print(f\"Voice: {voice.name}\")"
   ]
  },
  {
   "cell_type": "code",
   "execution_count": 22,
   "id": "10a23ea1",
   "metadata": {},
   "outputs": [],
   "source": [
    "import pyttsx3\n",
    "engine = pyttsx3.init()\n",
    "engine.say('語音合成開始')\n",
    "engine.say('我會說中文了，開森，開森')\n",
    "engine.runAndWait()"
   ]
  },
  {
   "cell_type": "code",
   "execution_count": null,
   "id": "c0945aa7",
   "metadata": {},
   "outputs": [],
   "source": [
    "! pip install pygame"
   ]
  },
  {
   "cell_type": "code",
   "execution_count": null,
   "id": "a6a31dfe",
   "metadata": {},
   "outputs": [],
   "source": [
    "! pip install gTTS"
   ]
  },
  {
   "cell_type": "code",
   "execution_count": 23,
   "id": "bfd28adf",
   "metadata": {},
   "outputs": [
    {
     "name": "stdout",
     "output_type": "stream",
     "text": [
      "pygame 2.0.1 (SDL 2.0.14, Python 3.8.10)\n",
      "Hello from the pygame community. https://www.pygame.org/contribute.html\n"
     ]
    }
   ],
   "source": [
    "from gtts import gTTS\n",
    "from pygame import mixer\n",
    "mixer.init()\n",
    "import tempfile\n",
    "\n",
    "def speak(sentence):\n",
    "    with tempfile.NamedTemporaryFile(delete=True) as fp:\n",
    "        tts = gTTS(text=sentence, lang='zh')\n",
    "        tts.save(\"{}.mp3\".format(fp.name))\n",
    "        mixer.music.load('{}.mp3'.format(fp.name))\n",
    "        mixer.music.play()\n",
    "        \n",
    "speak('今天很高興來到貴寶地')"
   ]
  },
  {
   "cell_type": "markdown",
   "id": "f047f3af",
   "metadata": {},
   "source": [
    "## 範例"
   ]
  },
  {
   "cell_type": "code",
   "execution_count": 27,
   "id": "70f099ae",
   "metadata": {},
   "outputs": [],
   "source": [
    "import speech_recognition as sr\n",
    "\n",
    "def listenTo():\n",
    "    r = sr.Recognizer()\n",
    "    with sr.Microphone() as source:\n",
    "        print(\"Say something!\")\n",
    "        audio = r.listen(source)\n",
    "    return(r.recognize_google(audio, language= 'zh-TW'))"
   ]
  },
  {
   "cell_type": "code",
   "execution_count": 29,
   "id": "e1448300",
   "metadata": {},
   "outputs": [
    {
     "name": "stdout",
     "output_type": "stream",
     "text": [
      "Say something!\n"
     ]
    }
   ],
   "source": [
    "speak(listenTo())"
   ]
  },
  {
   "cell_type": "markdown",
   "id": "08e8132d",
   "metadata": {},
   "source": [
    "## Playwright"
   ]
  },
  {
   "cell_type": "code",
   "execution_count": 30,
   "id": "7d19e2bb",
   "metadata": {},
   "outputs": [
    {
     "name": "stdout",
     "output_type": "stream",
     "text": [
      "Requirement already satisfied: playwright in /Users/david/.pyenv/versions/3.8.10/lib/python3.8/site-packages (1.15.3)\n",
      "Requirement already satisfied: typing-extensions in /Users/david/.pyenv/versions/3.8.10/lib/python3.8/site-packages (from playwright) (3.7.4.3)\n",
      "Requirement already satisfied: greenlet>=1.0.0 in /Users/david/.pyenv/versions/3.8.10/lib/python3.8/site-packages (from playwright) (1.1.0)\n",
      "Requirement already satisfied: pyee>=8.0.1 in /Users/david/.pyenv/versions/3.8.10/lib/python3.8/site-packages (from playwright) (8.2.2)\n",
      "Requirement already satisfied: websockets>=8.1 in /Users/david/.pyenv/versions/3.8.10/lib/python3.8/site-packages (from playwright) (9.1)\n",
      "\u001b[33mWARNING: You are using pip version 21.1.1; however, version 21.3.1 is available.\n",
      "You should consider upgrading via the '/Users/david/.pyenv/versions/3.8.10/bin/python3.8 -m pip install --upgrade pip' command.\u001b[0m\n"
     ]
    }
   ],
   "source": [
    "! pip install playwright"
   ]
  },
  {
   "cell_type": "code",
   "execution_count": 31,
   "id": "3a35256f",
   "metadata": {},
   "outputs": [],
   "source": [
    "! python -m playwright install"
   ]
  },
  {
   "cell_type": "code",
   "execution_count": 32,
   "id": "fb649645",
   "metadata": {},
   "outputs": [],
   "source": [
    "! python -m playwright codegen --target python -o shoppee.py -b chromium https://shopee.tw/search?keyword=%23%E9%8A%B7%E5%94%AE%E6%8E%92%E8%A1%8C%E6%A6%9C"
   ]
  },
  {
   "cell_type": "code",
   "execution_count": 34,
   "id": "f4435057",
   "metadata": {},
   "outputs": [],
   "source": [
    "! python shoppee.py"
   ]
  },
  {
   "cell_type": "code",
   "execution_count": 35,
   "id": "b75ed3a7",
   "metadata": {},
   "outputs": [],
   "source": [
    "! python -m playwright codegen --target python -o shoppee2.py -b chromium https://shopee.tw/search?keyword=%23%E9%8A%B7%E5%94%AE%E6%8E%92%E8%A1%8C%E6%A6%9C"
   ]
  },
  {
   "cell_type": "code",
   "execution_count": 36,
   "id": "114c2a6f",
   "metadata": {},
   "outputs": [],
   "source": [
    "! python shoppee2.py"
   ]
  },
  {
   "cell_type": "code",
   "execution_count": 37,
   "id": "bc35636e",
   "metadata": {},
   "outputs": [],
   "source": [
    "! python -m playwright codegen --target python -o shoppee3.py -b chromium https://shopee.tw/search?keyword=%23%E9%8A%B7%E5%94%AE%E6%8E%92%E8%A1%8C%E6%A6%9C"
   ]
  },
  {
   "cell_type": "code",
   "execution_count": 42,
   "id": "19c46938",
   "metadata": {},
   "outputs": [
    {
     "name": "stdout",
     "output_type": "stream",
     "text": [
      "/Users/david/.pyenv/versions/3.8.10/lib/python3.8/site-packages/pandas/compat/__init__.py:124: UserWarning: Could not import the lzma module. Your installed Python is incomplete. Attempting to use lzma compression will result in a RuntimeError.\r\n",
      "  warnings.warn(msg)\r\n"
     ]
    }
   ],
   "source": [
    "! python shoppee3.py"
   ]
  },
  {
   "cell_type": "code",
   "execution_count": 43,
   "id": "14fb8be7",
   "metadata": {},
   "outputs": [],
   "source": [
    "! open shoppee.xlsx"
   ]
  },
  {
   "cell_type": "code",
   "execution_count": 44,
   "id": "4661077d",
   "metadata": {},
   "outputs": [
    {
     "name": "stdout",
     "output_type": "stream",
     "text": [
      "^C\r\n"
     ]
    }
   ],
   "source": [
    "! python -m playwright codegen"
   ]
  },
  {
   "cell_type": "markdown",
   "id": "b683efb4",
   "metadata": {},
   "source": [
    "## Go 塔羅"
   ]
  },
  {
   "cell_type": "code",
   "execution_count": 49,
   "id": "578577a1",
   "metadata": {},
   "outputs": [],
   "source": [
    "! python -m playwright codegen --target python -o tarot.py -b webkit https://gomedia.asia/zh/free_tarot/"
   ]
  },
  {
   "cell_type": "code",
   "execution_count": 55,
   "id": "cbf5c9d9",
   "metadata": {},
   "outputs": [
    {
     "name": "stdout",
     "output_type": "stream",
     "text": [
      "最近在金錢運勢上不錯，不過也有一些會花錢的跡象，最好養成記帳的習慣，才不會容易賺得多花的也多的現象發生!這半年處於想的多做的少的階段，雖然想賺錢但可能想很多卻很少努力去實現，建議要腳踏實地才有結果。\r\n"
     ]
    }
   ],
   "source": [
    "! python tarot.py "
   ]
  },
  {
   "cell_type": "code",
   "execution_count": null,
   "id": "f17e1ff9",
   "metadata": {},
   "outputs": [],
   "source": [
    "[51, 25, 9, 5, 39]\n",
    "num = 51\n",
    "print(num)\n",
    "num = 25\n",
    "print(num)\n",
    "num = 9\n",
    "print(num)\n",
    "num = 5\n",
    "print(num)\n",
    "num = 39\n",
    "print(num)"
   ]
  },
  {
   "cell_type": "code",
   "execution_count": 92,
   "id": "7c34e06a",
   "metadata": {},
   "outputs": [
    {
     "data": {
      "text/plain": [
       "['46', '21', '9', '61', '70']"
      ]
     },
     "execution_count": 92,
     "metadata": {},
     "output_type": "execute_result"
    }
   ],
   "source": [
    "import random\n",
    "#random.choice(78, 5)\n",
    "ary = []\n",
    "for num in random.sample(range(1,79), 5):\n",
    "    ary.append(str(num))\n",
    "ary\n",
    "#','.join([str(e) for e in random.choices(comb, k = 5)])"
   ]
  },
  {
   "cell_type": "code",
   "execution_count": 96,
   "id": "1d022cd9",
   "metadata": {},
   "outputs": [
    {
     "data": {
      "text/plain": [
       "'46,21,9,61,70'"
      ]
     },
     "execution_count": 96,
     "metadata": {},
     "output_type": "execute_result"
    }
   ],
   "source": [
    "','.join(ary)"
   ]
  },
  {
   "cell_type": "code",
   "execution_count": 67,
   "id": "4452db58",
   "metadata": {},
   "outputs": [
    {
     "data": {
      "text/plain": [
       "[1, 2, 3, 4, 5, 6, 7, 8, 9, 10]"
      ]
     },
     "execution_count": 67,
     "metadata": {},
     "output_type": "execute_result"
    }
   ],
   "source": [
    "list(range(1,11))"
   ]
  },
  {
   "cell_type": "code",
   "execution_count": 78,
   "id": "fa77d5b3",
   "metadata": {},
   "outputs": [
    {
     "data": {
      "text/plain": [
       "[0, 1, 2, 3, 4, 5, 6, 7, 8, 9, 10]"
      ]
     },
     "execution_count": 78,
     "metadata": {},
     "output_type": "execute_result"
    }
   ],
   "source": [
    "list(range(11))"
   ]
  },
  {
   "cell_type": "code",
   "execution_count": 62,
   "id": "b799fb9b",
   "metadata": {},
   "outputs": [],
   "source": [
    "a = 3\n",
    "name1 = 'David'\n",
    "name2 = 'Victor'\n",
    "name3 = 'Peggy'\n",
    "names = ['David', 'Victor', 'Paggy']"
   ]
  },
  {
   "cell_type": "code",
   "execution_count": 63,
   "id": "c00d50a7",
   "metadata": {},
   "outputs": [
    {
     "data": {
      "text/plain": [
       "'David'"
      ]
     },
     "execution_count": 63,
     "metadata": {},
     "output_type": "execute_result"
    }
   ],
   "source": [
    "names[0]"
   ]
  },
  {
   "cell_type": "code",
   "execution_count": 64,
   "id": "b50b84ff",
   "metadata": {},
   "outputs": [
    {
     "data": {
      "text/plain": [
       "'Paggy'"
      ]
     },
     "execution_count": 64,
     "metadata": {},
     "output_type": "execute_result"
    }
   ],
   "source": [
    "names[2]"
   ]
  },
  {
   "cell_type": "code",
   "execution_count": 65,
   "id": "563fc91c",
   "metadata": {},
   "outputs": [
    {
     "data": {
      "text/plain": [
       "'Paggy'"
      ]
     },
     "execution_count": 65,
     "metadata": {},
     "output_type": "execute_result"
    }
   ],
   "source": [
    "names[-1]"
   ]
  },
  {
   "cell_type": "code",
   "execution_count": 70,
   "id": "36d97f25",
   "metadata": {},
   "outputs": [
    {
     "name": "stdout",
     "output_type": "stream",
     "text": [
      "[1, 2, 3, 4, 5, 6, 7, 8, 9, 10, 11, 12, 13, 14, 15, 16, 17, 18, 19, 20, 21, 22, 23, 24, 25, 26, 27, 28, 29, 30, 31, 32, 33, 34, 35, 36, 37, 38, 39, 40, 41, 42, 43, 44, 45, 46, 47, 48, 49, 50, 51, 52, 53, 54, 55, 56, 57, 58, 59, 60, 61, 62, 63, 64, 65, 66, 67, 68, 69, 70, 71, 72, 73, 74, 75, 76, 77, 78]\n"
     ]
    }
   ],
   "source": [
    "print(list(range(1,79)))"
   ]
  },
  {
   "cell_type": "code",
   "execution_count": 73,
   "id": "19c3b675",
   "metadata": {},
   "outputs": [
    {
     "name": "stdout",
     "output_type": "stream",
     "text": [
      "(1, 2, 3, 4, 5)\n"
     ]
    }
   ],
   "source": [
    "import itertools\n",
    "\n",
    "stuff = list(range(1,79)) # from 1 ~ 78\n",
    "for subset in itertools.combinations(stuff, 5):\n",
    "    print(subset)\n",
    "    break"
   ]
  },
  {
   "cell_type": "code",
   "execution_count": 76,
   "id": "a5b0f240",
   "metadata": {},
   "outputs": [
    {
     "data": {
      "text/plain": [
       "'1,2,3,4,5'"
      ]
     },
     "execution_count": 76,
     "metadata": {},
     "output_type": "execute_result"
    }
   ],
   "source": [
    "','.join(['1', '2', '3', '4', '5'])"
   ]
  },
  {
   "cell_type": "code",
   "execution_count": 77,
   "id": "d1b0a063",
   "metadata": {},
   "outputs": [
    {
     "data": {
      "text/plain": [
       "2533330800"
      ]
     },
     "execution_count": 77,
     "metadata": {},
     "output_type": "execute_result"
    }
   ],
   "source": [
    "78 * 77 * 76 * 75 * 74"
   ]
  },
  {
   "cell_type": "code",
   "execution_count": null,
   "id": "0dce6c62",
   "metadata": {},
   "outputs": [],
   "source": [
    "from playwright.sync_api import Playwright, sync_playwright\n",
    "import time, random\n",
    "from bs4 import BeautifulSoup\n",
    "def run(playwright: Playwright) -> None:\n",
    "    browser = playwright.webkit.launch(headless=False)\n",
    "    context = browser.new_context()\n",
    "\n",
    "    # Open new page\n",
    "    page = context.new_page()\n",
    "    for i in range(10):\n",
    "        ary = []\n",
    "        for num in random.sample(range(1,79), 5):\n",
    "            ary.append(str(num))\n",
    "        p = ','.join(ary)\n",
    "\n",
    "        # Go to https://gomedia.asia/zh/free_tarot/\n",
    "        page.goto(\"https://gomedia.asia/zh/%E7%84%A1%E7%89%8C%E9%99%A3%E5%A1%94%E7%BE%85%E5%8D%A0%E5%8D%9C%E8%A7%A3%E7%89%8C/?card={},&category=5&subitem=0\".format(p))\n",
    "\n",
    "        time.sleep(1)\n",
    "        soup = BeautifulSoup(page.content(), 'lxml')\n",
    "        result = soup.select_one('.text-inner.text-left > h4').text\n",
    "        print(p,result)\n",
    "    # assert page.url == \"https://gomedia.asia/zh/%E7%84%A1%E7%89%8C%E9%99%A3%E5%A1%94%E7%BE%85%E5%8D%A0%E5%8D%9C%E8%A7%A3%E7%89%8C/?card=16,18,7,43,61,&category=5&subitem=0\"\n",
    "\n",
    "    # Close page\n",
    "    page.close()\n",
    "\n",
    "    # ---------------------\n",
    "    context.close()\n",
    "    browser.close()\n",
    "\n",
    "\n",
    "with sync_playwright() as playwright:\n",
    "    run(playwright)\n"
   ]
  },
  {
   "cell_type": "code",
   "execution_count": 108,
   "id": "5e2692af",
   "metadata": {},
   "outputs": [
    {
     "name": "stdout",
     "output_type": "stream",
     "text": [
      "40,54,43,39,70 1 0 本周的運勢不太好，還好也是有些好事，放鬆心情珍惜好的時刻！會遇到貴人，可能是你的朋友或是新認識的人，可以幫助你更有發展或者解決眼下的困難喔!\n",
      "71,12,13,5,6 1 1 未來ㄧ年的運勢不太好，還好也是有些好事，放鬆心情珍惜好的時刻！這一年可以好好找尋自己的目標，學習成效會很好喔!對於想做的事情努力付出的話會事半功倍，會順利的完成!\n",
      "64,76,17,40,18 1 2 守護天使想跟你說，暫時會有一些不順利，多體諒別人的想法可以有所幫助得到好的結果。還是要多注意一些地方。（看下面的細部解釋）\n",
      "8,47,58,69,7 2 0 三個月內出現適合的對象機率不高，但是這是一個很好的機會先把自己打理好，了解自己想要的未來方向，這樣在未來出現新對象的時候會很快的讓你感覺到就是他了!遇見可以心靈相通的人機會比較高，感覺對方與你有莫名的默契的時候要注意一下，也許就是你未來的另一半喔!\n",
      "32,67,56,5,2 2 1 你心裡想的這個對象讓你有一點好感也有一點不確定的感覺，應該還不是很了解對方內心的想法，還是先多認識一下再決定要不要交往比較好喔!對方與你的思考模式有些類似，屬於可以溝通的對象，長久下來可能成為你的靈魂伴侶，在感情上可以更上一層樓!\n",
      "25,35,7,23,1 2 2 你跟對方的未來發展很不錯，雙方都有意要繼續穩定交往，也有結婚的可能。你們之間會有火花產生，熱戀的時候會熱情如火，切忌過於衝動才不會造成傷害，還是先相處珍惜這段甜蜜的時光吧!\n",
      "8,40,4,59,12 3 0 如果太過眼高手低的話，可能會錯過也許還不錯的工作機會，建議還是先求有再求好，先讓自己多一些工作經驗，鍛鍊自己的專業能力後再尋求更好的工作!在選擇新的工作機會比較偏向由你的意志決定，外在的因素影響比較少，也有可能會被其他人的意見所影響，建議要有自己的主見。\n",
      "23,2,11,5,53 3 1 現在的工作未來發展較為平緩，雖然有表現的機會，需注意是否有把細節做好，避免因為表達能力不好而錯過老闆的賞識，避免出一些粗心大意的小錯誤！現在的工作發展取決於你的意志度，建議如果處於倦怠期的話可以先靜下心來檢視自己的想法，也可以主動跟主管聊一聊。\n",
      "34,73,14,19,58 3 2 整體來說現在轉換跑道是蠻不錯的時機，但是要注意可能會有點挫折，最好是先確定自己已經準備好，換別的工作會讓你更有發展!現在是否要轉換工作跑道取決你自己的想法，即使在工作上遇到困難也不會讓你想要馬上換工作，會想換工作大多是遇到心情上的低潮期。\n",
      "50,21,12,6,45 4 0 跟這個人相處上融洽，只是可能還是有一些地方你不是很了解他的想法，基本上還是可以相處得很不錯，也可以互相幫助。對方與你的思考模式有些類似，屬於可以溝通的對象，長久下來可能成為你可以心靈相通的朋友!\n",
      "41,19,70,64,9 4 1 他現在很好，雖然有點狀況不如預期，但結果都比意外的還要好，所以現在是露出微笑的模樣。如果想聯絡，也許是適合聯絡的時機，如果是無法聯絡的狀態，就在心情上跟他一起開心的度過今天吧！\n",
      "\n",
      "33,24,68,31,65 4 2 你們的閨蜜指數只有55分喔！相處上會有一些意見不同的看法發生，但是最終都能順利協調，相處上有一點尷尬，但是不要太過強求對方的話都還可以安然度過。要成為閨蜜還需要更長的時間相處，也需要一些契機發生。\n",
      "71,29,21,8,15 5 0 最近在金錢運勢上不錯，不過也有一些會花錢的跡象，最好養成記帳的習慣，才不會容易賺得多花的也多的現象發生!這半年處於想的多做的少的階段，雖然想賺錢但可能想很多卻很少努力去實現，建議要腳踏實地才有結果。\n",
      "39,36,60,35,4 5 1 目前的工作可以賺到錢，雖然不是一下子暴增，需要時間的累積，也會因為辛苦或其他的挫折感到灰心，但是看到以後成長薪水還是會有苦盡甘來的感覺。工作上可能會遇到貴人對你會有所幫助，透過拓展人際關係可以有機會賺錢。\n",
      "24,6,57,7,27 5 2 現在是這個投資很不錯的時機，可能會有一筆錢財進來，但是要小心不要馬上亂花掉或亂投資，最好可以諮詢一下一些理財方案，或者加碼投資，錢才會累積成塔!\n",
      "44,49,1,76,2 1 0 本周的運勢極佳，幾乎沒有不順心的事情發生，有想要做什麼的話要趁本周趕快進行喔！會遇到貴人，可能是你的朋友或是新認識的人，可以幫助你更有發展或者解決眼下的困難喔!\n",
      "46,53,66,78,32 1 1 未來ㄧ年的運勢有好有壞，心情不好也不壞，已經可以心情平靜地面對生活了。會遇到可以幫助你的貴人，人際關係上有新的發展，進而會幫助你的工作或者學業，要好好珍惜喔!\n",
      "67,23,24,70,2 1 2 守護天使想跟你說，不要擔心，會順利的。有幾個地方要注意好就可以了。（看下面的細部解釋）\n",
      "^C\n",
      "Traceback (most recent call last):\n",
      "  File \"tarot.py\", line 37, in <module>\n",
      "    run(playwright)\n",
      "  File \"tarot.py\", line 20, in run\n",
      "    page.goto(\"https://gomedia.asia/zh/%E7%84%A1%E7%89%8C%E9%99%A3%E5%A1%94%E7%BE%85%E5%8D%A0%E5%8D%9C%E8%A7%A3%E7%89%8C/?card={},&category={}&subitem={}\".format(p, c, s))\n",
      "  File \"/Users/david/.pyenv/versions/3.8.10/lib/python3.8/site-packages/playwright/sync_api/_generated.py\", line 7133, in goto\n",
      "    self._sync(\n",
      "  File \"/Users/david/.pyenv/versions/3.8.10/lib/python3.8/site-packages/playwright/_impl/_sync_base.py\", line 109, in _sync\n",
      "    self._dispatcher_fiber.switch()\n",
      "  File \"/Users/david/.pyenv/versions/3.8.10/lib/python3.8/site-packages/playwright/sync_api/_context_manager.py\", line 48, in greenlet_main\n",
      "    loop.run_until_complete(self._connection.run_as_sync())\n",
      "  File \"/Users/david/.pyenv/versions/3.8.10/lib/python3.8/asyncio/base_events.py\", line 603, in run_until_complete\n",
      "    self.run_forever()\n",
      "  File \"/Users/david/.pyenv/versions/3.8.10/lib/python3.8/asyncio/base_events.py\", line 570, in run_forever\n",
      "    self._run_once()\n",
      "  File \"/Users/david/.pyenv/versions/3.8.10/lib/python3.8/asyncio/base_events.py\", line 1823, in _run_once\n",
      "    event_list = self._selector.select(timeout)\n",
      "  File \"/Users/david/.pyenv/versions/3.8.10/lib/python3.8/selectors.py\", line 558, in select\n",
      "    kev_list = self._selector.control(None, max_ev, timeout)\n",
      "KeyboardInterrupt\n"
     ]
    }
   ],
   "source": [
    "! python tarot.py"
   ]
  },
  {
   "cell_type": "code",
   "execution_count": null,
   "id": "a7d2e8d7",
   "metadata": {},
   "outputs": [],
   "source": [
    "from playwright.sync_api import Playwright, sync_playwright\n",
    "import time, random\n",
    "from bs4 import BeautifulSoup\n",
    "\n",
    "def run(playwright: Playwright) -> None:\n",
    "    browser = playwright.webkit.launch(headless=False)\n",
    "    context = browser.new_context()\n",
    "\n",
    "    # Open new page\n",
    "    page = context.new_page()\n",
    "    for i in range(10):\n",
    "        for c in range(1,6):\n",
    "            for s in range(0,3):\n",
    "                ary = []\n",
    "                for num in random.sample(range(1,79), 5):\n",
    "                    ary.append(str(num))\n",
    "                p = ','.join(ary)\n",
    "\n",
    "                # Go to https://gomedia.asia/zh/free_tarot/\n",
    "                page.goto(\"https://gomedia.asia/zh/%E7%84%A1%E7%89%8C%E9%99%A3%E5%A1%94%E7%BE%85%E5%8D%A0%E5%8D%9C%E8%A7%A3%E7%89%8C/?card={},&category={}&subitem={}\".format(p, c, s))\n",
    "\n",
    "                time.sleep(1)\n",
    "                soup = BeautifulSoup(page.content(), 'lxml')\n",
    "                result = soup.select_one('.text-inner.text-left > h4').text\n",
    "                print(p,c,s,result)\n",
    "    # assert page.url == \"https://gomedia.asia/zh/%E7%84%A1%E7%89%8C%E9%99%A3%E5%A1%94%E7%BE%85%E5%8D%A0%E5%8D%9C%E8%A7%A3%E7%89%8C/?card=16,18,7,43,61,&category=5&subitem=0\"\n",
    "\n",
    "    # Close page\n",
    "    page.close()\n",
    "\n",
    "    # ---------------------\n",
    "    context.close()\n",
    "    browser.close()\n",
    "\n",
    "\n",
    "with sync_playwright() as playwright:\n",
    "    run(playwright)\n"
   ]
  },
  {
   "cell_type": "code",
   "execution_count": null,
   "id": "c3149cff",
   "metadata": {},
   "outputs": [],
   "source": [
    "from playwright.sync_api import Playwright, sync_playwright\n",
    "import time\n",
    "import random\n",
    "from bs4 import BeautifulSoup\n",
    "def run(playwright: Playwright) -> None:\n",
    "    browser = playwright.webkit.launch(headless=False)\n",
    "    context = browser.new_context()\n",
    "\n",
    "    # Open new page\n",
    "    page = context.new_page()\n",
    "\n",
    "    # Go to https://gomedia.asia/zh/free_tarot/\n",
    "    page.goto(\"https://gomedia.asia/zh/%E7%84%A1%E7%89%8C%E9%99%A3%E5%A1%94%E7%BE%85%E5%8D%A0%E5%8D%9C%E8%A7%A3%E7%89%8C/?card=14,15,69,3,37,&category=5&subitem=0\")\n",
    "\n",
    "    time.sleep(10)\n",
    "    print(page.content())\n",
    "    # assert page.url == \"https://gomedia.asia/zh/%E7%84%A1%E7%89%8C%E9%99%A3%E5%A1%94%E7%BE%85%E5%8D%A0%E5%8D%9C%E8%A7%A3%E7%89%8C/?card=16,18,7,43,61,&category=5&subitem=0\"\n",
    "\n",
    "    # Close page\n",
    "    page.close()\n",
    "\n",
    "    # ---------------------\n",
    "    context.close()\n",
    "    browser.close()\n",
    "\n",
    "\n",
    "with sync_playwright() as playwright:\n",
    "    run(playwright)\n"
   ]
  },
  {
   "cell_type": "code",
   "execution_count": null,
   "id": "c006b423",
   "metadata": {},
   "outputs": [],
   "source": []
  },
  {
   "cell_type": "code",
   "execution_count": 97,
   "id": "55bfccde",
   "metadata": {},
   "outputs": [
    {
     "data": {
      "text/plain": [
       "'Hello World'"
      ]
     },
     "execution_count": 97,
     "metadata": {},
     "output_type": "execute_result"
    }
   ],
   "source": [
    "'Hello ' + 'World'"
   ]
  },
  {
   "cell_type": "code",
   "execution_count": 99,
   "id": "6b3e2b2a",
   "metadata": {},
   "outputs": [
    {
     "name": "stdout",
     "output_type": "stream",
     "text": [
      "cola is David's favorite'\n"
     ]
    }
   ],
   "source": [
    "name = 'David'\n",
    "company = 'cola'\n",
    "print(company + ' is ' + name + \"'s favorite'\")"
   ]
  },
  {
   "cell_type": "code",
   "execution_count": 100,
   "id": "ffb7d94a",
   "metadata": {},
   "outputs": [
    {
     "name": "stdout",
     "output_type": "stream",
     "text": [
      "cola is David's favorite\n"
     ]
    }
   ],
   "source": [
    "s = \"{} is {}'s favorite\"\n",
    "print(s.format('cola', 'David'))"
   ]
  },
  {
   "cell_type": "code",
   "execution_count": 107,
   "id": "a559ad01",
   "metadata": {},
   "outputs": [
    {
     "data": {
      "text/plain": [
       "[4, 5]"
      ]
     },
     "execution_count": 107,
     "metadata": {},
     "output_type": "execute_result"
    }
   ],
   "source": [
    "a= [1,2,3,4,5]\n",
    "a[3:10000]"
   ]
  },
  {
   "cell_type": "markdown",
   "id": "09ba9e07",
   "metadata": {},
   "source": [
    "## 字典"
   ]
  },
  {
   "cell_type": "code",
   "execution_count": null,
   "id": "36810a92",
   "metadata": {},
   "outputs": [],
   "source": [
    "from playwright.sync_api import Playwright, sync_playwright\n",
    "import time, random\n",
    "from bs4 import BeautifulSoup\n",
    "import pandas\n",
    "\n",
    "def run(playwright: Playwright) -> None:\n",
    "    browser = playwright.webkit.launch(headless=False)\n",
    "    context = browser.new_context()\n",
    "\n",
    "    # Open new page\n",
    "    page = context.new_page()\n",
    "    allcomb = []\n",
    "    for i in range(3):\n",
    "        for c in range(1,3):\n",
    "            for s in range(0,2):\n",
    "                ary = []\n",
    "                for num in random.sample(range(1,79), 5):\n",
    "                    ary.append(str(num))\n",
    "                p = ','.join(ary)\n",
    "\n",
    "                # Go to https://gomedia.asia/zh/free_tarot/\n",
    "                page.goto(\"https://gomedia.asia/zh/%E7%84%A1%E7%89%8C%E9%99%A3%E5%A1%94%E7%BE%85%E5%8D%A0%E5%8D%9C%E8%A7%A3%E7%89%8C/?card={},&category={}&subitem={}\".format(p, c, s))\n",
    "\n",
    "                time.sleep(1)\n",
    "                soup = BeautifulSoup(page.content(), 'lxml')\n",
    "                result = soup.select_one('.text-inner.text-left > h4').text\n",
    "                dic = {'cards':p, 'category': c,'subitem':s,'result':result}\n",
    "                print(dic)\n",
    "                allcomb.append(dic)\n",
    "    df = pandas.DataFrame(allcomb)\n",
    "    df.to_excel('tarot.xlsx')\n",
    "    # assert page.url == \"https://gomedia.asia/zh/%E7%84%A1%E7%89%8C%E9%99%A3%E5%A1%94%E7%BE%85%E5%8D%A0%E5%8D%9C%E8%A7%A3%E7%89%8C/?card=16,18,7,43,61,&category=5&subitem=0\"\n",
    "\n",
    "    # Close page\n",
    "    page.close()\n",
    "\n",
    "    # ---------------------\n",
    "    context.close()\n",
    "    browser.close()\n",
    "\n",
    "\n",
    "with sync_playwright() as playwright:\n",
    "    run(playwright)\n"
   ]
  },
  {
   "cell_type": "code",
   "execution_count": 115,
   "id": "bf6bab59",
   "metadata": {},
   "outputs": [
    {
     "name": "stdout",
     "output_type": "stream",
     "text": [
      "/Users/david/.pyenv/versions/3.8.10/lib/python3.8/site-packages/pandas/compat/__init__.py:124: UserWarning: Could not import the lzma module. Your installed Python is incomplete. Attempting to use lzma compression will result in a RuntimeError.\n",
      "  warnings.warn(msg)\n",
      "{'cards': '24,63,25,78,8', 'category': 1, 'subitem': 0, 'result': '本周的運勢還不錯，遇到不順利也可以解決，要體諒一下周遭人的想法，會過得更順利喔！感覺很有熱情，但要小心是否過於衝動，最好是詢問一下別人的意見再勇往直前喔!'}\n",
      "{'cards': '40,63,12,29,1', 'category': 1, 'subitem': 1, 'result': '未來ㄧ年的運勢不太好，還好也是有些好事，放鬆心情珍惜好的時刻！這一年可以好好找尋自己的目標，學習成效會很好喔!對於想做的事情努力付出的話會事半功倍，會順利的完成!'}\n",
      "{'cards': '78,2,15,65,13', 'category': 2, 'subitem': 0, 'result': '三個月內很難遇見讓你心動的對象，多跟家人和朋友互動，珍惜單身的生活，好好享受一下沒有牽絆的感覺，把時間花在提升自己上!遇見可以心靈相通的人機會比較高，感覺對方與你有莫名的默契的時候要注意一下，也許就是你未來的另一半喔!'}\n",
      "{'cards': '51,9,46,48,53', 'category': 2, 'subitem': 1, 'result': '你心裡想的這個對象目前很不適合你，思想上的差異會讓你們容易有摩擦，相處起來就不是很開心，與其這樣，先當朋友就好會開心一點!有時候會感到不安或者孤獨，可能是因為對方跟你相處的感覺或者你自己本身無法相信對方，還是不要太過猜疑，冷靜觀察就可以了。'}\n",
      "{'cards': '51,20,72,64,15', 'category': 1, 'subitem': 0, 'result': '本周的運勢有好有壞，心情不好也不壞，已經可以心情平靜地面對生活了。著重心靈層面的思考時刻會比較多，有新事物出現的時候要把握當下，不要猶豫不決。'}\n",
      "{'cards': '29,68,5,70,77', 'category': 1, 'subitem': 1, 'result': '未來ㄧ年的運勢很好，雖然有一點點不如預期的情況，大致上還是很順心的，開心的度過吧！這一年財運很不錯，應該做新的財務規劃，可以賺進更多的錢，生活穩定!'}\n",
      "{'cards': '75,9,4,67,2', 'category': 2, 'subitem': 0, 'result': '未來半年的人際關係還不錯，可能會遇到一些爛桃花，只要下定決心還是可以順利找到對的對象交往的!要聽一下朋友的意見喔!遇見可以心靈相通的人機會比較高，感覺對方與你有莫名的默契的時候要注意一下，也許就是你未來的另一半喔!'}\n",
      "{'cards': '39,72,29,24,38', 'category': 2, 'subitem': 1, 'result': '你心裡想的這個對象很適合你交往看看，各種層面來看，他是對你很有好感並且希望可以與你交往，好好珍惜對方的心意，順利交往以後應該可以穩定發展喔!你們之間的相處融洽，生活會更有趣味，對方跟你的個性互補，只要不是太過於不切實際，可以好好交往看看，享受當下的快樂!'}\n",
      "{'cards': '64,3,69,67,2', 'category': 1, 'subitem': 0, 'result': '本周的運勢極佳，幾乎沒有不順心的事情發生，有想要做什麼的話要趁本周趕快進行喔！財運不錯，可以規劃一下投資理財或者購買小額的彩卷，不要有錢就亂花喔!'}\n",
      "{'cards': '60,40,49,17,1', 'category': 1, 'subitem': 1, 'result': '未來ㄧ年的運勢有好有壞，心情不好也不壞，已經可以心情平靜地面對生活了。會遇到可以幫助你的貴人，人際關係上有新的發展，進而會幫助你的工作或者學業，要好好珍惜喔!'}\n",
      "{'cards': '56,63,19,44,40', 'category': 2, 'subitem': 0, 'result': '半年內雖然有機會認識不錯的對象，但是總是會差那麼一點失之交臂，建議多觀察一下對方的喜好，不要操之過急，還是會有機會的!莫名會感覺到不安的情況，什麼也別說多加觀察會比較好喔，不要過於猜測可能會讓好機會溜走了!'}\n",
      "{'cards': '47,32,72,57,78', 'category': 2, 'subitem': 1, 'result': '你心裡想的這個對象讓你有一點好感也有一點不確定的感覺，應該還不是很了解對方內心的想法，還是先多認識一下再決定要不要交往比較好喔!你們之間的相處融洽，生活會更有趣味，對方跟你的個性互補，只要不是太過於不切實際，可以好好交往看看，享受當下的快樂!'}\n"
     ]
    }
   ],
   "source": [
    "! python qoo.py"
   ]
  },
  {
   "cell_type": "code",
   "execution_count": 113,
   "id": "1885e33c",
   "metadata": {},
   "outputs": [
    {
     "name": "stdout",
     "output_type": "stream",
     "text": [
      "/Users/david/.pyenv/versions/3.8.10/lib/python3.8/site-packages/pandas/compat/__init__.py:124: UserWarning: Could not import the lzma module. Your installed Python is incomplete. Attempting to use lzma compression will result in a RuntimeError.\n",
      "  warnings.warn(msg)\n",
      "{'cards': '69,42,74,63,29', 'category': 1, 'subitem': 0, 'result': '本周的運勢有好有壞，心情不好也不壞，已經可以心情平靜地面對生活了。財運不錯，可以規劃一下投資理財或者購買小額的彩卷，不要有錢就亂花喔!'}\n",
      "{'cards': '16,68,69,8,13', 'category': 1, 'subitem': 1, 'result': '未來ㄧ年的運勢極不好，最好安靜度過，不要做下重大決定，先拖過這一年吧！這一年可以好好找尋自己的目標，學習成效會很好喔!對於想做的事情努力付出的話會事半功倍，會順利的完成!'}\n",
      "{'cards': '3,78,52,74,66', 'category': 2, 'subitem': 0, 'result': '未來半年的人際關係還不錯，可能會遇到一些爛桃花，只要下定決心還是可以順利找到對的對象交往的!要聽一下朋友的意見喔!遇見可以心靈相通的人機會比較高，感覺對方與你有莫名的默契的時候要注意一下，也許就是你未來的另一半喔!'}\n",
      "{'cards': '72,66,21,67,74', 'category': 2, 'subitem': 1, 'result': '你心裡想的這個對象很適合你交往看看，各種層面來看，他是對你很有好感並且希望可以與你交往，好好珍惜對方的心意，順利交往以後應該可以穩定發展喔!你們都在為自己的生活努力，追求經濟上的穩定，交往上可能不是那麼浪漫但也可以平穩的度過，要小心過於老夫老妻模式喔!'}\n",
      "{'cards': '40,33,66,45,11', 'category': 1, 'subitem': 0, 'result': '本周的運勢還不錯，遇到不順利也可以解決，要體諒一下周遭人的想法，會過得更順利喔！會遇到貴人，可能是你的朋友或是新認識的人，可以幫助你更有發展或者解決眼下的困難喔!'}\n",
      "{'cards': '46,8,30,31,6', 'category': 1, 'subitem': 1, 'result': '未來ㄧ年的運勢有好有壞，心情不好也不壞，已經可以心情平靜地面對生活了。這一年可以好好找尋自己的目標，學習成效會很好喔!對於想做的事情努力付出的話會事半功倍，會順利的完成!'}\n",
      "{'cards': '2,16,9,25,62', 'category': 2, 'subitem': 0, 'result': '三個月內的感情運不佳，雖然可能會有不錯的對象出現，通常對方都已經不是單身的狀態，還是專心在工作或自己上，不要陷入泥沼喔!遇見可以心靈相通的人機會比較高，感覺對方與你有莫名的默契的時候要注意一下，也許就是你未來的另一半喔!'}\n",
      "{'cards': '22,9,64,39,67', 'category': 2, 'subitem': 1, 'result': '你心裡想的這個對象是很適合你交往的對象，雖然有一些小地方你不是很滿意，但是其實你心裡對他也蠻有好感的，就試著交往看看!好好珍惜對方，會讓你感到幸福的!你們都在為自己的生活努力，追求經濟上的穩定，交往上可能不是那麼浪漫但也可以平穩的度過，要小心過於老夫老妻模式喔!'}\n",
      "{'cards': '8,23,65,76,26', 'category': 1, 'subitem': 0, 'result': '本周的運勢還不錯，遇到不順利也可以解決，要體諒一下周遭人的想法，會過得更順利喔！感覺很有熱情，但要小心是否過於衝動，最好是詢問一下別人的意見再勇往直前喔!'}\n",
      "{'cards': '63,57,41,33,45', 'category': 1, 'subitem': 1, 'result': '未來ㄧ年的運勢不太好，還好也是有些好事，放鬆心情珍惜好的時刻！這一年發生一些狀況會讓人感到不安，謹慎的思考下一步才能減低傷害!'}\n",
      "{'cards': '51,40,75,55,11', 'category': 2, 'subitem': 0, 'result': '三個月內很難遇見讓你心動的對象，多跟家人和朋友互動，珍惜單身的生活，好好享受一下沒有牽絆的感覺，把時間花在提升自己上!莫名會感覺到不安的情況，什麼也別說多加觀察會比較好喔，不要過於猜測可能會讓好機會溜走了!'}\n",
      "{'cards': '50,3,18,36,20', 'category': 2, 'subitem': 1, 'result': '你心裡想的這個對象讓你有一點好感也有一點不確定的感覺，應該還不是很了解對方內心的想法，還是先多認識一下再決定要不要交往比較好喔!對方與你的思考模式有些類似，屬於可以溝通的對象，長久下來可能成為你的靈魂伴侶，在感情上可以更上一層樓!'}\n"
     ]
    }
   ],
   "source": [
    "! python tarot.py"
   ]
  },
  {
   "cell_type": "code",
   "execution_count": 114,
   "id": "aea233b2",
   "metadata": {},
   "outputs": [],
   "source": [
    "! open tarot.xlsx"
   ]
  },
  {
   "cell_type": "code",
   "execution_count": 110,
   "id": "2aa24113",
   "metadata": {},
   "outputs": [
    {
     "name": "stderr",
     "output_type": "stream",
     "text": [
      "/Users/david/.pyenv/versions/3.8.10/lib/python3.8/site-packages/pandas/compat/__init__.py:124: UserWarning: Could not import the lzma module. Your installed Python is incomplete. Attempting to use lzma compression will result in a RuntimeError.\n",
      "  warnings.warn(msg)\n"
     ]
    }
   ],
   "source": [
    "tarots = [\n",
    "  {'cards': '63,17,7,76,11', 'category': 1, 'subitem': 0, 'result': '本周的運勢還不錯，遇到不順利也可以解決，要體諒一下周遭人的想法，會過得更順利喔！著重心靈層面的思考時刻會比較多，有新事物出現的時候要把握當下，不要猶豫不決。'},\n",
    "{'cards': '35,17,59,46,58', 'category': 1, 'subitem': 1, 'result': '未來ㄧ年的運勢有好有壞，心情不好也不壞，已經可以心情平靜地面對生活了。這一年發生一些狀況會讓人感到不安，謹慎的思考下一步才能減低傷害!'}  \n",
    "]\n",
    "import pandas\n",
    "df = pandas.DataFrame(tarots)"
   ]
  },
  {
   "cell_type": "code",
   "execution_count": 111,
   "id": "9265c43d",
   "metadata": {},
   "outputs": [
    {
     "data": {
      "text/html": [
       "<div>\n",
       "<style scoped>\n",
       "    .dataframe tbody tr th:only-of-type {\n",
       "        vertical-align: middle;\n",
       "    }\n",
       "\n",
       "    .dataframe tbody tr th {\n",
       "        vertical-align: top;\n",
       "    }\n",
       "\n",
       "    .dataframe thead th {\n",
       "        text-align: right;\n",
       "    }\n",
       "</style>\n",
       "<table border=\"1\" class=\"dataframe\">\n",
       "  <thead>\n",
       "    <tr style=\"text-align: right;\">\n",
       "      <th></th>\n",
       "      <th>cards</th>\n",
       "      <th>category</th>\n",
       "      <th>subitem</th>\n",
       "      <th>result</th>\n",
       "    </tr>\n",
       "  </thead>\n",
       "  <tbody>\n",
       "    <tr>\n",
       "      <th>0</th>\n",
       "      <td>63,17,7,76,11</td>\n",
       "      <td>1</td>\n",
       "      <td>0</td>\n",
       "      <td>本周的運勢還不錯，遇到不順利也可以解決，要體諒一下周遭人的想法，會過得更順利喔！著重心靈層面...</td>\n",
       "    </tr>\n",
       "    <tr>\n",
       "      <th>1</th>\n",
       "      <td>35,17,59,46,58</td>\n",
       "      <td>1</td>\n",
       "      <td>1</td>\n",
       "      <td>未來ㄧ年的運勢有好有壞，心情不好也不壞，已經可以心情平靜地面對生活了。這一年發生一些狀況會讓...</td>\n",
       "    </tr>\n",
       "  </tbody>\n",
       "</table>\n",
       "</div>"
      ],
      "text/plain": [
       "            cards  category  subitem  \\\n",
       "0   63,17,7,76,11         1        0   \n",
       "1  35,17,59,46,58         1        1   \n",
       "\n",
       "                                              result  \n",
       "0  本周的運勢還不錯，遇到不順利也可以解決，要體諒一下周遭人的想法，會過得更順利喔！著重心靈層面...  \n",
       "1  未來ㄧ年的運勢有好有壞，心情不好也不壞，已經可以心情平靜地面對生活了。這一年發生一些狀況會讓...  "
      ]
     },
     "execution_count": 111,
     "metadata": {},
     "output_type": "execute_result"
    }
   ],
   "source": [
    "df"
   ]
  },
  {
   "cell_type": "code",
   "execution_count": 112,
   "id": "2ab0bfc8",
   "metadata": {},
   "outputs": [],
   "source": [
    "df.to_excel('tarot.xlsx')"
   ]
  },
  {
   "cell_type": "code",
   "execution_count": null,
   "id": "019e3402",
   "metadata": {},
   "outputs": [],
   "source": []
  }
 ],
 "metadata": {
  "kernelspec": {
   "display_name": "Python 3 (ipykernel)",
   "language": "python",
   "name": "python3"
  },
  "language_info": {
   "codemirror_mode": {
    "name": "ipython",
    "version": 3
   },
   "file_extension": ".py",
   "mimetype": "text/x-python",
   "name": "python",
   "nbconvert_exporter": "python",
   "pygments_lexer": "ipython3",
   "version": "3.8.10"
  }
 },
 "nbformat": 4,
 "nbformat_minor": 5
}
