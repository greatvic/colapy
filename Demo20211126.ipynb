{
 "cells": [
  {
   "cell_type": "markdown",
   "id": "db34b5a0",
   "metadata": {},
   "source": [
    "## 語音辨識"
   ]
  },
  {
   "cell_type": "code",
   "execution_count": 24,
   "id": "5e29c921",
   "metadata": {},
   "outputs": [
    {
     "name": "stdout",
     "output_type": "stream",
     "text": [
      "Requirement already satisfied: SpeechRecognition in /Users/david/.pyenv/versions/3.8.10/lib/python3.8/site-packages (3.8.1)\n",
      "\u001b[33mWARNING: You are using pip version 21.1.1; however, version 21.3.1 is available.\n",
      "You should consider upgrading via the '/Users/david/.pyenv/versions/3.8.10/bin/python3.8 -m pip install --upgrade pip' command.\u001b[0m\n"
     ]
    }
   ],
   "source": [
    "! pip install SpeechRecognition"
   ]
  },
  {
   "cell_type": "code",
   "execution_count": 25,
   "id": "abd9123b",
   "metadata": {},
   "outputs": [
    {
     "name": "stdout",
     "output_type": "stream",
     "text": [
      "Requirement already satisfied: PyAudio in /Users/david/.pyenv/versions/3.8.10/lib/python3.8/site-packages (0.2.11)\n",
      "\u001b[33mWARNING: You are using pip version 21.1.1; however, version 21.3.1 is available.\n",
      "You should consider upgrading via the '/Users/david/.pyenv/versions/3.8.10/bin/python3.8 -m pip install --upgrade pip' command.\u001b[0m\n"
     ]
    }
   ],
   "source": [
    "! pip install PyAudio"
   ]
  },
  {
   "cell_type": "code",
   "execution_count": 26,
   "id": "8de6924b",
   "metadata": {},
   "outputs": [
    {
     "name": "stdout",
     "output_type": "stream",
     "text": [
      "Say something!\n",
      "大家好今天很高興來到貴寶地\n"
     ]
    }
   ],
   "source": [
    "import speech_recognition as sr\n",
    "\n",
    "# obtain audio from the microphone\n",
    "r = sr.Recognizer()\n",
    "with sr.Microphone() as source:\n",
    "    print(\"Say something!\")\n",
    "    audio = r.listen(source)\n",
    "\n",
    "print(r.recognize_google(audio, language= 'zh-TW'))"
   ]
  },
  {
   "cell_type": "code",
   "execution_count": 4,
   "id": "37a11b13",
   "metadata": {},
   "outputs": [],
   "source": [
    "?r.recognize_google"
   ]
  },
  {
   "cell_type": "markdown",
   "id": "1930db22",
   "metadata": {},
   "source": [
    "## 文字轉語音"
   ]
  },
  {
   "cell_type": "code",
   "execution_count": 6,
   "id": "15ef9bcb",
   "metadata": {
    "collapsed": true
   },
   "outputs": [
    {
     "name": "stdout",
     "output_type": "stream",
     "text": [
      "Requirement already satisfied: pyttsx3 in /Users/david/.pyenv/versions/3.8.10/lib/python3.8/site-packages (2.90)\n",
      "Requirement already satisfied: pyobjc>=2.4 in /Users/david/.pyenv/versions/3.8.10/lib/python3.8/site-packages (from pyttsx3) (7.3)\n",
      "Requirement already satisfied: pyobjc-framework-CoreWLAN==7.3 in /Users/david/.pyenv/versions/3.8.10/lib/python3.8/site-packages (from pyobjc>=2.4->pyttsx3) (7.3)\n",
      "Requirement already satisfied: pyobjc-framework-SecurityInterface==7.3 in /Users/david/.pyenv/versions/3.8.10/lib/python3.8/site-packages (from pyobjc>=2.4->pyttsx3) (7.3)\n",
      "Requirement already satisfied: pyobjc-framework-AppleScriptObjC==7.3 in /Users/david/.pyenv/versions/3.8.10/lib/python3.8/site-packages (from pyobjc>=2.4->pyttsx3) (7.3)\n",
      "Requirement already satisfied: pyobjc-framework-CoreMediaIO==7.3 in /Users/david/.pyenv/versions/3.8.10/lib/python3.8/site-packages (from pyobjc>=2.4->pyttsx3) (7.3)\n",
      "Requirement already satisfied: pyobjc-framework-LatentSemanticMapping==7.3 in /Users/david/.pyenv/versions/3.8.10/lib/python3.8/site-packages (from pyobjc>=2.4->pyttsx3) (7.3)\n",
      "Requirement already satisfied: pyobjc-framework-SecurityFoundation==7.3 in /Users/david/.pyenv/versions/3.8.10/lib/python3.8/site-packages (from pyobjc>=2.4->pyttsx3) (7.3)\n",
      "Requirement already satisfied: pyobjc-framework-Network==7.3 in /Users/david/.pyenv/versions/3.8.10/lib/python3.8/site-packages (from pyobjc>=2.4->pyttsx3) (7.3)\n",
      "Requirement already satisfied: pyobjc-framework-MapKit==7.3 in /Users/david/.pyenv/versions/3.8.10/lib/python3.8/site-packages (from pyobjc>=2.4->pyttsx3) (7.3)\n",
      "Requirement already satisfied: pyobjc-framework-KernelManagement==7.3 in /Users/david/.pyenv/versions/3.8.10/lib/python3.8/site-packages (from pyobjc>=2.4->pyttsx3) (7.3)\n",
      "Requirement already satisfied: pyobjc-framework-FSEvents==7.3 in /Users/david/.pyenv/versions/3.8.10/lib/python3.8/site-packages (from pyobjc>=2.4->pyttsx3) (7.3)\n",
      "Requirement already satisfied: pyobjc-framework-CoreAudio==7.3 in /Users/david/.pyenv/versions/3.8.10/lib/python3.8/site-packages (from pyobjc>=2.4->pyttsx3) (7.3)\n",
      "Requirement already satisfied: pyobjc-framework-LaunchServices==7.3 in /Users/david/.pyenv/versions/3.8.10/lib/python3.8/site-packages (from pyobjc>=2.4->pyttsx3) (7.3)\n",
      "Requirement already satisfied: pyobjc-framework-SyncServices==7.3 in /Users/david/.pyenv/versions/3.8.10/lib/python3.8/site-packages (from pyobjc>=2.4->pyttsx3) (7.3)\n",
      "Requirement already satisfied: pyobjc-core==7.3 in /Users/david/.pyenv/versions/3.8.10/lib/python3.8/site-packages (from pyobjc>=2.4->pyttsx3) (7.3)\n",
      "Requirement already satisfied: pyobjc-framework-MultipeerConnectivity==7.3 in /Users/david/.pyenv/versions/3.8.10/lib/python3.8/site-packages (from pyobjc>=2.4->pyttsx3) (7.3)\n",
      "Requirement already satisfied: pyobjc-framework-SystemExtensions==7.3 in /Users/david/.pyenv/versions/3.8.10/lib/python3.8/site-packages (from pyobjc>=2.4->pyttsx3) (7.3)\n",
      "Requirement already satisfied: pyobjc-framework-FileProvider==7.3 in /Users/david/.pyenv/versions/3.8.10/lib/python3.8/site-packages (from pyobjc>=2.4->pyttsx3) (7.3)\n",
      "Requirement already satisfied: pyobjc-framework-CloudKit==7.3 in /Users/david/.pyenv/versions/3.8.10/lib/python3.8/site-packages (from pyobjc>=2.4->pyttsx3) (7.3)\n",
      "Requirement already satisfied: pyobjc-framework-MediaPlayer==7.3 in /Users/david/.pyenv/versions/3.8.10/lib/python3.8/site-packages (from pyobjc>=2.4->pyttsx3) (7.3)\n",
      "Requirement already satisfied: pyobjc-framework-MetalKit==7.3 in /Users/david/.pyenv/versions/3.8.10/lib/python3.8/site-packages (from pyobjc>=2.4->pyttsx3) (7.3)\n",
      "Requirement already satisfied: pyobjc-framework-QuickLookThumbnailing==7.3 in /Users/david/.pyenv/versions/3.8.10/lib/python3.8/site-packages (from pyobjc>=2.4->pyttsx3) (7.3)\n",
      "Requirement already satisfied: pyobjc-framework-UserNotifications==7.3 in /Users/david/.pyenv/versions/3.8.10/lib/python3.8/site-packages (from pyobjc>=2.4->pyttsx3) (7.3)\n",
      "Requirement already satisfied: pyobjc-framework-CoreServices==7.3 in /Users/david/.pyenv/versions/3.8.10/lib/python3.8/site-packages (from pyobjc>=2.4->pyttsx3) (7.3)\n",
      "Requirement already satisfied: pyobjc-framework-Vision==7.3 in /Users/david/.pyenv/versions/3.8.10/lib/python3.8/site-packages (from pyobjc>=2.4->pyttsx3) (7.3)\n",
      "Requirement already satisfied: pyobjc-framework-AuthenticationServices==7.3 in /Users/david/.pyenv/versions/3.8.10/lib/python3.8/site-packages (from pyobjc>=2.4->pyttsx3) (7.3)\n",
      "Requirement already satisfied: pyobjc-framework-VideoSubscriberAccount==7.3 in /Users/david/.pyenv/versions/3.8.10/lib/python3.8/site-packages (from pyobjc>=2.4->pyttsx3) (7.3)\n",
      "Requirement already satisfied: pyobjc-framework-MLCompute==7.3 in /Users/david/.pyenv/versions/3.8.10/lib/python3.8/site-packages (from pyobjc>=2.4->pyttsx3) (7.3)\n",
      "Requirement already satisfied: pyobjc-framework-Contacts==7.3 in /Users/david/.pyenv/versions/3.8.10/lib/python3.8/site-packages (from pyobjc>=2.4->pyttsx3) (7.3)\n",
      "Requirement already satisfied: pyobjc-framework-SearchKit==7.3 in /Users/david/.pyenv/versions/3.8.10/lib/python3.8/site-packages (from pyobjc>=2.4->pyttsx3) (7.3)\n",
      "Requirement already satisfied: pyobjc-framework-DeviceCheck==7.3 in /Users/david/.pyenv/versions/3.8.10/lib/python3.8/site-packages (from pyobjc>=2.4->pyttsx3) (7.3)\n",
      "Requirement already satisfied: pyobjc-framework-MediaAccessibility==7.3 in /Users/david/.pyenv/versions/3.8.10/lib/python3.8/site-packages (from pyobjc>=2.4->pyttsx3) (7.3)\n",
      "Requirement already satisfied: pyobjc-framework-MediaLibrary==7.3 in /Users/david/.pyenv/versions/3.8.10/lib/python3.8/site-packages (from pyobjc>=2.4->pyttsx3) (7.3)\n",
      "Requirement already satisfied: pyobjc-framework-ServiceManagement==7.3 in /Users/david/.pyenv/versions/3.8.10/lib/python3.8/site-packages (from pyobjc>=2.4->pyttsx3) (7.3)\n",
      "Requirement already satisfied: pyobjc-framework-Quartz==7.3 in /Users/david/.pyenv/versions/3.8.10/lib/python3.8/site-packages (from pyobjc>=2.4->pyttsx3) (7.3)\n",
      "Requirement already satisfied: pyobjc-framework-ColorSync==7.3 in /Users/david/.pyenv/versions/3.8.10/lib/python3.8/site-packages (from pyobjc>=2.4->pyttsx3) (7.3)\n",
      "Requirement already satisfied: pyobjc-framework-VideoToolbox==7.3 in /Users/david/.pyenv/versions/3.8.10/lib/python3.8/site-packages (from pyobjc>=2.4->pyttsx3) (7.3)\n",
      "Requirement already satisfied: pyobjc-framework-ClassKit==7.3 in /Users/david/.pyenv/versions/3.8.10/lib/python3.8/site-packages (from pyobjc>=2.4->pyttsx3) (7.3)\n",
      "Requirement already satisfied: pyobjc-framework-PassKit==7.3 in /Users/david/.pyenv/versions/3.8.10/lib/python3.8/site-packages (from pyobjc>=2.4->pyttsx3) (7.3)\n",
      "Requirement already satisfied: pyobjc-framework-AdServices==7.3 in /Users/david/.pyenv/versions/3.8.10/lib/python3.8/site-packages (from pyobjc>=2.4->pyttsx3) (7.3)\n",
      "Requirement already satisfied: pyobjc-framework-AutomaticAssessmentConfiguration==7.3 in /Users/david/.pyenv/versions/3.8.10/lib/python3.8/site-packages (from pyobjc>=2.4->pyttsx3) (7.3)\n",
      "Requirement already satisfied: pyobjc-framework-ScreenTime==7.3 in /Users/david/.pyenv/versions/3.8.10/lib/python3.8/site-packages (from pyobjc>=2.4->pyttsx3) (7.3)\n",
      "Requirement already satisfied: pyobjc-framework-NaturalLanguage==7.3 in /Users/david/.pyenv/versions/3.8.10/lib/python3.8/site-packages (from pyobjc>=2.4->pyttsx3) (7.3)\n",
      "Requirement already satisfied: pyobjc-framework-Accessibility==7.3 in /Users/david/.pyenv/versions/3.8.10/lib/python3.8/site-packages (from pyobjc>=2.4->pyttsx3) (7.3)\n",
      "Requirement already satisfied: pyobjc-framework-GameController==7.3 in /Users/david/.pyenv/versions/3.8.10/lib/python3.8/site-packages (from pyobjc>=2.4->pyttsx3) (7.3)\n",
      "Requirement already satisfied: pyobjc-framework-MetalPerformanceShaders==7.3 in /Users/david/.pyenv/versions/3.8.10/lib/python3.8/site-packages (from pyobjc>=2.4->pyttsx3) (7.3)\n",
      "Requirement already satisfied: pyobjc-framework-CoreMIDI==7.3 in /Users/david/.pyenv/versions/3.8.10/lib/python3.8/site-packages (from pyobjc>=2.4->pyttsx3) (7.3)\n",
      "Requirement already satisfied: pyobjc-framework-AddressBook==7.3 in /Users/david/.pyenv/versions/3.8.10/lib/python3.8/site-packages (from pyobjc>=2.4->pyttsx3) (7.3)\n",
      "Requirement already satisfied: pyobjc-framework-IMServicePlugIn==7.3 in /Users/david/.pyenv/versions/3.8.10/lib/python3.8/site-packages (from pyobjc>=2.4->pyttsx3) (7.3)\n",
      "Requirement already satisfied: pyobjc-framework-AppleScriptKit==7.3 in /Users/david/.pyenv/versions/3.8.10/lib/python3.8/site-packages (from pyobjc>=2.4->pyttsx3) (7.3)\n"
     ]
    },
    {
     "name": "stdout",
     "output_type": "stream",
     "text": [
      "Requirement already satisfied: pyobjc-framework-ApplicationServices==7.3 in /Users/david/.pyenv/versions/3.8.10/lib/python3.8/site-packages (from pyobjc>=2.4->pyttsx3) (7.3)\n",
      "Requirement already satisfied: pyobjc-framework-ModelIO==7.3 in /Users/david/.pyenv/versions/3.8.10/lib/python3.8/site-packages (from pyobjc>=2.4->pyttsx3) (7.3)\n",
      "Requirement already satisfied: pyobjc-framework-CoreText==7.3 in /Users/david/.pyenv/versions/3.8.10/lib/python3.8/site-packages (from pyobjc>=2.4->pyttsx3) (7.3)\n",
      "Requirement already satisfied: pyobjc-framework-ExceptionHandling==7.3 in /Users/david/.pyenv/versions/3.8.10/lib/python3.8/site-packages (from pyobjc>=2.4->pyttsx3) (7.3)\n",
      "Requirement already satisfied: pyobjc-framework-DVDPlayback==7.3 in /Users/david/.pyenv/versions/3.8.10/lib/python3.8/site-packages (from pyobjc>=2.4->pyttsx3) (7.3)\n",
      "Requirement already satisfied: pyobjc-framework-GameCenter==7.3 in /Users/david/.pyenv/versions/3.8.10/lib/python3.8/site-packages (from pyobjc>=2.4->pyttsx3) (7.3)\n",
      "Requirement already satisfied: pyobjc-framework-BusinessChat==7.3 in /Users/david/.pyenv/versions/3.8.10/lib/python3.8/site-packages (from pyobjc>=2.4->pyttsx3) (7.3)\n",
      "Requirement already satisfied: pyobjc-framework-InputMethodKit==7.3 in /Users/david/.pyenv/versions/3.8.10/lib/python3.8/site-packages (from pyobjc>=2.4->pyttsx3) (7.3)\n",
      "Requirement already satisfied: pyobjc-framework-SystemConfiguration==7.3 in /Users/david/.pyenv/versions/3.8.10/lib/python3.8/site-packages (from pyobjc>=2.4->pyttsx3) (7.3)\n",
      "Requirement already satisfied: pyobjc-framework-Cocoa==7.3 in /Users/david/.pyenv/versions/3.8.10/lib/python3.8/site-packages (from pyobjc>=2.4->pyttsx3) (7.3)\n",
      "Requirement already satisfied: pyobjc-framework-UserNotificationsUI==7.3 in /Users/david/.pyenv/versions/3.8.10/lib/python3.8/site-packages (from pyobjc>=2.4->pyttsx3) (7.3)\n",
      "Requirement already satisfied: pyobjc-framework-ContactsUI==7.3 in /Users/david/.pyenv/versions/3.8.10/lib/python3.8/site-packages (from pyobjc>=2.4->pyttsx3) (7.3)\n",
      "Requirement already satisfied: pyobjc-framework-OSLog==7.3 in /Users/david/.pyenv/versions/3.8.10/lib/python3.8/site-packages (from pyobjc>=2.4->pyttsx3) (7.3)\n",
      "Requirement already satisfied: pyobjc-framework-AVFoundation==7.3 in /Users/david/.pyenv/versions/3.8.10/lib/python3.8/site-packages (from pyobjc>=2.4->pyttsx3) (7.3)\n",
      "Requirement already satisfied: pyobjc-framework-AVKit==7.3 in /Users/david/.pyenv/versions/3.8.10/lib/python3.8/site-packages (from pyobjc>=2.4->pyttsx3) (7.3)\n",
      "Requirement already satisfied: pyobjc-framework-CallKit==7.3 in /Users/david/.pyenv/versions/3.8.10/lib/python3.8/site-packages (from pyobjc>=2.4->pyttsx3) (7.3)\n",
      "Requirement already satisfied: pyobjc-framework-SpriteKit==7.3 in /Users/david/.pyenv/versions/3.8.10/lib/python3.8/site-packages (from pyobjc>=2.4->pyttsx3) (7.3)\n",
      "Requirement already satisfied: pyobjc-framework-ScreenSaver==7.3 in /Users/david/.pyenv/versions/3.8.10/lib/python3.8/site-packages (from pyobjc>=2.4->pyttsx3) (7.3)\n",
      "Requirement already satisfied: pyobjc-framework-FileProviderUI==7.3 in /Users/david/.pyenv/versions/3.8.10/lib/python3.8/site-packages (from pyobjc>=2.4->pyttsx3) (7.3)\n",
      "Requirement already satisfied: pyobjc-framework-CoreMedia==7.3 in /Users/david/.pyenv/versions/3.8.10/lib/python3.8/site-packages (from pyobjc>=2.4->pyttsx3) (7.3)\n",
      "Requirement already satisfied: pyobjc-framework-CalendarStore==7.3 in /Users/david/.pyenv/versions/3.8.10/lib/python3.8/site-packages (from pyobjc>=2.4->pyttsx3) (7.3)\n",
      "Requirement already satisfied: pyobjc-framework-Collaboration==7.3 in /Users/david/.pyenv/versions/3.8.10/lib/python3.8/site-packages (from pyobjc>=2.4->pyttsx3) (7.3)\n",
      "Requirement already satisfied: pyobjc-framework-SceneKit==7.3 in /Users/david/.pyenv/versions/3.8.10/lib/python3.8/site-packages (from pyobjc>=2.4->pyttsx3) (7.3)\n",
      "Requirement already satisfied: pyobjc-framework-Speech==7.3 in /Users/david/.pyenv/versions/3.8.10/lib/python3.8/site-packages (from pyobjc>=2.4->pyttsx3) (7.3)\n",
      "Requirement already satisfied: pyobjc-framework-LinkPresentation==7.3 in /Users/david/.pyenv/versions/3.8.10/lib/python3.8/site-packages (from pyobjc>=2.4->pyttsx3) (7.3)\n",
      "Requirement already satisfied: pyobjc-framework-DictionaryServices==7.3 in /Users/david/.pyenv/versions/3.8.10/lib/python3.8/site-packages (from pyobjc>=2.4->pyttsx3) (7.3)\n",
      "Requirement already satisfied: pyobjc-framework-SafariServices==7.3 in /Users/david/.pyenv/versions/3.8.10/lib/python3.8/site-packages (from pyobjc>=2.4->pyttsx3) (7.3)\n",
      "Requirement already satisfied: pyobjc-framework-InstantMessage==7.3 in /Users/david/.pyenv/versions/3.8.10/lib/python3.8/site-packages (from pyobjc>=2.4->pyttsx3) (7.3)\n",
      "Requirement already satisfied: pyobjc-framework-iTunesLibrary==7.3 in /Users/david/.pyenv/versions/3.8.10/lib/python3.8/site-packages (from pyobjc>=2.4->pyttsx3) (7.3)\n",
      "Requirement already satisfied: pyobjc-framework-DiscRecordingUI==7.3 in /Users/david/.pyenv/versions/3.8.10/lib/python3.8/site-packages (from pyobjc>=2.4->pyttsx3) (7.3)\n",
      "Requirement already satisfied: pyobjc-framework-CoreLocation==7.3 in /Users/david/.pyenv/versions/3.8.10/lib/python3.8/site-packages (from pyobjc>=2.4->pyttsx3) (7.3)\n",
      "Requirement already satisfied: pyobjc-framework-UniformTypeIdentifiers==7.3 in /Users/david/.pyenv/versions/3.8.10/lib/python3.8/site-packages (from pyobjc>=2.4->pyttsx3) (7.3)\n",
      "Requirement already satisfied: pyobjc-framework-CoreAudioKit==7.3 in /Users/david/.pyenv/versions/3.8.10/lib/python3.8/site-packages (from pyobjc>=2.4->pyttsx3) (7.3)\n",
      "Requirement already satisfied: pyobjc-framework-IOSurface==7.3 in /Users/david/.pyenv/versions/3.8.10/lib/python3.8/site-packages (from pyobjc>=2.4->pyttsx3) (7.3)\n",
      "Requirement already satisfied: pyobjc-framework-WebKit==7.3 in /Users/david/.pyenv/versions/3.8.10/lib/python3.8/site-packages (from pyobjc>=2.4->pyttsx3) (7.3)\n",
      "Requirement already satisfied: pyobjc-framework-CoreData==7.3 in /Users/david/.pyenv/versions/3.8.10/lib/python3.8/site-packages (from pyobjc>=2.4->pyttsx3) (7.3)\n",
      "Requirement already satisfied: pyobjc-framework-StoreKit==7.3 in /Users/david/.pyenv/versions/3.8.10/lib/python3.8/site-packages (from pyobjc>=2.4->pyttsx3) (7.3)\n",
      "Requirement already satisfied: pyobjc-framework-Metal==7.3 in /Users/david/.pyenv/versions/3.8.10/lib/python3.8/site-packages (from pyobjc>=2.4->pyttsx3) (7.3)\n",
      "Requirement already satisfied: pyobjc-framework-EventKit==7.3 in /Users/david/.pyenv/versions/3.8.10/lib/python3.8/site-packages (from pyobjc>=2.4->pyttsx3) (7.3)\n",
      "Requirement already satisfied: pyobjc-framework-Social==7.3 in /Users/david/.pyenv/versions/3.8.10/lib/python3.8/site-packages (from pyobjc>=2.4->pyttsx3) (7.3)\n",
      "Requirement already satisfied: pyobjc-framework-OpenDirectory==7.3 in /Users/david/.pyenv/versions/3.8.10/lib/python3.8/site-packages (from pyobjc>=2.4->pyttsx3) (7.3)\n",
      "Requirement already satisfied: pyobjc-framework-PhotosUI==7.3 in /Users/david/.pyenv/versions/3.8.10/lib/python3.8/site-packages (from pyobjc>=2.4->pyttsx3) (7.3)\n",
      "Requirement already satisfied: pyobjc-framework-libdispatch==7.3 in /Users/david/.pyenv/versions/3.8.10/lib/python3.8/site-packages (from pyobjc>=2.4->pyttsx3) (7.3)\n",
      "Requirement already satisfied: pyobjc-framework-ReplayKit==7.3 in /Users/david/.pyenv/versions/3.8.10/lib/python3.8/site-packages (from pyobjc>=2.4->pyttsx3) (7.3)\n",
      "Requirement already satisfied: pyobjc-framework-OSAKit==7.3 in /Users/david/.pyenv/versions/3.8.10/lib/python3.8/site-packages (from pyobjc>=2.4->pyttsx3) (7.3)\n",
      "Requirement already satisfied: pyobjc-framework-Accounts==7.3 in /Users/david/.pyenv/versions/3.8.10/lib/python3.8/site-packages (from pyobjc>=2.4->pyttsx3) (7.3)\n",
      "Requirement already satisfied: pyobjc-framework-PushKit==7.3 in /Users/david/.pyenv/versions/3.8.10/lib/python3.8/site-packages (from pyobjc>=2.4->pyttsx3) (7.3)\n",
      "Requirement already satisfied: pyobjc-framework-NetworkExtension==7.3 in /Users/david/.pyenv/versions/3.8.10/lib/python3.8/site-packages (from pyobjc>=2.4->pyttsx3) (7.3)\n",
      "Requirement already satisfied: pyobjc-framework-Virtualization==7.3 in /Users/david/.pyenv/versions/3.8.10/lib/python3.8/site-packages (from pyobjc>=2.4->pyttsx3) (7.3)\n",
      "Requirement already satisfied: pyobjc-framework-Photos==7.3 in /Users/david/.pyenv/versions/3.8.10/lib/python3.8/site-packages (from pyobjc>=2.4->pyttsx3) (7.3)\n",
      "Requirement already satisfied: pyobjc-framework-CoreMotion==7.3 in /Users/david/.pyenv/versions/3.8.10/lib/python3.8/site-packages (from pyobjc>=2.4->pyttsx3) (7.3)\n",
      "Requirement already satisfied: pyobjc-framework-AppTrackingTransparency==7.3 in /Users/david/.pyenv/versions/3.8.10/lib/python3.8/site-packages (from pyobjc>=2.4->pyttsx3) (7.3)\n",
      "Requirement already satisfied: pyobjc-framework-NotificationCenter==7.3 in /Users/david/.pyenv/versions/3.8.10/lib/python3.8/site-packages (from pyobjc>=2.4->pyttsx3) (7.3)\n",
      "Requirement already satisfied: pyobjc-framework-CoreSpotlight==7.3 in /Users/david/.pyenv/versions/3.8.10/lib/python3.8/site-packages (from pyobjc>=2.4->pyttsx3) (7.3)\n",
      "Requirement already satisfied: pyobjc-framework-MediaToolbox==7.3 in /Users/david/.pyenv/versions/3.8.10/lib/python3.8/site-packages (from pyobjc>=2.4->pyttsx3) (7.3)\n",
      "Requirement already satisfied: pyobjc-framework-SoundAnalysis==7.3 in /Users/david/.pyenv/versions/3.8.10/lib/python3.8/site-packages (from pyobjc>=2.4->pyttsx3) (7.3)\n",
      "Requirement already satisfied: pyobjc-framework-CryptoTokenKit==7.3 in /Users/david/.pyenv/versions/3.8.10/lib/python3.8/site-packages (from pyobjc>=2.4->pyttsx3) (7.3)\n",
      "Requirement already satisfied: pyobjc-framework-CoreML==7.3 in /Users/david/.pyenv/versions/3.8.10/lib/python3.8/site-packages (from pyobjc>=2.4->pyttsx3) (7.3)\n",
      "Requirement already satisfied: pyobjc-framework-MetalPerformanceShadersGraph==7.3 in /Users/david/.pyenv/versions/3.8.10/lib/python3.8/site-packages (from pyobjc>=2.4->pyttsx3) (7.3)\n",
      "Requirement already satisfied: pyobjc-framework-CFNetwork==7.3 in /Users/david/.pyenv/versions/3.8.10/lib/python3.8/site-packages (from pyobjc>=2.4->pyttsx3) (7.3)\n",
      "Requirement already satisfied: pyobjc-framework-ExternalAccessory==7.3 in /Users/david/.pyenv/versions/3.8.10/lib/python3.8/site-packages (from pyobjc>=2.4->pyttsx3) (7.3)\n",
      "Requirement already satisfied: pyobjc-framework-ExecutionPolicy==7.3 in /Users/david/.pyenv/versions/3.8.10/lib/python3.8/site-packages (from pyobjc>=2.4->pyttsx3) (7.3)\n",
      "Requirement already satisfied: pyobjc-framework-GameKit==7.3 in /Users/david/.pyenv/versions/3.8.10/lib/python3.8/site-packages (from pyobjc>=2.4->pyttsx3) (7.3)\n",
      "Requirement already satisfied: pyobjc-framework-ScriptingBridge==7.3 in /Users/david/.pyenv/versions/3.8.10/lib/python3.8/site-packages (from pyobjc>=2.4->pyttsx3) (7.3)\n"
     ]
    },
    {
     "name": "stdout",
     "output_type": "stream",
     "text": [
      "Requirement already satisfied: pyobjc-framework-Automator==7.3 in /Users/david/.pyenv/versions/3.8.10/lib/python3.8/site-packages (from pyobjc>=2.4->pyttsx3) (7.3)\n",
      "Requirement already satisfied: pyobjc-framework-Security==7.3 in /Users/david/.pyenv/versions/3.8.10/lib/python3.8/site-packages (from pyobjc>=2.4->pyttsx3) (7.3)\n",
      "Requirement already satisfied: pyobjc-framework-DiskArbitration==7.3 in /Users/david/.pyenv/versions/3.8.10/lib/python3.8/site-packages (from pyobjc>=2.4->pyttsx3) (7.3)\n",
      "Requirement already satisfied: pyobjc-framework-InstallerPlugins==7.3 in /Users/david/.pyenv/versions/3.8.10/lib/python3.8/site-packages (from pyobjc>=2.4->pyttsx3) (7.3)\n",
      "Requirement already satisfied: pyobjc-framework-PencilKit==7.3 in /Users/david/.pyenv/versions/3.8.10/lib/python3.8/site-packages (from pyobjc>=2.4->pyttsx3) (7.3)\n",
      "Requirement already satisfied: pyobjc-framework-AdSupport==7.3 in /Users/david/.pyenv/versions/3.8.10/lib/python3.8/site-packages (from pyobjc>=2.4->pyttsx3) (7.3)\n",
      "Requirement already satisfied: pyobjc-framework-ImageCaptureCore==7.3 in /Users/david/.pyenv/versions/3.8.10/lib/python3.8/site-packages (from pyobjc>=2.4->pyttsx3) (7.3)\n",
      "Requirement already satisfied: pyobjc-framework-CoreBluetooth==7.3 in /Users/david/.pyenv/versions/3.8.10/lib/python3.8/site-packages (from pyobjc>=2.4->pyttsx3) (7.3)\n",
      "Requirement already satisfied: pyobjc-framework-CoreHaptics==7.3 in /Users/david/.pyenv/versions/3.8.10/lib/python3.8/site-packages (from pyobjc>=2.4->pyttsx3) (7.3)\n",
      "Requirement already satisfied: pyobjc-framework-NetFS==7.3 in /Users/david/.pyenv/versions/3.8.10/lib/python3.8/site-packages (from pyobjc>=2.4->pyttsx3) (7.3)\n",
      "Requirement already satisfied: pyobjc-framework-LocalAuthentication==7.3 in /Users/david/.pyenv/versions/3.8.10/lib/python3.8/site-packages (from pyobjc>=2.4->pyttsx3) (7.3)\n",
      "Requirement already satisfied: pyobjc-framework-PreferencePanes==7.3 in /Users/david/.pyenv/versions/3.8.10/lib/python3.8/site-packages (from pyobjc>=2.4->pyttsx3) (7.3)\n",
      "Requirement already satisfied: pyobjc-framework-DiscRecording==7.3 in /Users/david/.pyenv/versions/3.8.10/lib/python3.8/site-packages (from pyobjc>=2.4->pyttsx3) (7.3)\n",
      "Requirement already satisfied: pyobjc-framework-Intents==7.3 in /Users/david/.pyenv/versions/3.8.10/lib/python3.8/site-packages (from pyobjc>=2.4->pyttsx3) (7.3)\n",
      "Requirement already satisfied: pyobjc-framework-FinderSync==7.3 in /Users/david/.pyenv/versions/3.8.10/lib/python3.8/site-packages (from pyobjc>=2.4->pyttsx3) (7.3)\n",
      "Requirement already satisfied: pyobjc-framework-GameplayKit==7.3 in /Users/david/.pyenv/versions/3.8.10/lib/python3.8/site-packages (from pyobjc>=2.4->pyttsx3) (7.3)\n",
      "\u001b[33mWARNING: You are using pip version 21.1.1; however, version 21.3.1 is available.\n",
      "You should consider upgrading via the '/Users/david/.pyenv/versions/3.8.10/bin/python3.8 -m pip install --upgrade pip' command.\u001b[0m\n"
     ]
    }
   ],
   "source": [
    "! pip install pyttsx3"
   ]
  },
  {
   "cell_type": "code",
   "execution_count": 7,
   "id": "ee5eb1a8",
   "metadata": {},
   "outputs": [],
   "source": [
    "import pyttsx3\n",
    "engine = pyttsx3.init()\n",
    "engine.say(\"I will speak this text\")\n",
    "engine.runAndWait()"
   ]
  },
  {
   "cell_type": "code",
   "execution_count": 15,
   "id": "2a9b180f",
   "metadata": {},
   "outputs": [
    {
     "name": "stdout",
     "output_type": "stream",
     "text": [
      "Voice: Alex\n",
      "Voice: Alice\n",
      "Voice: Alva\n",
      "Voice: Amelie\n",
      "Voice: Anna\n",
      "Voice: Carmit\n",
      "Voice: Damayanti\n",
      "Voice: Daniel\n",
      "Voice: Diego\n",
      "Voice: Ellen\n",
      "Voice: Fiona\n",
      "Voice: Fred\n",
      "Voice: Ioana\n",
      "Voice: Joana\n",
      "Voice: Jorge\n",
      "Voice: Juan\n",
      "Voice: Kanya\n",
      "Voice: Karen\n",
      "Voice: Kyoko\n",
      "Voice: Laura\n",
      "Voice: Lekha\n",
      "Voice: Luca\n",
      "Voice: Luciana\n",
      "Voice: Maged\n",
      "Voice: Mariska\n",
      "Voice: Mei-Jia\n",
      "Voice: Melina\n",
      "Voice: Milena\n",
      "Voice: Moira\n",
      "Voice: Monica\n",
      "Voice: Nora\n",
      "Voice: Paulina\n",
      "Voice: Rishi\n",
      "Voice: Samantha\n",
      "Voice: Sara\n",
      "Voice: Satu\n",
      "Voice: Sin-ji\n",
      "Voice: Tessa\n",
      "Voice: Thomas\n",
      "Voice: Ting-Ting\n",
      "Voice: Veena\n",
      "Voice: Victoria\n",
      "Voice: Xander\n",
      "Voice: Yelda\n",
      "Voice: Yuna\n",
      "Voice: Yuri\n",
      "Voice: Zosia\n",
      "Voice: Zuzana\n"
     ]
    }
   ],
   "source": [
    "voices = engine.getProperty('voices')\n",
    "for voice in voices:\n",
    "    print(f\"Voice: {voice.name}\")"
   ]
  },
  {
   "cell_type": "code",
   "execution_count": 22,
   "id": "110d9c12",
   "metadata": {},
   "outputs": [],
   "source": [
    "import pyttsx3\n",
    "engine = pyttsx3.init()\n",
    "engine.say('語音合成開始')\n",
    "engine.say('我會說中文了，開森，開森')\n",
    "engine.runAndWait()"
   ]
  },
  {
   "cell_type": "code",
   "execution_count": null,
   "id": "1a74d823",
   "metadata": {},
   "outputs": [],
   "source": [
    "! pip install pygame"
   ]
  },
  {
   "cell_type": "code",
   "execution_count": null,
   "id": "19e28fef",
   "metadata": {},
   "outputs": [],
   "source": [
    "! pip install gTTS"
   ]
  },
  {
   "cell_type": "code",
   "execution_count": 23,
   "id": "72d12ad0",
   "metadata": {},
   "outputs": [
    {
     "name": "stdout",
     "output_type": "stream",
     "text": [
      "pygame 2.0.1 (SDL 2.0.14, Python 3.8.10)\n",
      "Hello from the pygame community. https://www.pygame.org/contribute.html\n"
     ]
    }
   ],
   "source": [
    "from gtts import gTTS\n",
    "from pygame import mixer\n",
    "mixer.init()\n",
    "import tempfile\n",
    "\n",
    "def speak(sentence):\n",
    "    with tempfile.NamedTemporaryFile(delete=True) as fp:\n",
    "        tts = gTTS(text=sentence, lang='zh')\n",
    "        tts.save(\"{}.mp3\".format(fp.name))\n",
    "        mixer.music.load('{}.mp3'.format(fp.name))\n",
    "        mixer.music.play()\n",
    "        \n",
    "speak('今天很高興來到貴寶地')"
   ]
  },
  {
   "cell_type": "markdown",
   "id": "441bc9a4",
   "metadata": {},
   "source": [
    "## 範例"
   ]
  },
  {
   "cell_type": "code",
   "execution_count": 27,
   "id": "12d5fc5e",
   "metadata": {},
   "outputs": [],
   "source": [
    "import speech_recognition as sr\n",
    "\n",
    "def listenTo():\n",
    "    r = sr.Recognizer()\n",
    "    with sr.Microphone() as source:\n",
    "        print(\"Say something!\")\n",
    "        audio = r.listen(source)\n",
    "    return(r.recognize_google(audio, language= 'zh-TW'))"
   ]
  },
  {
   "cell_type": "code",
   "execution_count": 29,
   "id": "6d824f48",
   "metadata": {},
   "outputs": [
    {
     "name": "stdout",
     "output_type": "stream",
     "text": [
      "Say something!\n"
     ]
    }
   ],
   "source": [
    "speak(listenTo())"
   ]
  },
  {
   "cell_type": "code",
   "execution_count": null,
   "id": "e3ffe20d",
   "metadata": {},
   "outputs": [],
   "source": []
  }
 ],
 "metadata": {
  "kernelspec": {
   "display_name": "Python 3 (ipykernel)",
   "language": "python",
   "name": "python3"
  },
  "language_info": {
   "codemirror_mode": {
    "name": "ipython",
    "version": 3
   },
   "file_extension": ".py",
   "mimetype": "text/x-python",
   "name": "python",
   "nbconvert_exporter": "python",
   "pygments_lexer": "ipython3",
   "version": "3.8.10"
  }
 },
 "nbformat": 4,
 "nbformat_minor": 5
}
