{
 "cells": [
  {
   "cell_type": "markdown",
   "id": "ce837610",
   "metadata": {},
   "source": [
    "## 語音辨識"
   ]
  },
  {
   "cell_type": "code",
   "execution_count": 24,
   "id": "4758bb37",
   "metadata": {},
   "outputs": [
    {
     "name": "stdout",
     "output_type": "stream",
     "text": [
      "Requirement already satisfied: SpeechRecognition in /Users/david/.pyenv/versions/3.8.10/lib/python3.8/site-packages (3.8.1)\n",
      "\u001b[33mWARNING: You are using pip version 21.1.1; however, version 21.3.1 is available.\n",
      "You should consider upgrading via the '/Users/david/.pyenv/versions/3.8.10/bin/python3.8 -m pip install --upgrade pip' command.\u001b[0m\n"
     ]
    }
   ],
   "source": [
    "! pip install SpeechRecognition"
   ]
  },
  {
   "cell_type": "code",
   "execution_count": 25,
   "id": "1a115d06",
   "metadata": {},
   "outputs": [
    {
     "name": "stdout",
     "output_type": "stream",
     "text": [
      "Requirement already satisfied: PyAudio in /Users/david/.pyenv/versions/3.8.10/lib/python3.8/site-packages (0.2.11)\n",
      "\u001b[33mWARNING: You are using pip version 21.1.1; however, version 21.3.1 is available.\n",
      "You should consider upgrading via the '/Users/david/.pyenv/versions/3.8.10/bin/python3.8 -m pip install --upgrade pip' command.\u001b[0m\n"
     ]
    }
   ],
   "source": [
    "! pip install PyAudio"
   ]
  },
  {
   "cell_type": "code",
   "execution_count": 26,
   "id": "b66c557d",
   "metadata": {},
   "outputs": [
    {
     "name": "stdout",
     "output_type": "stream",
     "text": [
      "Say something!\n",
      "大家好今天很高興來到貴寶地\n"
     ]
    }
   ],
   "source": [
    "import speech_recognition as sr\n",
    "\n",
    "# obtain audio from the microphone\n",
    "r = sr.Recognizer()\n",
    "with sr.Microphone() as source:\n",
    "    print(\"Say something!\")\n",
    "    audio = r.listen(source)\n",
    "\n",
    "print(r.recognize_google(audio, language= 'zh-TW'))"
   ]
  },
  {
   "cell_type": "code",
   "execution_count": 4,
   "id": "0b6cdab7",
   "metadata": {},
   "outputs": [],
   "source": [
    "?r.recognize_google"
   ]
  },
  {
   "cell_type": "markdown",
   "id": "8d67fe47",
   "metadata": {},
   "source": [
    "## 文字轉語音"
   ]
  },
  {
   "cell_type": "code",
   "execution_count": 6,
   "id": "0abc9b16",
   "metadata": {
    "collapsed": true
   },
   "outputs": [
    {
     "name": "stdout",
     "output_type": "stream",
     "text": [
      "Requirement already satisfied: pyttsx3 in /Users/david/.pyenv/versions/3.8.10/lib/python3.8/site-packages (2.90)\n",
      "Requirement already satisfied: pyobjc>=2.4 in /Users/david/.pyenv/versions/3.8.10/lib/python3.8/site-packages (from pyttsx3) (7.3)\n",
      "Requirement already satisfied: pyobjc-framework-CoreWLAN==7.3 in /Users/david/.pyenv/versions/3.8.10/lib/python3.8/site-packages (from pyobjc>=2.4->pyttsx3) (7.3)\n",
      "Requirement already satisfied: pyobjc-framework-SecurityInterface==7.3 in /Users/david/.pyenv/versions/3.8.10/lib/python3.8/site-packages (from pyobjc>=2.4->pyttsx3) (7.3)\n",
      "Requirement already satisfied: pyobjc-framework-AppleScriptObjC==7.3 in /Users/david/.pyenv/versions/3.8.10/lib/python3.8/site-packages (from pyobjc>=2.4->pyttsx3) (7.3)\n",
      "Requirement already satisfied: pyobjc-framework-CoreMediaIO==7.3 in /Users/david/.pyenv/versions/3.8.10/lib/python3.8/site-packages (from pyobjc>=2.4->pyttsx3) (7.3)\n",
      "Requirement already satisfied: pyobjc-framework-LatentSemanticMapping==7.3 in /Users/david/.pyenv/versions/3.8.10/lib/python3.8/site-packages (from pyobjc>=2.4->pyttsx3) (7.3)\n",
      "Requirement already satisfied: pyobjc-framework-SecurityFoundation==7.3 in /Users/david/.pyenv/versions/3.8.10/lib/python3.8/site-packages (from pyobjc>=2.4->pyttsx3) (7.3)\n",
      "Requirement already satisfied: pyobjc-framework-Network==7.3 in /Users/david/.pyenv/versions/3.8.10/lib/python3.8/site-packages (from pyobjc>=2.4->pyttsx3) (7.3)\n",
      "Requirement already satisfied: pyobjc-framework-MapKit==7.3 in /Users/david/.pyenv/versions/3.8.10/lib/python3.8/site-packages (from pyobjc>=2.4->pyttsx3) (7.3)\n",
      "Requirement already satisfied: pyobjc-framework-KernelManagement==7.3 in /Users/david/.pyenv/versions/3.8.10/lib/python3.8/site-packages (from pyobjc>=2.4->pyttsx3) (7.3)\n",
      "Requirement already satisfied: pyobjc-framework-FSEvents==7.3 in /Users/david/.pyenv/versions/3.8.10/lib/python3.8/site-packages (from pyobjc>=2.4->pyttsx3) (7.3)\n",
      "Requirement already satisfied: pyobjc-framework-CoreAudio==7.3 in /Users/david/.pyenv/versions/3.8.10/lib/python3.8/site-packages (from pyobjc>=2.4->pyttsx3) (7.3)\n",
      "Requirement already satisfied: pyobjc-framework-LaunchServices==7.3 in /Users/david/.pyenv/versions/3.8.10/lib/python3.8/site-packages (from pyobjc>=2.4->pyttsx3) (7.3)\n",
      "Requirement already satisfied: pyobjc-framework-SyncServices==7.3 in /Users/david/.pyenv/versions/3.8.10/lib/python3.8/site-packages (from pyobjc>=2.4->pyttsx3) (7.3)\n",
      "Requirement already satisfied: pyobjc-core==7.3 in /Users/david/.pyenv/versions/3.8.10/lib/python3.8/site-packages (from pyobjc>=2.4->pyttsx3) (7.3)\n",
      "Requirement already satisfied: pyobjc-framework-MultipeerConnectivity==7.3 in /Users/david/.pyenv/versions/3.8.10/lib/python3.8/site-packages (from pyobjc>=2.4->pyttsx3) (7.3)\n",
      "Requirement already satisfied: pyobjc-framework-SystemExtensions==7.3 in /Users/david/.pyenv/versions/3.8.10/lib/python3.8/site-packages (from pyobjc>=2.4->pyttsx3) (7.3)\n",
      "Requirement already satisfied: pyobjc-framework-FileProvider==7.3 in /Users/david/.pyenv/versions/3.8.10/lib/python3.8/site-packages (from pyobjc>=2.4->pyttsx3) (7.3)\n",
      "Requirement already satisfied: pyobjc-framework-CloudKit==7.3 in /Users/david/.pyenv/versions/3.8.10/lib/python3.8/site-packages (from pyobjc>=2.4->pyttsx3) (7.3)\n",
      "Requirement already satisfied: pyobjc-framework-MediaPlayer==7.3 in /Users/david/.pyenv/versions/3.8.10/lib/python3.8/site-packages (from pyobjc>=2.4->pyttsx3) (7.3)\n",
      "Requirement already satisfied: pyobjc-framework-MetalKit==7.3 in /Users/david/.pyenv/versions/3.8.10/lib/python3.8/site-packages (from pyobjc>=2.4->pyttsx3) (7.3)\n",
      "Requirement already satisfied: pyobjc-framework-QuickLookThumbnailing==7.3 in /Users/david/.pyenv/versions/3.8.10/lib/python3.8/site-packages (from pyobjc>=2.4->pyttsx3) (7.3)\n",
      "Requirement already satisfied: pyobjc-framework-UserNotifications==7.3 in /Users/david/.pyenv/versions/3.8.10/lib/python3.8/site-packages (from pyobjc>=2.4->pyttsx3) (7.3)\n",
      "Requirement already satisfied: pyobjc-framework-CoreServices==7.3 in /Users/david/.pyenv/versions/3.8.10/lib/python3.8/site-packages (from pyobjc>=2.4->pyttsx3) (7.3)\n",
      "Requirement already satisfied: pyobjc-framework-Vision==7.3 in /Users/david/.pyenv/versions/3.8.10/lib/python3.8/site-packages (from pyobjc>=2.4->pyttsx3) (7.3)\n",
      "Requirement already satisfied: pyobjc-framework-AuthenticationServices==7.3 in /Users/david/.pyenv/versions/3.8.10/lib/python3.8/site-packages (from pyobjc>=2.4->pyttsx3) (7.3)\n",
      "Requirement already satisfied: pyobjc-framework-VideoSubscriberAccount==7.3 in /Users/david/.pyenv/versions/3.8.10/lib/python3.8/site-packages (from pyobjc>=2.4->pyttsx3) (7.3)\n",
      "Requirement already satisfied: pyobjc-framework-MLCompute==7.3 in /Users/david/.pyenv/versions/3.8.10/lib/python3.8/site-packages (from pyobjc>=2.4->pyttsx3) (7.3)\n",
      "Requirement already satisfied: pyobjc-framework-Contacts==7.3 in /Users/david/.pyenv/versions/3.8.10/lib/python3.8/site-packages (from pyobjc>=2.4->pyttsx3) (7.3)\n",
      "Requirement already satisfied: pyobjc-framework-SearchKit==7.3 in /Users/david/.pyenv/versions/3.8.10/lib/python3.8/site-packages (from pyobjc>=2.4->pyttsx3) (7.3)\n",
      "Requirement already satisfied: pyobjc-framework-DeviceCheck==7.3 in /Users/david/.pyenv/versions/3.8.10/lib/python3.8/site-packages (from pyobjc>=2.4->pyttsx3) (7.3)\n",
      "Requirement already satisfied: pyobjc-framework-MediaAccessibility==7.3 in /Users/david/.pyenv/versions/3.8.10/lib/python3.8/site-packages (from pyobjc>=2.4->pyttsx3) (7.3)\n",
      "Requirement already satisfied: pyobjc-framework-MediaLibrary==7.3 in /Users/david/.pyenv/versions/3.8.10/lib/python3.8/site-packages (from pyobjc>=2.4->pyttsx3) (7.3)\n",
      "Requirement already satisfied: pyobjc-framework-ServiceManagement==7.3 in /Users/david/.pyenv/versions/3.8.10/lib/python3.8/site-packages (from pyobjc>=2.4->pyttsx3) (7.3)\n",
      "Requirement already satisfied: pyobjc-framework-Quartz==7.3 in /Users/david/.pyenv/versions/3.8.10/lib/python3.8/site-packages (from pyobjc>=2.4->pyttsx3) (7.3)\n",
      "Requirement already satisfied: pyobjc-framework-ColorSync==7.3 in /Users/david/.pyenv/versions/3.8.10/lib/python3.8/site-packages (from pyobjc>=2.4->pyttsx3) (7.3)\n",
      "Requirement already satisfied: pyobjc-framework-VideoToolbox==7.3 in /Users/david/.pyenv/versions/3.8.10/lib/python3.8/site-packages (from pyobjc>=2.4->pyttsx3) (7.3)\n",
      "Requirement already satisfied: pyobjc-framework-ClassKit==7.3 in /Users/david/.pyenv/versions/3.8.10/lib/python3.8/site-packages (from pyobjc>=2.4->pyttsx3) (7.3)\n",
      "Requirement already satisfied: pyobjc-framework-PassKit==7.3 in /Users/david/.pyenv/versions/3.8.10/lib/python3.8/site-packages (from pyobjc>=2.4->pyttsx3) (7.3)\n",
      "Requirement already satisfied: pyobjc-framework-AdServices==7.3 in /Users/david/.pyenv/versions/3.8.10/lib/python3.8/site-packages (from pyobjc>=2.4->pyttsx3) (7.3)\n",
      "Requirement already satisfied: pyobjc-framework-AutomaticAssessmentConfiguration==7.3 in /Users/david/.pyenv/versions/3.8.10/lib/python3.8/site-packages (from pyobjc>=2.4->pyttsx3) (7.3)\n",
      "Requirement already satisfied: pyobjc-framework-ScreenTime==7.3 in /Users/david/.pyenv/versions/3.8.10/lib/python3.8/site-packages (from pyobjc>=2.4->pyttsx3) (7.3)\n",
      "Requirement already satisfied: pyobjc-framework-NaturalLanguage==7.3 in /Users/david/.pyenv/versions/3.8.10/lib/python3.8/site-packages (from pyobjc>=2.4->pyttsx3) (7.3)\n",
      "Requirement already satisfied: pyobjc-framework-Accessibility==7.3 in /Users/david/.pyenv/versions/3.8.10/lib/python3.8/site-packages (from pyobjc>=2.4->pyttsx3) (7.3)\n",
      "Requirement already satisfied: pyobjc-framework-GameController==7.3 in /Users/david/.pyenv/versions/3.8.10/lib/python3.8/site-packages (from pyobjc>=2.4->pyttsx3) (7.3)\n",
      "Requirement already satisfied: pyobjc-framework-MetalPerformanceShaders==7.3 in /Users/david/.pyenv/versions/3.8.10/lib/python3.8/site-packages (from pyobjc>=2.4->pyttsx3) (7.3)\n",
      "Requirement already satisfied: pyobjc-framework-CoreMIDI==7.3 in /Users/david/.pyenv/versions/3.8.10/lib/python3.8/site-packages (from pyobjc>=2.4->pyttsx3) (7.3)\n",
      "Requirement already satisfied: pyobjc-framework-AddressBook==7.3 in /Users/david/.pyenv/versions/3.8.10/lib/python3.8/site-packages (from pyobjc>=2.4->pyttsx3) (7.3)\n",
      "Requirement already satisfied: pyobjc-framework-IMServicePlugIn==7.3 in /Users/david/.pyenv/versions/3.8.10/lib/python3.8/site-packages (from pyobjc>=2.4->pyttsx3) (7.3)\n",
      "Requirement already satisfied: pyobjc-framework-AppleScriptKit==7.3 in /Users/david/.pyenv/versions/3.8.10/lib/python3.8/site-packages (from pyobjc>=2.4->pyttsx3) (7.3)\n"
     ]
    },
    {
     "name": "stdout",
     "output_type": "stream",
     "text": [
      "Requirement already satisfied: pyobjc-framework-ApplicationServices==7.3 in /Users/david/.pyenv/versions/3.8.10/lib/python3.8/site-packages (from pyobjc>=2.4->pyttsx3) (7.3)\n",
      "Requirement already satisfied: pyobjc-framework-ModelIO==7.3 in /Users/david/.pyenv/versions/3.8.10/lib/python3.8/site-packages (from pyobjc>=2.4->pyttsx3) (7.3)\n",
      "Requirement already satisfied: pyobjc-framework-CoreText==7.3 in /Users/david/.pyenv/versions/3.8.10/lib/python3.8/site-packages (from pyobjc>=2.4->pyttsx3) (7.3)\n",
      "Requirement already satisfied: pyobjc-framework-ExceptionHandling==7.3 in /Users/david/.pyenv/versions/3.8.10/lib/python3.8/site-packages (from pyobjc>=2.4->pyttsx3) (7.3)\n",
      "Requirement already satisfied: pyobjc-framework-DVDPlayback==7.3 in /Users/david/.pyenv/versions/3.8.10/lib/python3.8/site-packages (from pyobjc>=2.4->pyttsx3) (7.3)\n",
      "Requirement already satisfied: pyobjc-framework-GameCenter==7.3 in /Users/david/.pyenv/versions/3.8.10/lib/python3.8/site-packages (from pyobjc>=2.4->pyttsx3) (7.3)\n",
      "Requirement already satisfied: pyobjc-framework-BusinessChat==7.3 in /Users/david/.pyenv/versions/3.8.10/lib/python3.8/site-packages (from pyobjc>=2.4->pyttsx3) (7.3)\n",
      "Requirement already satisfied: pyobjc-framework-InputMethodKit==7.3 in /Users/david/.pyenv/versions/3.8.10/lib/python3.8/site-packages (from pyobjc>=2.4->pyttsx3) (7.3)\n",
      "Requirement already satisfied: pyobjc-framework-SystemConfiguration==7.3 in /Users/david/.pyenv/versions/3.8.10/lib/python3.8/site-packages (from pyobjc>=2.4->pyttsx3) (7.3)\n",
      "Requirement already satisfied: pyobjc-framework-Cocoa==7.3 in /Users/david/.pyenv/versions/3.8.10/lib/python3.8/site-packages (from pyobjc>=2.4->pyttsx3) (7.3)\n",
      "Requirement already satisfied: pyobjc-framework-UserNotificationsUI==7.3 in /Users/david/.pyenv/versions/3.8.10/lib/python3.8/site-packages (from pyobjc>=2.4->pyttsx3) (7.3)\n",
      "Requirement already satisfied: pyobjc-framework-ContactsUI==7.3 in /Users/david/.pyenv/versions/3.8.10/lib/python3.8/site-packages (from pyobjc>=2.4->pyttsx3) (7.3)\n",
      "Requirement already satisfied: pyobjc-framework-OSLog==7.3 in /Users/david/.pyenv/versions/3.8.10/lib/python3.8/site-packages (from pyobjc>=2.4->pyttsx3) (7.3)\n",
      "Requirement already satisfied: pyobjc-framework-AVFoundation==7.3 in /Users/david/.pyenv/versions/3.8.10/lib/python3.8/site-packages (from pyobjc>=2.4->pyttsx3) (7.3)\n",
      "Requirement already satisfied: pyobjc-framework-AVKit==7.3 in /Users/david/.pyenv/versions/3.8.10/lib/python3.8/site-packages (from pyobjc>=2.4->pyttsx3) (7.3)\n",
      "Requirement already satisfied: pyobjc-framework-CallKit==7.3 in /Users/david/.pyenv/versions/3.8.10/lib/python3.8/site-packages (from pyobjc>=2.4->pyttsx3) (7.3)\n",
      "Requirement already satisfied: pyobjc-framework-SpriteKit==7.3 in /Users/david/.pyenv/versions/3.8.10/lib/python3.8/site-packages (from pyobjc>=2.4->pyttsx3) (7.3)\n",
      "Requirement already satisfied: pyobjc-framework-ScreenSaver==7.3 in /Users/david/.pyenv/versions/3.8.10/lib/python3.8/site-packages (from pyobjc>=2.4->pyttsx3) (7.3)\n",
      "Requirement already satisfied: pyobjc-framework-FileProviderUI==7.3 in /Users/david/.pyenv/versions/3.8.10/lib/python3.8/site-packages (from pyobjc>=2.4->pyttsx3) (7.3)\n",
      "Requirement already satisfied: pyobjc-framework-CoreMedia==7.3 in /Users/david/.pyenv/versions/3.8.10/lib/python3.8/site-packages (from pyobjc>=2.4->pyttsx3) (7.3)\n",
      "Requirement already satisfied: pyobjc-framework-CalendarStore==7.3 in /Users/david/.pyenv/versions/3.8.10/lib/python3.8/site-packages (from pyobjc>=2.4->pyttsx3) (7.3)\n",
      "Requirement already satisfied: pyobjc-framework-Collaboration==7.3 in /Users/david/.pyenv/versions/3.8.10/lib/python3.8/site-packages (from pyobjc>=2.4->pyttsx3) (7.3)\n",
      "Requirement already satisfied: pyobjc-framework-SceneKit==7.3 in /Users/david/.pyenv/versions/3.8.10/lib/python3.8/site-packages (from pyobjc>=2.4->pyttsx3) (7.3)\n",
      "Requirement already satisfied: pyobjc-framework-Speech==7.3 in /Users/david/.pyenv/versions/3.8.10/lib/python3.8/site-packages (from pyobjc>=2.4->pyttsx3) (7.3)\n",
      "Requirement already satisfied: pyobjc-framework-LinkPresentation==7.3 in /Users/david/.pyenv/versions/3.8.10/lib/python3.8/site-packages (from pyobjc>=2.4->pyttsx3) (7.3)\n",
      "Requirement already satisfied: pyobjc-framework-DictionaryServices==7.3 in /Users/david/.pyenv/versions/3.8.10/lib/python3.8/site-packages (from pyobjc>=2.4->pyttsx3) (7.3)\n",
      "Requirement already satisfied: pyobjc-framework-SafariServices==7.3 in /Users/david/.pyenv/versions/3.8.10/lib/python3.8/site-packages (from pyobjc>=2.4->pyttsx3) (7.3)\n",
      "Requirement already satisfied: pyobjc-framework-InstantMessage==7.3 in /Users/david/.pyenv/versions/3.8.10/lib/python3.8/site-packages (from pyobjc>=2.4->pyttsx3) (7.3)\n",
      "Requirement already satisfied: pyobjc-framework-iTunesLibrary==7.3 in /Users/david/.pyenv/versions/3.8.10/lib/python3.8/site-packages (from pyobjc>=2.4->pyttsx3) (7.3)\n",
      "Requirement already satisfied: pyobjc-framework-DiscRecordingUI==7.3 in /Users/david/.pyenv/versions/3.8.10/lib/python3.8/site-packages (from pyobjc>=2.4->pyttsx3) (7.3)\n",
      "Requirement already satisfied: pyobjc-framework-CoreLocation==7.3 in /Users/david/.pyenv/versions/3.8.10/lib/python3.8/site-packages (from pyobjc>=2.4->pyttsx3) (7.3)\n",
      "Requirement already satisfied: pyobjc-framework-UniformTypeIdentifiers==7.3 in /Users/david/.pyenv/versions/3.8.10/lib/python3.8/site-packages (from pyobjc>=2.4->pyttsx3) (7.3)\n",
      "Requirement already satisfied: pyobjc-framework-CoreAudioKit==7.3 in /Users/david/.pyenv/versions/3.8.10/lib/python3.8/site-packages (from pyobjc>=2.4->pyttsx3) (7.3)\n",
      "Requirement already satisfied: pyobjc-framework-IOSurface==7.3 in /Users/david/.pyenv/versions/3.8.10/lib/python3.8/site-packages (from pyobjc>=2.4->pyttsx3) (7.3)\n",
      "Requirement already satisfied: pyobjc-framework-WebKit==7.3 in /Users/david/.pyenv/versions/3.8.10/lib/python3.8/site-packages (from pyobjc>=2.4->pyttsx3) (7.3)\n",
      "Requirement already satisfied: pyobjc-framework-CoreData==7.3 in /Users/david/.pyenv/versions/3.8.10/lib/python3.8/site-packages (from pyobjc>=2.4->pyttsx3) (7.3)\n",
      "Requirement already satisfied: pyobjc-framework-StoreKit==7.3 in /Users/david/.pyenv/versions/3.8.10/lib/python3.8/site-packages (from pyobjc>=2.4->pyttsx3) (7.3)\n",
      "Requirement already satisfied: pyobjc-framework-Metal==7.3 in /Users/david/.pyenv/versions/3.8.10/lib/python3.8/site-packages (from pyobjc>=2.4->pyttsx3) (7.3)\n",
      "Requirement already satisfied: pyobjc-framework-EventKit==7.3 in /Users/david/.pyenv/versions/3.8.10/lib/python3.8/site-packages (from pyobjc>=2.4->pyttsx3) (7.3)\n",
      "Requirement already satisfied: pyobjc-framework-Social==7.3 in /Users/david/.pyenv/versions/3.8.10/lib/python3.8/site-packages (from pyobjc>=2.4->pyttsx3) (7.3)\n",
      "Requirement already satisfied: pyobjc-framework-OpenDirectory==7.3 in /Users/david/.pyenv/versions/3.8.10/lib/python3.8/site-packages (from pyobjc>=2.4->pyttsx3) (7.3)\n",
      "Requirement already satisfied: pyobjc-framework-PhotosUI==7.3 in /Users/david/.pyenv/versions/3.8.10/lib/python3.8/site-packages (from pyobjc>=2.4->pyttsx3) (7.3)\n",
      "Requirement already satisfied: pyobjc-framework-libdispatch==7.3 in /Users/david/.pyenv/versions/3.8.10/lib/python3.8/site-packages (from pyobjc>=2.4->pyttsx3) (7.3)\n",
      "Requirement already satisfied: pyobjc-framework-ReplayKit==7.3 in /Users/david/.pyenv/versions/3.8.10/lib/python3.8/site-packages (from pyobjc>=2.4->pyttsx3) (7.3)\n",
      "Requirement already satisfied: pyobjc-framework-OSAKit==7.3 in /Users/david/.pyenv/versions/3.8.10/lib/python3.8/site-packages (from pyobjc>=2.4->pyttsx3) (7.3)\n",
      "Requirement already satisfied: pyobjc-framework-Accounts==7.3 in /Users/david/.pyenv/versions/3.8.10/lib/python3.8/site-packages (from pyobjc>=2.4->pyttsx3) (7.3)\n",
      "Requirement already satisfied: pyobjc-framework-PushKit==7.3 in /Users/david/.pyenv/versions/3.8.10/lib/python3.8/site-packages (from pyobjc>=2.4->pyttsx3) (7.3)\n",
      "Requirement already satisfied: pyobjc-framework-NetworkExtension==7.3 in /Users/david/.pyenv/versions/3.8.10/lib/python3.8/site-packages (from pyobjc>=2.4->pyttsx3) (7.3)\n",
      "Requirement already satisfied: pyobjc-framework-Virtualization==7.3 in /Users/david/.pyenv/versions/3.8.10/lib/python3.8/site-packages (from pyobjc>=2.4->pyttsx3) (7.3)\n",
      "Requirement already satisfied: pyobjc-framework-Photos==7.3 in /Users/david/.pyenv/versions/3.8.10/lib/python3.8/site-packages (from pyobjc>=2.4->pyttsx3) (7.3)\n",
      "Requirement already satisfied: pyobjc-framework-CoreMotion==7.3 in /Users/david/.pyenv/versions/3.8.10/lib/python3.8/site-packages (from pyobjc>=2.4->pyttsx3) (7.3)\n",
      "Requirement already satisfied: pyobjc-framework-AppTrackingTransparency==7.3 in /Users/david/.pyenv/versions/3.8.10/lib/python3.8/site-packages (from pyobjc>=2.4->pyttsx3) (7.3)\n",
      "Requirement already satisfied: pyobjc-framework-NotificationCenter==7.3 in /Users/david/.pyenv/versions/3.8.10/lib/python3.8/site-packages (from pyobjc>=2.4->pyttsx3) (7.3)\n",
      "Requirement already satisfied: pyobjc-framework-CoreSpotlight==7.3 in /Users/david/.pyenv/versions/3.8.10/lib/python3.8/site-packages (from pyobjc>=2.4->pyttsx3) (7.3)\n",
      "Requirement already satisfied: pyobjc-framework-MediaToolbox==7.3 in /Users/david/.pyenv/versions/3.8.10/lib/python3.8/site-packages (from pyobjc>=2.4->pyttsx3) (7.3)\n",
      "Requirement already satisfied: pyobjc-framework-SoundAnalysis==7.3 in /Users/david/.pyenv/versions/3.8.10/lib/python3.8/site-packages (from pyobjc>=2.4->pyttsx3) (7.3)\n",
      "Requirement already satisfied: pyobjc-framework-CryptoTokenKit==7.3 in /Users/david/.pyenv/versions/3.8.10/lib/python3.8/site-packages (from pyobjc>=2.4->pyttsx3) (7.3)\n",
      "Requirement already satisfied: pyobjc-framework-CoreML==7.3 in /Users/david/.pyenv/versions/3.8.10/lib/python3.8/site-packages (from pyobjc>=2.4->pyttsx3) (7.3)\n",
      "Requirement already satisfied: pyobjc-framework-MetalPerformanceShadersGraph==7.3 in /Users/david/.pyenv/versions/3.8.10/lib/python3.8/site-packages (from pyobjc>=2.4->pyttsx3) (7.3)\n",
      "Requirement already satisfied: pyobjc-framework-CFNetwork==7.3 in /Users/david/.pyenv/versions/3.8.10/lib/python3.8/site-packages (from pyobjc>=2.4->pyttsx3) (7.3)\n",
      "Requirement already satisfied: pyobjc-framework-ExternalAccessory==7.3 in /Users/david/.pyenv/versions/3.8.10/lib/python3.8/site-packages (from pyobjc>=2.4->pyttsx3) (7.3)\n",
      "Requirement already satisfied: pyobjc-framework-ExecutionPolicy==7.3 in /Users/david/.pyenv/versions/3.8.10/lib/python3.8/site-packages (from pyobjc>=2.4->pyttsx3) (7.3)\n",
      "Requirement already satisfied: pyobjc-framework-GameKit==7.3 in /Users/david/.pyenv/versions/3.8.10/lib/python3.8/site-packages (from pyobjc>=2.4->pyttsx3) (7.3)\n",
      "Requirement already satisfied: pyobjc-framework-ScriptingBridge==7.3 in /Users/david/.pyenv/versions/3.8.10/lib/python3.8/site-packages (from pyobjc>=2.4->pyttsx3) (7.3)\n"
     ]
    },
    {
     "name": "stdout",
     "output_type": "stream",
     "text": [
      "Requirement already satisfied: pyobjc-framework-Automator==7.3 in /Users/david/.pyenv/versions/3.8.10/lib/python3.8/site-packages (from pyobjc>=2.4->pyttsx3) (7.3)\n",
      "Requirement already satisfied: pyobjc-framework-Security==7.3 in /Users/david/.pyenv/versions/3.8.10/lib/python3.8/site-packages (from pyobjc>=2.4->pyttsx3) (7.3)\n",
      "Requirement already satisfied: pyobjc-framework-DiskArbitration==7.3 in /Users/david/.pyenv/versions/3.8.10/lib/python3.8/site-packages (from pyobjc>=2.4->pyttsx3) (7.3)\n",
      "Requirement already satisfied: pyobjc-framework-InstallerPlugins==7.3 in /Users/david/.pyenv/versions/3.8.10/lib/python3.8/site-packages (from pyobjc>=2.4->pyttsx3) (7.3)\n",
      "Requirement already satisfied: pyobjc-framework-PencilKit==7.3 in /Users/david/.pyenv/versions/3.8.10/lib/python3.8/site-packages (from pyobjc>=2.4->pyttsx3) (7.3)\n",
      "Requirement already satisfied: pyobjc-framework-AdSupport==7.3 in /Users/david/.pyenv/versions/3.8.10/lib/python3.8/site-packages (from pyobjc>=2.4->pyttsx3) (7.3)\n",
      "Requirement already satisfied: pyobjc-framework-ImageCaptureCore==7.3 in /Users/david/.pyenv/versions/3.8.10/lib/python3.8/site-packages (from pyobjc>=2.4->pyttsx3) (7.3)\n",
      "Requirement already satisfied: pyobjc-framework-CoreBluetooth==7.3 in /Users/david/.pyenv/versions/3.8.10/lib/python3.8/site-packages (from pyobjc>=2.4->pyttsx3) (7.3)\n",
      "Requirement already satisfied: pyobjc-framework-CoreHaptics==7.3 in /Users/david/.pyenv/versions/3.8.10/lib/python3.8/site-packages (from pyobjc>=2.4->pyttsx3) (7.3)\n",
      "Requirement already satisfied: pyobjc-framework-NetFS==7.3 in /Users/david/.pyenv/versions/3.8.10/lib/python3.8/site-packages (from pyobjc>=2.4->pyttsx3) (7.3)\n",
      "Requirement already satisfied: pyobjc-framework-LocalAuthentication==7.3 in /Users/david/.pyenv/versions/3.8.10/lib/python3.8/site-packages (from pyobjc>=2.4->pyttsx3) (7.3)\n",
      "Requirement already satisfied: pyobjc-framework-PreferencePanes==7.3 in /Users/david/.pyenv/versions/3.8.10/lib/python3.8/site-packages (from pyobjc>=2.4->pyttsx3) (7.3)\n",
      "Requirement already satisfied: pyobjc-framework-DiscRecording==7.3 in /Users/david/.pyenv/versions/3.8.10/lib/python3.8/site-packages (from pyobjc>=2.4->pyttsx3) (7.3)\n",
      "Requirement already satisfied: pyobjc-framework-Intents==7.3 in /Users/david/.pyenv/versions/3.8.10/lib/python3.8/site-packages (from pyobjc>=2.4->pyttsx3) (7.3)\n",
      "Requirement already satisfied: pyobjc-framework-FinderSync==7.3 in /Users/david/.pyenv/versions/3.8.10/lib/python3.8/site-packages (from pyobjc>=2.4->pyttsx3) (7.3)\n",
      "Requirement already satisfied: pyobjc-framework-GameplayKit==7.3 in /Users/david/.pyenv/versions/3.8.10/lib/python3.8/site-packages (from pyobjc>=2.4->pyttsx3) (7.3)\n",
      "\u001b[33mWARNING: You are using pip version 21.1.1; however, version 21.3.1 is available.\n",
      "You should consider upgrading via the '/Users/david/.pyenv/versions/3.8.10/bin/python3.8 -m pip install --upgrade pip' command.\u001b[0m\n"
     ]
    }
   ],
   "source": [
    "! pip install pyttsx3"
   ]
  },
  {
   "cell_type": "code",
   "execution_count": 7,
   "id": "191d33c7",
   "metadata": {},
   "outputs": [],
   "source": [
    "import pyttsx3\n",
    "engine = pyttsx3.init()\n",
    "engine.say(\"I will speak this text\")\n",
    "engine.runAndWait()"
   ]
  },
  {
   "cell_type": "code",
   "execution_count": 15,
   "id": "a891f57d",
   "metadata": {},
   "outputs": [
    {
     "name": "stdout",
     "output_type": "stream",
     "text": [
      "Voice: Alex\n",
      "Voice: Alice\n",
      "Voice: Alva\n",
      "Voice: Amelie\n",
      "Voice: Anna\n",
      "Voice: Carmit\n",
      "Voice: Damayanti\n",
      "Voice: Daniel\n",
      "Voice: Diego\n",
      "Voice: Ellen\n",
      "Voice: Fiona\n",
      "Voice: Fred\n",
      "Voice: Ioana\n",
      "Voice: Joana\n",
      "Voice: Jorge\n",
      "Voice: Juan\n",
      "Voice: Kanya\n",
      "Voice: Karen\n",
      "Voice: Kyoko\n",
      "Voice: Laura\n",
      "Voice: Lekha\n",
      "Voice: Luca\n",
      "Voice: Luciana\n",
      "Voice: Maged\n",
      "Voice: Mariska\n",
      "Voice: Mei-Jia\n",
      "Voice: Melina\n",
      "Voice: Milena\n",
      "Voice: Moira\n",
      "Voice: Monica\n",
      "Voice: Nora\n",
      "Voice: Paulina\n",
      "Voice: Rishi\n",
      "Voice: Samantha\n",
      "Voice: Sara\n",
      "Voice: Satu\n",
      "Voice: Sin-ji\n",
      "Voice: Tessa\n",
      "Voice: Thomas\n",
      "Voice: Ting-Ting\n",
      "Voice: Veena\n",
      "Voice: Victoria\n",
      "Voice: Xander\n",
      "Voice: Yelda\n",
      "Voice: Yuna\n",
      "Voice: Yuri\n",
      "Voice: Zosia\n",
      "Voice: Zuzana\n"
     ]
    }
   ],
   "source": [
    "voices = engine.getProperty('voices')\n",
    "for voice in voices:\n",
    "    print(f\"Voice: {voice.name}\")"
   ]
  },
  {
   "cell_type": "code",
   "execution_count": 22,
   "id": "910e25ea",
   "metadata": {},
   "outputs": [],
   "source": [
    "import pyttsx3\n",
    "engine = pyttsx3.init()\n",
    "engine.say('語音合成開始')\n",
    "engine.say('我會說中文了，開森，開森')\n",
    "engine.runAndWait()"
   ]
  },
  {
   "cell_type": "code",
   "execution_count": null,
   "id": "c5e43e6b",
   "metadata": {},
   "outputs": [],
   "source": [
    "! pip install pygame"
   ]
  },
  {
   "cell_type": "code",
   "execution_count": null,
   "id": "a951747d",
   "metadata": {},
   "outputs": [],
   "source": [
    "! pip install gTTS"
   ]
  },
  {
   "cell_type": "code",
   "execution_count": 23,
   "id": "1be8893c",
   "metadata": {},
   "outputs": [
    {
     "name": "stdout",
     "output_type": "stream",
     "text": [
      "pygame 2.0.1 (SDL 2.0.14, Python 3.8.10)\n",
      "Hello from the pygame community. https://www.pygame.org/contribute.html\n"
     ]
    }
   ],
   "source": [
    "from gtts import gTTS\n",
    "from pygame import mixer\n",
    "mixer.init()\n",
    "import tempfile\n",
    "\n",
    "def speak(sentence):\n",
    "    with tempfile.NamedTemporaryFile(delete=True) as fp:\n",
    "        tts = gTTS(text=sentence, lang='zh')\n",
    "        tts.save(\"{}.mp3\".format(fp.name))\n",
    "        mixer.music.load('{}.mp3'.format(fp.name))\n",
    "        mixer.music.play()\n",
    "        \n",
    "speak('今天很高興來到貴寶地')"
   ]
  },
  {
   "cell_type": "markdown",
   "id": "56662046",
   "metadata": {},
   "source": [
    "## 範例"
   ]
  },
  {
   "cell_type": "code",
   "execution_count": 27,
   "id": "a7c44c6e",
   "metadata": {},
   "outputs": [],
   "source": [
    "import speech_recognition as sr\n",
    "\n",
    "def listenTo():\n",
    "    r = sr.Recognizer()\n",
    "    with sr.Microphone() as source:\n",
    "        print(\"Say something!\")\n",
    "        audio = r.listen(source)\n",
    "    return(r.recognize_google(audio, language= 'zh-TW'))"
   ]
  },
  {
   "cell_type": "code",
   "execution_count": 29,
   "id": "4a7a2e6b",
   "metadata": {},
   "outputs": [
    {
     "name": "stdout",
     "output_type": "stream",
     "text": [
      "Say something!\n"
     ]
    }
   ],
   "source": [
    "speak(listenTo())"
   ]
  },
  {
   "cell_type": "markdown",
   "id": "4c7a9e32",
   "metadata": {},
   "source": [
    "## Playwright"
   ]
  },
  {
   "cell_type": "code",
   "execution_count": 30,
   "id": "c6f9fbbb",
   "metadata": {},
   "outputs": [
    {
     "name": "stdout",
     "output_type": "stream",
     "text": [
      "Requirement already satisfied: playwright in /Users/david/.pyenv/versions/3.8.10/lib/python3.8/site-packages (1.15.3)\n",
      "Requirement already satisfied: typing-extensions in /Users/david/.pyenv/versions/3.8.10/lib/python3.8/site-packages (from playwright) (3.7.4.3)\n",
      "Requirement already satisfied: greenlet>=1.0.0 in /Users/david/.pyenv/versions/3.8.10/lib/python3.8/site-packages (from playwright) (1.1.0)\n",
      "Requirement already satisfied: pyee>=8.0.1 in /Users/david/.pyenv/versions/3.8.10/lib/python3.8/site-packages (from playwright) (8.2.2)\n",
      "Requirement already satisfied: websockets>=8.1 in /Users/david/.pyenv/versions/3.8.10/lib/python3.8/site-packages (from playwright) (9.1)\n",
      "\u001b[33mWARNING: You are using pip version 21.1.1; however, version 21.3.1 is available.\n",
      "You should consider upgrading via the '/Users/david/.pyenv/versions/3.8.10/bin/python3.8 -m pip install --upgrade pip' command.\u001b[0m\n"
     ]
    }
   ],
   "source": [
    "! pip install playwright"
   ]
  },
  {
   "cell_type": "code",
   "execution_count": 31,
   "id": "30b0260f",
   "metadata": {},
   "outputs": [],
   "source": [
    "! python -m playwright install"
   ]
  },
  {
   "cell_type": "code",
   "execution_count": 32,
   "id": "b29411c0",
   "metadata": {},
   "outputs": [],
   "source": [
    "! python -m playwright codegen --target python -o shoppee.py -b chromium https://shopee.tw/search?keyword=%23%E9%8A%B7%E5%94%AE%E6%8E%92%E8%A1%8C%E6%A6%9C"
   ]
  },
  {
   "cell_type": "code",
   "execution_count": 34,
   "id": "b48182b7",
   "metadata": {},
   "outputs": [],
   "source": [
    "! python shoppee.py"
   ]
  },
  {
   "cell_type": "code",
   "execution_count": 35,
   "id": "40f13b6f",
   "metadata": {},
   "outputs": [],
   "source": [
    "! python -m playwright codegen --target python -o shoppee2.py -b chromium https://shopee.tw/search?keyword=%23%E9%8A%B7%E5%94%AE%E6%8E%92%E8%A1%8C%E6%A6%9C"
   ]
  },
  {
   "cell_type": "code",
   "execution_count": 36,
   "id": "e0d85120",
   "metadata": {},
   "outputs": [],
   "source": [
    "! python shoppee2.py"
   ]
  },
  {
   "cell_type": "code",
   "execution_count": 37,
   "id": "2dbe537b",
   "metadata": {},
   "outputs": [],
   "source": [
    "! python -m playwright codegen --target python -o shoppee3.py -b chromium https://shopee.tw/search?keyword=%23%E9%8A%B7%E5%94%AE%E6%8E%92%E8%A1%8C%E6%A6%9C"
   ]
  },
  {
   "cell_type": "code",
   "execution_count": 42,
   "id": "585d8017",
   "metadata": {},
   "outputs": [
    {
     "name": "stdout",
     "output_type": "stream",
     "text": [
      "/Users/david/.pyenv/versions/3.8.10/lib/python3.8/site-packages/pandas/compat/__init__.py:124: UserWarning: Could not import the lzma module. Your installed Python is incomplete. Attempting to use lzma compression will result in a RuntimeError.\r\n",
      "  warnings.warn(msg)\r\n"
     ]
    }
   ],
   "source": [
    "! python shoppee3.py"
   ]
  },
  {
   "cell_type": "code",
   "execution_count": 43,
   "id": "2862d1c4",
   "metadata": {},
   "outputs": [],
   "source": [
    "! open shoppee.xlsx"
   ]
  },
  {
   "cell_type": "code",
   "execution_count": 44,
   "id": "946356ac",
   "metadata": {},
   "outputs": [
    {
     "name": "stdout",
     "output_type": "stream",
     "text": [
      "^C\r\n"
     ]
    }
   ],
   "source": [
    "! python -m playwright codegen"
   ]
  },
  {
   "cell_type": "markdown",
   "id": "93a7ceba",
   "metadata": {},
   "source": [
    "## Go 塔羅"
   ]
  },
  {
   "cell_type": "code",
   "execution_count": 49,
   "id": "6d2bbfa1",
   "metadata": {},
   "outputs": [],
   "source": [
    "! python -m playwright codegen --target python -o tarot.py -b webkit https://gomedia.asia/zh/free_tarot/"
   ]
  },
  {
   "cell_type": "code",
   "execution_count": 55,
   "id": "fea6806c",
   "metadata": {},
   "outputs": [
    {
     "name": "stdout",
     "output_type": "stream",
     "text": [
      "最近在金錢運勢上不錯，不過也有一些會花錢的跡象，最好養成記帳的習慣，才不會容易賺得多花的也多的現象發生!這半年處於想的多做的少的階段，雖然想賺錢但可能想很多卻很少努力去實現，建議要腳踏實地才有結果。\r\n"
     ]
    }
   ],
   "source": [
    "! python tarot.py "
   ]
  },
  {
   "cell_type": "code",
   "execution_count": null,
   "id": "ccffabe9",
   "metadata": {},
   "outputs": [],
   "source": [
    "[51, 25, 9, 5, 39]\n",
    "num = 51\n",
    "print(num)\n",
    "num = 25\n",
    "print(num)\n",
    "num = 9\n",
    "print(num)\n",
    "num = 5\n",
    "print(num)\n",
    "num = 39\n",
    "print(num)"
   ]
  },
  {
   "cell_type": "code",
   "execution_count": 92,
   "id": "ae7b3db6",
   "metadata": {},
   "outputs": [
    {
     "data": {
      "text/plain": [
       "['46', '21', '9', '61', '70']"
      ]
     },
     "execution_count": 92,
     "metadata": {},
     "output_type": "execute_result"
    }
   ],
   "source": [
    "import random\n",
    "#random.choice(78, 5)\n",
    "ary = []\n",
    "for num in random.sample(range(1,79), 5):\n",
    "    ary.append(str(num))\n",
    "ary\n",
    "#','.join([str(e) for e in random.choices(comb, k = 5)])"
   ]
  },
  {
   "cell_type": "code",
   "execution_count": 96,
   "id": "3635b5de",
   "metadata": {},
   "outputs": [
    {
     "data": {
      "text/plain": [
       "'46,21,9,61,70'"
      ]
     },
     "execution_count": 96,
     "metadata": {},
     "output_type": "execute_result"
    }
   ],
   "source": [
    "','.join(ary)"
   ]
  },
  {
   "cell_type": "code",
   "execution_count": 67,
   "id": "8d71c556",
   "metadata": {},
   "outputs": [
    {
     "data": {
      "text/plain": [
       "[1, 2, 3, 4, 5, 6, 7, 8, 9, 10]"
      ]
     },
     "execution_count": 67,
     "metadata": {},
     "output_type": "execute_result"
    }
   ],
   "source": [
    "list(range(1,11))"
   ]
  },
  {
   "cell_type": "code",
   "execution_count": 78,
   "id": "131c9587",
   "metadata": {},
   "outputs": [
    {
     "data": {
      "text/plain": [
       "[0, 1, 2, 3, 4, 5, 6, 7, 8, 9, 10]"
      ]
     },
     "execution_count": 78,
     "metadata": {},
     "output_type": "execute_result"
    }
   ],
   "source": [
    "list(range(11))"
   ]
  },
  {
   "cell_type": "code",
   "execution_count": 62,
   "id": "a8bd2796",
   "metadata": {},
   "outputs": [],
   "source": [
    "a = 3\n",
    "name1 = 'David'\n",
    "name2 = 'Victor'\n",
    "name3 = 'Peggy'\n",
    "names = ['David', 'Victor', 'Paggy']"
   ]
  },
  {
   "cell_type": "code",
   "execution_count": 63,
   "id": "35b0e6ae",
   "metadata": {},
   "outputs": [
    {
     "data": {
      "text/plain": [
       "'David'"
      ]
     },
     "execution_count": 63,
     "metadata": {},
     "output_type": "execute_result"
    }
   ],
   "source": [
    "names[0]"
   ]
  },
  {
   "cell_type": "code",
   "execution_count": 64,
   "id": "14bbb327",
   "metadata": {},
   "outputs": [
    {
     "data": {
      "text/plain": [
       "'Paggy'"
      ]
     },
     "execution_count": 64,
     "metadata": {},
     "output_type": "execute_result"
    }
   ],
   "source": [
    "names[2]"
   ]
  },
  {
   "cell_type": "code",
   "execution_count": 65,
   "id": "1bb1fa03",
   "metadata": {},
   "outputs": [
    {
     "data": {
      "text/plain": [
       "'Paggy'"
      ]
     },
     "execution_count": 65,
     "metadata": {},
     "output_type": "execute_result"
    }
   ],
   "source": [
    "names[-1]"
   ]
  },
  {
   "cell_type": "code",
   "execution_count": 70,
   "id": "5e20d8cb",
   "metadata": {},
   "outputs": [
    {
     "name": "stdout",
     "output_type": "stream",
     "text": [
      "[1, 2, 3, 4, 5, 6, 7, 8, 9, 10, 11, 12, 13, 14, 15, 16, 17, 18, 19, 20, 21, 22, 23, 24, 25, 26, 27, 28, 29, 30, 31, 32, 33, 34, 35, 36, 37, 38, 39, 40, 41, 42, 43, 44, 45, 46, 47, 48, 49, 50, 51, 52, 53, 54, 55, 56, 57, 58, 59, 60, 61, 62, 63, 64, 65, 66, 67, 68, 69, 70, 71, 72, 73, 74, 75, 76, 77, 78]\n"
     ]
    }
   ],
   "source": [
    "print(list(range(1,79)))"
   ]
  },
  {
   "cell_type": "code",
   "execution_count": 73,
   "id": "daac980d",
   "metadata": {},
   "outputs": [
    {
     "name": "stdout",
     "output_type": "stream",
     "text": [
      "(1, 2, 3, 4, 5)\n"
     ]
    }
   ],
   "source": [
    "import itertools\n",
    "\n",
    "stuff = list(range(1,79)) # from 1 ~ 78\n",
    "for subset in itertools.combinations(stuff, 5):\n",
    "    print(subset)\n",
    "    break"
   ]
  },
  {
   "cell_type": "code",
   "execution_count": 76,
   "id": "3f646db2",
   "metadata": {},
   "outputs": [
    {
     "data": {
      "text/plain": [
       "'1,2,3,4,5'"
      ]
     },
     "execution_count": 76,
     "metadata": {},
     "output_type": "execute_result"
    }
   ],
   "source": [
    "','.join(['1', '2', '3', '4', '5'])"
   ]
  },
  {
   "cell_type": "code",
   "execution_count": 77,
   "id": "4db2f988",
   "metadata": {},
   "outputs": [
    {
     "data": {
      "text/plain": [
       "2533330800"
      ]
     },
     "execution_count": 77,
     "metadata": {},
     "output_type": "execute_result"
    }
   ],
   "source": [
    "78 * 77 * 76 * 75 * 74"
   ]
  },
  {
   "cell_type": "code",
   "execution_count": null,
   "id": "f3ff96f8",
   "metadata": {},
   "outputs": [],
   "source": [
    "from playwright.sync_api import Playwright, sync_playwright\n",
    "import time, random\n",
    "from bs4 import BeautifulSoup\n",
    "def run(playwright: Playwright) -> None:\n",
    "    browser = playwright.webkit.launch(headless=False)\n",
    "    context = browser.new_context()\n",
    "\n",
    "    # Open new page\n",
    "    page = context.new_page()\n",
    "    for i in range(10):\n",
    "        ary = []\n",
    "        for num in random.sample(range(1,79), 5):\n",
    "            ary.append(str(num))\n",
    "        p = ','.join(ary)\n",
    "\n",
    "        # Go to https://gomedia.asia/zh/free_tarot/\n",
    "        page.goto(\"https://gomedia.asia/zh/%E7%84%A1%E7%89%8C%E9%99%A3%E5%A1%94%E7%BE%85%E5%8D%A0%E5%8D%9C%E8%A7%A3%E7%89%8C/?card={},&category=5&subitem=0\".format(p))\n",
    "\n",
    "        time.sleep(1)\n",
    "        soup = BeautifulSoup(page.content(), 'lxml')\n",
    "        result = soup.select_one('.text-inner.text-left > h4').text\n",
    "        print(p,result)\n",
    "    # assert page.url == \"https://gomedia.asia/zh/%E7%84%A1%E7%89%8C%E9%99%A3%E5%A1%94%E7%BE%85%E5%8D%A0%E5%8D%9C%E8%A7%A3%E7%89%8C/?card=16,18,7,43,61,&category=5&subitem=0\"\n",
    "\n",
    "    # Close page\n",
    "    page.close()\n",
    "\n",
    "    # ---------------------\n",
    "    context.close()\n",
    "    browser.close()\n",
    "\n",
    "\n",
    "with sync_playwright() as playwright:\n",
    "    run(playwright)\n"
   ]
  },
  {
   "cell_type": "code",
   "execution_count": 108,
   "id": "56ab4ea5",
   "metadata": {},
   "outputs": [
    {
     "name": "stdout",
     "output_type": "stream",
     "text": [
      "40,54,43,39,70 1 0 本周的運勢不太好，還好也是有些好事，放鬆心情珍惜好的時刻！會遇到貴人，可能是你的朋友或是新認識的人，可以幫助你更有發展或者解決眼下的困難喔!\n",
      "71,12,13,5,6 1 1 未來ㄧ年的運勢不太好，還好也是有些好事，放鬆心情珍惜好的時刻！這一年可以好好找尋自己的目標，學習成效會很好喔!對於想做的事情努力付出的話會事半功倍，會順利的完成!\n",
      "64,76,17,40,18 1 2 守護天使想跟你說，暫時會有一些不順利，多體諒別人的想法可以有所幫助得到好的結果。還是要多注意一些地方。（看下面的細部解釋）\n",
      "8,47,58,69,7 2 0 三個月內出現適合的對象機率不高，但是這是一個很好的機會先把自己打理好，了解自己想要的未來方向，這樣在未來出現新對象的時候會很快的讓你感覺到就是他了!遇見可以心靈相通的人機會比較高，感覺對方與你有莫名的默契的時候要注意一下，也許就是你未來的另一半喔!\n",
      "32,67,56,5,2 2 1 你心裡想的這個對象讓你有一點好感也有一點不確定的感覺，應該還不是很了解對方內心的想法，還是先多認識一下再決定要不要交往比較好喔!對方與你的思考模式有些類似，屬於可以溝通的對象，長久下來可能成為你的靈魂伴侶，在感情上可以更上一層樓!\n",
      "25,35,7,23,1 2 2 你跟對方的未來發展很不錯，雙方都有意要繼續穩定交往，也有結婚的可能。你們之間會有火花產生，熱戀的時候會熱情如火，切忌過於衝動才不會造成傷害，還是先相處珍惜這段甜蜜的時光吧!\n",
      "8,40,4,59,12 3 0 如果太過眼高手低的話，可能會錯過也許還不錯的工作機會，建議還是先求有再求好，先讓自己多一些工作經驗，鍛鍊自己的專業能力後再尋求更好的工作!在選擇新的工作機會比較偏向由你的意志決定，外在的因素影響比較少，也有可能會被其他人的意見所影響，建議要有自己的主見。\n",
      "23,2,11,5,53 3 1 現在的工作未來發展較為平緩，雖然有表現的機會，需注意是否有把細節做好，避免因為表達能力不好而錯過老闆的賞識，避免出一些粗心大意的小錯誤！現在的工作發展取決於你的意志度，建議如果處於倦怠期的話可以先靜下心來檢視自己的想法，也可以主動跟主管聊一聊。\n",
      "34,73,14,19,58 3 2 整體來說現在轉換跑道是蠻不錯的時機，但是要注意可能會有點挫折，最好是先確定自己已經準備好，換別的工作會讓你更有發展!現在是否要轉換工作跑道取決你自己的想法，即使在工作上遇到困難也不會讓你想要馬上換工作，會想換工作大多是遇到心情上的低潮期。\n",
      "50,21,12,6,45 4 0 跟這個人相處上融洽，只是可能還是有一些地方你不是很了解他的想法，基本上還是可以相處得很不錯，也可以互相幫助。對方與你的思考模式有些類似，屬於可以溝通的對象，長久下來可能成為你可以心靈相通的朋友!\n",
      "41,19,70,64,9 4 1 他現在很好，雖然有點狀況不如預期，但結果都比意外的還要好，所以現在是露出微笑的模樣。如果想聯絡，也許是適合聯絡的時機，如果是無法聯絡的狀態，就在心情上跟他一起開心的度過今天吧！\n",
      "\n",
      "33,24,68,31,65 4 2 你們的閨蜜指數只有55分喔！相處上會有一些意見不同的看法發生，但是最終都能順利協調，相處上有一點尷尬，但是不要太過強求對方的話都還可以安然度過。要成為閨蜜還需要更長的時間相處，也需要一些契機發生。\n",
      "71,29,21,8,15 5 0 最近在金錢運勢上不錯，不過也有一些會花錢的跡象，最好養成記帳的習慣，才不會容易賺得多花的也多的現象發生!這半年處於想的多做的少的階段，雖然想賺錢但可能想很多卻很少努力去實現，建議要腳踏實地才有結果。\n",
      "39,36,60,35,4 5 1 目前的工作可以賺到錢，雖然不是一下子暴增，需要時間的累積，也會因為辛苦或其他的挫折感到灰心，但是看到以後成長薪水還是會有苦盡甘來的感覺。工作上可能會遇到貴人對你會有所幫助，透過拓展人際關係可以有機會賺錢。\n",
      "24,6,57,7,27 5 2 現在是這個投資很不錯的時機，可能會有一筆錢財進來，但是要小心不要馬上亂花掉或亂投資，最好可以諮詢一下一些理財方案，或者加碼投資，錢才會累積成塔!\n",
      "44,49,1,76,2 1 0 本周的運勢極佳，幾乎沒有不順心的事情發生，有想要做什麼的話要趁本周趕快進行喔！會遇到貴人，可能是你的朋友或是新認識的人，可以幫助你更有發展或者解決眼下的困難喔!\n",
      "46,53,66,78,32 1 1 未來ㄧ年的運勢有好有壞，心情不好也不壞，已經可以心情平靜地面對生活了。會遇到可以幫助你的貴人，人際關係上有新的發展，進而會幫助你的工作或者學業，要好好珍惜喔!\n",
      "67,23,24,70,2 1 2 守護天使想跟你說，不要擔心，會順利的。有幾個地方要注意好就可以了。（看下面的細部解釋）\n",
      "^C\n",
      "Traceback (most recent call last):\n",
      "  File \"tarot.py\", line 37, in <module>\n",
      "    run(playwright)\n",
      "  File \"tarot.py\", line 20, in run\n",
      "    page.goto(\"https://gomedia.asia/zh/%E7%84%A1%E7%89%8C%E9%99%A3%E5%A1%94%E7%BE%85%E5%8D%A0%E5%8D%9C%E8%A7%A3%E7%89%8C/?card={},&category={}&subitem={}\".format(p, c, s))\n",
      "  File \"/Users/david/.pyenv/versions/3.8.10/lib/python3.8/site-packages/playwright/sync_api/_generated.py\", line 7133, in goto\n",
      "    self._sync(\n",
      "  File \"/Users/david/.pyenv/versions/3.8.10/lib/python3.8/site-packages/playwright/_impl/_sync_base.py\", line 109, in _sync\n",
      "    self._dispatcher_fiber.switch()\n",
      "  File \"/Users/david/.pyenv/versions/3.8.10/lib/python3.8/site-packages/playwright/sync_api/_context_manager.py\", line 48, in greenlet_main\n",
      "    loop.run_until_complete(self._connection.run_as_sync())\n",
      "  File \"/Users/david/.pyenv/versions/3.8.10/lib/python3.8/asyncio/base_events.py\", line 603, in run_until_complete\n",
      "    self.run_forever()\n",
      "  File \"/Users/david/.pyenv/versions/3.8.10/lib/python3.8/asyncio/base_events.py\", line 570, in run_forever\n",
      "    self._run_once()\n",
      "  File \"/Users/david/.pyenv/versions/3.8.10/lib/python3.8/asyncio/base_events.py\", line 1823, in _run_once\n",
      "    event_list = self._selector.select(timeout)\n",
      "  File \"/Users/david/.pyenv/versions/3.8.10/lib/python3.8/selectors.py\", line 558, in select\n",
      "    kev_list = self._selector.control(None, max_ev, timeout)\n",
      "KeyboardInterrupt\n"
     ]
    }
   ],
   "source": [
    "! python tarot.py"
   ]
  },
  {
   "cell_type": "code",
   "execution_count": null,
   "id": "685f1268",
   "metadata": {},
   "outputs": [],
   "source": [
    "from playwright.sync_api import Playwright, sync_playwright\n",
    "import time, random\n",
    "from bs4 import BeautifulSoup\n",
    "\n",
    "def run(playwright: Playwright) -> None:\n",
    "    browser = playwright.webkit.launch(headless=False)\n",
    "    context = browser.new_context()\n",
    "\n",
    "    # Open new page\n",
    "    page = context.new_page()\n",
    "    for i in range(10):\n",
    "        for c in range(1,6):\n",
    "            for s in range(0,3):\n",
    "                ary = []\n",
    "                for num in random.sample(range(1,79), 5):\n",
    "                    ary.append(str(num))\n",
    "                p = ','.join(ary)\n",
    "\n",
    "                # Go to https://gomedia.asia/zh/free_tarot/\n",
    "                page.goto(\"https://gomedia.asia/zh/%E7%84%A1%E7%89%8C%E9%99%A3%E5%A1%94%E7%BE%85%E5%8D%A0%E5%8D%9C%E8%A7%A3%E7%89%8C/?card={},&category={}&subitem={}\".format(p, c, s))\n",
    "\n",
    "                time.sleep(1)\n",
    "                soup = BeautifulSoup(page.content(), 'lxml')\n",
    "                result = soup.select_one('.text-inner.text-left > h4').text\n",
    "                print(p,c,s,result)\n",
    "    # assert page.url == \"https://gomedia.asia/zh/%E7%84%A1%E7%89%8C%E9%99%A3%E5%A1%94%E7%BE%85%E5%8D%A0%E5%8D%9C%E8%A7%A3%E7%89%8C/?card=16,18,7,43,61,&category=5&subitem=0\"\n",
    "\n",
    "    # Close page\n",
    "    page.close()\n",
    "\n",
    "    # ---------------------\n",
    "    context.close()\n",
    "    browser.close()\n",
    "\n",
    "\n",
    "with sync_playwright() as playwright:\n",
    "    run(playwright)\n"
   ]
  },
  {
   "cell_type": "code",
   "execution_count": null,
   "id": "29f3f12b",
   "metadata": {},
   "outputs": [],
   "source": [
    "from playwright.sync_api import Playwright, sync_playwright\n",
    "import time\n",
    "import random\n",
    "from bs4 import BeautifulSoup\n",
    "def run(playwright: Playwright) -> None:\n",
    "    browser = playwright.webkit.launch(headless=False)\n",
    "    context = browser.new_context()\n",
    "\n",
    "    # Open new page\n",
    "    page = context.new_page()\n",
    "\n",
    "    # Go to https://gomedia.asia/zh/free_tarot/\n",
    "    page.goto(\"https://gomedia.asia/zh/%E7%84%A1%E7%89%8C%E9%99%A3%E5%A1%94%E7%BE%85%E5%8D%A0%E5%8D%9C%E8%A7%A3%E7%89%8C/?card=14,15,69,3,37,&category=5&subitem=0\")\n",
    "\n",
    "    time.sleep(10)\n",
    "    print(page.content())\n",
    "    # assert page.url == \"https://gomedia.asia/zh/%E7%84%A1%E7%89%8C%E9%99%A3%E5%A1%94%E7%BE%85%E5%8D%A0%E5%8D%9C%E8%A7%A3%E7%89%8C/?card=16,18,7,43,61,&category=5&subitem=0\"\n",
    "\n",
    "    # Close page\n",
    "    page.close()\n",
    "\n",
    "    # ---------------------\n",
    "    context.close()\n",
    "    browser.close()\n",
    "\n",
    "\n",
    "with sync_playwright() as playwright:\n",
    "    run(playwright)\n"
   ]
  },
  {
   "cell_type": "code",
   "execution_count": 97,
   "id": "366e399e",
   "metadata": {},
   "outputs": [
    {
     "data": {
      "text/plain": [
       "'Hello World'"
      ]
     },
     "execution_count": 97,
     "metadata": {},
     "output_type": "execute_result"
    }
   ],
   "source": [
    "'Hello ' + 'World'"
   ]
  },
  {
   "cell_type": "code",
   "execution_count": 99,
   "id": "cc3c0d6b",
   "metadata": {},
   "outputs": [
    {
     "name": "stdout",
     "output_type": "stream",
     "text": [
      "cola is David's favorite'\n"
     ]
    }
   ],
   "source": [
    "name = 'David'\n",
    "company = 'cola'\n",
    "print(company + ' is ' + name + \"'s favorite'\")"
   ]
  },
  {
   "cell_type": "code",
   "execution_count": 100,
   "id": "a0a8a297",
   "metadata": {},
   "outputs": [
    {
     "name": "stdout",
     "output_type": "stream",
     "text": [
      "cola is David's favorite\n"
     ]
    }
   ],
   "source": [
    "s = \"{} is {}'s favorite\"\n",
    "print(s.format('cola', 'David'))"
   ]
  },
  {
   "cell_type": "code",
   "execution_count": 107,
   "id": "9b68a385",
   "metadata": {},
   "outputs": [
    {
     "data": {
      "text/plain": [
       "[4, 5]"
      ]
     },
     "execution_count": 107,
     "metadata": {},
     "output_type": "execute_result"
    }
   ],
   "source": [
    "a= [1,2,3,4,5]\n",
    "a[3:10000]"
   ]
  },
  {
   "cell_type": "code",
   "execution_count": null,
   "id": "eb110635",
   "metadata": {},
   "outputs": [],
   "source": []
  }
 ],
 "metadata": {
  "kernelspec": {
   "display_name": "Python 3 (ipykernel)",
   "language": "python",
   "name": "python3"
  },
  "language_info": {
   "codemirror_mode": {
    "name": "ipython",
    "version": 3
   },
   "file_extension": ".py",
   "mimetype": "text/x-python",
   "name": "python",
   "nbconvert_exporter": "python",
   "pygments_lexer": "ipython3",
   "version": "3.8.10"
  }
 },
 "nbformat": 4,
 "nbformat_minor": 5
}
