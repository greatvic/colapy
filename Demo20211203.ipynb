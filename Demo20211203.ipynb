{
 "cells": [
  {
   "cell_type": "markdown",
   "id": "a7fd4c5b",
   "metadata": {},
   "source": [
    "## Go 塔羅"
   ]
  },
  {
   "cell_type": "code",
   "execution_count": 1,
   "id": "92a3fd8b",
   "metadata": {},
   "outputs": [],
   "source": [
    "! python -m playwright codegen --target python -o tarot2.py -b chromium https://gomedia.asia/zh/free_tarot/"
   ]
  },
  {
   "cell_type": "markdown",
   "id": "f0970776",
   "metadata": {},
   "source": [
    "### Method 1 (from ... import)\n",
    "- 好處：呼叫函數比較簡潔\n",
    "- 壞處：會有物件重名的問題"
   ]
  },
  {
   "cell_type": "code",
   "execution_count": 2,
   "id": "f7318f8c",
   "metadata": {},
   "outputs": [],
   "source": [
    "from playwright.sync_api import Playwright, sync_playwright"
   ]
  },
  {
   "cell_type": "markdown",
   "id": "df15186f",
   "metadata": {},
   "source": [
    "### Method 2 (import)\n",
    "- 好處：不會有重名的問題\n",
    "- 壞處：呼叫功能比較麻煩"
   ]
  },
  {
   "cell_type": "code",
   "execution_count": 3,
   "id": "bb78e77a",
   "metadata": {},
   "outputs": [
    {
     "data": {
      "text/plain": [
       "playwright.sync_api._generated.Playwright"
      ]
     },
     "execution_count": 3,
     "metadata": {},
     "output_type": "execute_result"
    }
   ],
   "source": [
    "import playwright\n",
    "playwright.sync_api.Playwright"
   ]
  },
  {
   "cell_type": "code",
   "execution_count": 4,
   "id": "aa0ee727",
   "metadata": {},
   "outputs": [
    {
     "data": {
      "text/plain": [
       "1000"
      ]
     },
     "execution_count": 4,
     "metadata": {},
     "output_type": "execute_result"
    }
   ],
   "source": [
    "Playwright = 100\n",
    "Playwright * 10"
   ]
  },
  {
   "cell_type": "code",
   "execution_count": 5,
   "id": "d28625b6",
   "metadata": {},
   "outputs": [],
   "source": [
    "from playwright.sync_api import Playwright, sync_playwright"
   ]
  },
  {
   "cell_type": "code",
   "execution_count": 6,
   "id": "c88d3e5d",
   "metadata": {},
   "outputs": [
    {
     "ename": "TypeError",
     "evalue": "unsupported operand type(s) for *: 'type' and 'int'",
     "output_type": "error",
     "traceback": [
      "\u001b[0;31m---------------------------------------------------------------------------\u001b[0m",
      "\u001b[0;31mTypeError\u001b[0m                                 Traceback (most recent call last)",
      "\u001b[0;32m/var/folders/21/1tszsz8n1vdd79rbhmdnwwqc0000gn/T/ipykernel_89874/597205677.py\u001b[0m in \u001b[0;36m<module>\u001b[0;34m\u001b[0m\n\u001b[0;32m----> 1\u001b[0;31m \u001b[0mPlaywright\u001b[0m \u001b[0;34m*\u001b[0m \u001b[0;36m10\u001b[0m\u001b[0;34m\u001b[0m\u001b[0;34m\u001b[0m\u001b[0m\n\u001b[0m",
      "\u001b[0;31mTypeError\u001b[0m: unsupported operand type(s) for *: 'type' and 'int'"
     ]
    }
   ],
   "source": [
    "Playwright * 10"
   ]
  },
  {
   "cell_type": "markdown",
   "id": "63a98e59",
   "metadata": {},
   "source": [
    "## 呼叫模組的功能"
   ]
  },
  {
   "cell_type": "code",
   "execution_count": 8,
   "id": "02e8cace",
   "metadata": {},
   "outputs": [
    {
     "data": {
      "text/plain": [
       "100"
      ]
     },
     "execution_count": 8,
     "metadata": {},
     "output_type": "execute_result"
    }
   ],
   "source": [
    "# from 套件(目錄).模組(檔案) import 功能或變數\n",
    "from newpackage.newmodule import a\n",
    "a"
   ]
  },
  {
   "cell_type": "code",
   "execution_count": 13,
   "id": "962579ee",
   "metadata": {},
   "outputs": [
    {
     "data": {
      "text/plain": [
       "100"
      ]
     },
     "execution_count": 13,
     "metadata": {},
     "output_type": "execute_result"
    }
   ],
   "source": [
    "import newpackage\n",
    "newpackage.newmodule.a"
   ]
  },
  {
   "cell_type": "code",
   "execution_count": 14,
   "id": "b7dc2cd1",
   "metadata": {},
   "outputs": [
    {
     "data": {
      "text/plain": [
       "100"
      ]
     },
     "execution_count": 14,
     "metadata": {},
     "output_type": "execute_result"
    }
   ],
   "source": [
    "from newpackage.newmodule import a as b\n",
    "b"
   ]
  },
  {
   "cell_type": "markdown",
   "id": "382731bf",
   "metadata": {},
   "source": [
    "## Python 模組"
   ]
  },
  {
   "cell_type": "code",
   "execution_count": 16,
   "id": "a6bd296a",
   "metadata": {},
   "outputs": [
    {
     "data": {
      "text/plain": [
       "365.09675063891933"
      ]
     },
     "execution_count": 16,
     "metadata": {},
     "output_type": "execute_result"
    }
   ],
   "source": [
    "10000 / 27.39"
   ]
  },
  {
   "cell_type": "code",
   "execution_count": 17,
   "id": "936c30c0",
   "metadata": {},
   "outputs": [
    {
     "name": "stdout",
     "output_type": "stream",
     "text": [
      "['__doc__', '__file__', '__loader__', '__name__', '__package__', '__spec__', 'acos', 'acosh', 'asin', 'asinh', 'atan', 'atan2', 'atanh', 'ceil', 'comb', 'copysign', 'cos', 'cosh', 'degrees', 'dist', 'e', 'erf', 'erfc', 'exp', 'expm1', 'fabs', 'factorial', 'floor', 'fmod', 'frexp', 'fsum', 'gamma', 'gcd', 'hypot', 'inf', 'isclose', 'isfinite', 'isinf', 'isnan', 'isqrt', 'ldexp', 'lgamma', 'log', 'log10', 'log1p', 'log2', 'modf', 'nan', 'perm', 'pi', 'pow', 'prod', 'radians', 'remainder', 'sin', 'sinh', 'sqrt', 'tan', 'tanh', 'tau', 'trunc']\n"
     ]
    }
   ],
   "source": [
    "import math\n",
    "print(dir(math))"
   ]
  },
  {
   "cell_type": "code",
   "execution_count": 18,
   "id": "cd7312b3",
   "metadata": {},
   "outputs": [],
   "source": [
    "?math.cos"
   ]
  },
  {
   "cell_type": "code",
   "execution_count": 19,
   "id": "6eaea835",
   "metadata": {},
   "outputs": [],
   "source": [
    "?math.ceil"
   ]
  },
  {
   "cell_type": "code",
   "execution_count": 20,
   "id": "25aa67a3",
   "metadata": {},
   "outputs": [
    {
     "data": {
      "text/plain": [
       "366"
      ]
     },
     "execution_count": 20,
     "metadata": {},
     "output_type": "execute_result"
    }
   ],
   "source": [
    "math.ceil(10000 / 27.39)"
   ]
  },
  {
   "cell_type": "code",
   "execution_count": 21,
   "id": "677156b9",
   "metadata": {},
   "outputs": [
    {
     "name": "stdout",
     "output_type": "stream",
     "text": [
      "Collecting currencyconverter\n",
      "  Downloading CurrencyConverter-0.16.5-py2.py3-none-any.whl (532 kB)\n",
      "\u001b[K     |████████████████████████████████| 532 kB 1.4 MB/s eta 0:00:01\n",
      "\u001b[?25hInstalling collected packages: currencyconverter\n",
      "Successfully installed currencyconverter-0.16.5\n",
      "\u001b[33mWARNING: You are using pip version 21.1.1; however, version 21.3.1 is available.\n",
      "You should consider upgrading via the '/Users/david/.pyenv/versions/3.8.10/bin/python3.8 -m pip install --upgrade pip' command.\u001b[0m\n"
     ]
    }
   ],
   "source": [
    "! pip install currencyconverter"
   ]
  },
  {
   "cell_type": "code",
   "execution_count": 24,
   "id": "d0f80e33",
   "metadata": {},
   "outputs": [
    {
     "name": "stdout",
     "output_type": "stream",
     "text": [
      "100.000 USD = 86.401 EUR on 2021-12-03\r\n"
     ]
    }
   ],
   "source": [
    "! currency_converter 100 USD --to EUR -d 2021-12-03"
   ]
  },
  {
   "cell_type": "code",
   "execution_count": 25,
   "id": "75487275",
   "metadata": {},
   "outputs": [
    {
     "name": "stdout",
     "output_type": "stream",
     "text": [
      "100.000 USD = 11,292.552 JPY on 2021-12-03\r\n"
     ]
    }
   ],
   "source": [
    "! currency_converter 100 USD --to JPY -d 2021-12-03"
   ]
  },
  {
   "cell_type": "code",
   "execution_count": 27,
   "id": "e722997d",
   "metadata": {},
   "outputs": [
    {
     "data": {
      "text/plain": [
       "115.74"
      ]
     },
     "execution_count": 27,
     "metadata": {},
     "output_type": "execute_result"
    }
   ],
   "source": [
    "from currency_converter import CurrencyConverter\n",
    "c = CurrencyConverter()\n",
    "c.convert(100, 'EUR', 'USD') "
   ]
  },
  {
   "cell_type": "code",
   "execution_count": 28,
   "id": "ad061d8e",
   "metadata": {},
   "outputs": [
    {
     "data": {
      "text/plain": [
       "13069.999999999998"
      ]
     },
     "execution_count": 28,
     "metadata": {},
     "output_type": "execute_result"
    }
   ],
   "source": [
    "c.convert(100, 'EUR', 'JPY') "
   ]
  },
  {
   "cell_type": "markdown",
   "id": "ea8112b6",
   "metadata": {},
   "source": [
    "## Forex-Python\n",
    "- https://github.com/MicroPyramid/forex-python\n",
    "- 1 BTC to 1 USD"
   ]
  },
  {
   "cell_type": "code",
   "execution_count": 30,
   "id": "f1b43692",
   "metadata": {},
   "outputs": [
    {
     "name": "stdout",
     "output_type": "stream",
     "text": [
      "Collecting forex_python\n",
      "  Downloading forex_python-1.7-py3-none-any.whl (8.1 kB)\n",
      "Requirement already satisfied: requests in /Users/david/.pyenv/versions/3.8.10/lib/python3.8/site-packages (from forex_python) (2.26.0)\n",
      "Requirement already satisfied: simplejson in /Users/david/.pyenv/versions/3.8.10/lib/python3.8/site-packages (from forex_python) (3.17.3)\n",
      "Requirement already satisfied: idna<4,>=2.5 in /Users/david/.pyenv/versions/3.8.10/lib/python3.8/site-packages (from requests->forex_python) (3.2)\n",
      "Requirement already satisfied: charset-normalizer~=2.0.0 in /Users/david/.pyenv/versions/3.8.10/lib/python3.8/site-packages (from requests->forex_python) (2.0.4)\n",
      "Requirement already satisfied: certifi>=2017.4.17 in /Users/david/.local/lib/python3.8/site-packages (from requests->forex_python) (2021.5.30)\n",
      "Requirement already satisfied: urllib3<1.27,>=1.21.1 in /Users/david/.pyenv/versions/3.8.10/lib/python3.8/site-packages (from requests->forex_python) (1.26.6)\n",
      "Installing collected packages: forex-python\n",
      "Successfully installed forex-python-1.7\n",
      "\u001b[33mWARNING: You are using pip version 21.1.1; however, version 21.3.1 is available.\n",
      "You should consider upgrading via the '/Users/david/.pyenv/versions/3.8.10/bin/python3.8 -m pip install --upgrade pip' command.\u001b[0m\n"
     ]
    }
   ],
   "source": [
    "! pip install forex_python"
   ]
  },
  {
   "cell_type": "code",
   "execution_count": 31,
   "id": "b5f52de6",
   "metadata": {},
   "outputs": [
    {
     "data": {
      "text/plain": [
       "56366.9283"
      ]
     },
     "execution_count": 31,
     "metadata": {},
     "output_type": "execute_result"
    }
   ],
   "source": [
    "from forex_python.bitcoin import BtcConverter\n",
    "b = BtcConverter() # force_decimal=True to get Decimal rates\n",
    "b.get_latest_price('USD')"
   ]
  },
  {
   "cell_type": "code",
   "execution_count": 32,
   "id": "964af6a7",
   "metadata": {},
   "outputs": [],
   "source": [
    "?b.get_latest_price"
   ]
  },
  {
   "cell_type": "code",
   "execution_count": 33,
   "id": "b6ce3c49",
   "metadata": {},
   "outputs": [
    {
     "data": {
      "text/plain": [
       "1563164.5299"
      ]
     },
     "execution_count": 33,
     "metadata": {},
     "output_type": "execute_result"
    }
   ],
   "source": [
    "from forex_python.bitcoin import BtcConverter\n",
    "b = BtcConverter() # force_decimal=True to get Decimal rates\n",
    "b.get_latest_price('TWD')"
   ]
  },
  {
   "cell_type": "markdown",
   "id": "2da5eec6",
   "metadata": {},
   "source": [
    "## 換匯"
   ]
  },
  {
   "cell_type": "code",
   "execution_count": 36,
   "id": "d36d9c8c",
   "metadata": {},
   "outputs": [
    {
     "data": {
      "text/plain": [
       "81900.0"
      ]
     },
     "execution_count": 36,
     "metadata": {},
     "output_type": "execute_result"
    }
   ],
   "source": [
    "USD = 3000\n",
    "EXCHANGE = 27.3\n",
    "EXCHANGE * USD"
   ]
  },
  {
   "cell_type": "code",
   "execution_count": 37,
   "id": "64de57ac",
   "metadata": {},
   "outputs": [],
   "source": [
    "def rate_exchange(USD):\n",
    "    EXCHANGE = 27.3\n",
    "    TWD = EXCHANGE * USD\n",
    "    return TWD"
   ]
  },
  {
   "cell_type": "code",
   "execution_count": 38,
   "id": "e6df1cf9",
   "metadata": {},
   "outputs": [
    {
     "data": {
      "text/plain": [
       "2730.0"
      ]
     },
     "execution_count": 38,
     "metadata": {},
     "output_type": "execute_result"
    }
   ],
   "source": [
    "rate_exchange(100)"
   ]
  },
  {
   "cell_type": "code",
   "execution_count": 39,
   "id": "c89ca8e7",
   "metadata": {},
   "outputs": [
    {
     "data": {
      "text/plain": [
       "4095.0"
      ]
     },
     "execution_count": 39,
     "metadata": {},
     "output_type": "execute_result"
    }
   ],
   "source": [
    "rate_exchange(150)"
   ]
  },
  {
   "cell_type": "code",
   "execution_count": 41,
   "id": "6cc4c696",
   "metadata": {},
   "outputs": [
    {
     "name": "stdout",
     "output_type": "stream",
     "text": [
      "Print Anyway\n"
     ]
    }
   ],
   "source": [
    "a = 5\n",
    "b = 6\n",
    "\n",
    "if a > b:\n",
    "    print('A is greater than B')\n",
    "print('Print Anyway')"
   ]
  },
  {
   "cell_type": "code",
   "execution_count": 48,
   "id": "c4ddce29",
   "metadata": {},
   "outputs": [
    {
     "name": "stdout",
     "output_type": "stream",
     "text": [
      "A is greater than B\n",
      "Print Anyway\n"
     ]
    }
   ],
   "source": [
    "a = 5\n",
    "b = 3\n",
    "\n",
    "if a > b:\n",
    "                                                   print('A is greater than B')\n",
    "print('Print Anyway')"
   ]
  },
  {
   "cell_type": "code",
   "execution_count": 49,
   "id": "af20c39b",
   "metadata": {},
   "outputs": [],
   "source": [
    "USD = 3000\n",
    "EXCHANGE = 27.3\n",
    "EXCHANGE * USD\n",
    "\n",
    "\n",
    "def rate_exchange(USD):\n",
    "    EXCHANGE = 27.3\n",
    "    TWD = EXCHANGE * USD\n",
    "    return TWD"
   ]
  },
  {
   "cell_type": "code",
   "execution_count": 50,
   "id": "06d2aa44",
   "metadata": {},
   "outputs": [
    {
     "data": {
      "text/plain": [
       "2730.0"
      ]
     },
     "execution_count": 50,
     "metadata": {},
     "output_type": "execute_result"
    }
   ],
   "source": [
    "rate_exchange(100)"
   ]
  },
  {
   "cell_type": "code",
   "execution_count": 51,
   "id": "8ff75edd",
   "metadata": {},
   "outputs": [
    {
     "data": {
      "text/plain": [
       "5460.0"
      ]
     },
     "execution_count": 51,
     "metadata": {},
     "output_type": "execute_result"
    }
   ],
   "source": [
    "rate_exchange(200)"
   ]
  },
  {
   "cell_type": "code",
   "execution_count": 53,
   "id": "2e32c871",
   "metadata": {},
   "outputs": [
    {
     "data": {
      "text/plain": [
       "82200"
      ]
     },
     "execution_count": 53,
     "metadata": {},
     "output_type": "execute_result"
    }
   ],
   "source": [
    "USD = 3000\n",
    "EXCHANGE = 27.4\n",
    "TWD = USD * EXCHANGE\n",
    "TWD =int(TWD)\n",
    "TWD"
   ]
  },
  {
   "cell_type": "code",
   "execution_count": 54,
   "id": "14c460c3",
   "metadata": {},
   "outputs": [],
   "source": [
    "def rate_exchange(USD, EXCHANGE):\n",
    "    TWD = USD * EXCHANGE\n",
    "    TWD =int(TWD)\n",
    "    return TWD"
   ]
  },
  {
   "cell_type": "code",
   "execution_count": 55,
   "id": "bb85218a",
   "metadata": {},
   "outputs": [
    {
     "data": {
      "text/plain": [
       "84000"
      ]
     },
     "execution_count": 55,
     "metadata": {},
     "output_type": "execute_result"
    }
   ],
   "source": [
    "rate_exchange(3000, 28)"
   ]
  },
  {
   "cell_type": "code",
   "execution_count": 56,
   "id": "ff5497b8",
   "metadata": {},
   "outputs": [
    {
     "data": {
      "text/plain": [
       "81600"
      ]
     },
     "execution_count": 56,
     "metadata": {},
     "output_type": "execute_result"
    }
   ],
   "source": [
    "rate_exchange(3000, 27.2)"
   ]
  },
  {
   "cell_type": "code",
   "execution_count": 57,
   "id": "4280f418",
   "metadata": {},
   "outputs": [],
   "source": [
    "def rate_exchange(USD :int , EXCHANGE:float) -> int:\n",
    "    TWD = USD * EXCHANGE\n",
    "    TWD =int(TWD)\n",
    "    return TWD"
   ]
  },
  {
   "cell_type": "code",
   "execution_count": 58,
   "id": "3c5e1eb6",
   "metadata": {},
   "outputs": [
    {
     "data": {
      "text/plain": [
       "84000"
      ]
     },
     "execution_count": 58,
     "metadata": {},
     "output_type": "execute_result"
    }
   ],
   "source": [
    "rate_exchange(3000, 28)"
   ]
  },
  {
   "cell_type": "code",
   "execution_count": 59,
   "id": "faafcd6f",
   "metadata": {},
   "outputs": [],
   "source": [
    "def rate_exchange(USD :int , EXCHANGE:float) -> int:\n",
    "    TWD = USD * EXCHANGE\n",
    "    #TWD =int(TWD)\n",
    "    return TWD"
   ]
  },
  {
   "cell_type": "code",
   "execution_count": 61,
   "id": "a285559b",
   "metadata": {},
   "outputs": [
    {
     "data": {
      "text/plain": [
       "84000.0"
      ]
     },
     "execution_count": 61,
     "metadata": {},
     "output_type": "execute_result"
    }
   ],
   "source": [
    "rate_exchange(3000, 28.0)"
   ]
  },
  {
   "cell_type": "code",
   "execution_count": 71,
   "id": "7516c9f2",
   "metadata": {},
   "outputs": [],
   "source": [
    "! python tarot2.py"
   ]
  },
  {
   "cell_type": "markdown",
   "id": "32ac4d17",
   "metadata": {},
   "source": [
    "## Async"
   ]
  },
  {
   "cell_type": "code",
   "execution_count": 72,
   "id": "6c185e6d",
   "metadata": {},
   "outputs": [
    {
     "name": "stdout",
     "output_type": "stream",
     "text": [
      "^C\r\n"
     ]
    }
   ],
   "source": [
    "! python -m playwright codegen --target python-async -o tarot2.py -b chromium https://gomedia.asia/zh/free_tarot/"
   ]
  },
  {
   "cell_type": "code",
   "execution_count": 73,
   "id": "679a33c4",
   "metadata": {},
   "outputs": [
    {
     "data": {
      "text/plain": [
       "<Task pending name='Task-3' coro=<main() running at /var/folders/21/1tszsz8n1vdd79rbhmdnwwqc0000gn/T/ipykernel_89874/3351472191.py:17>>"
      ]
     },
     "execution_count": 73,
     "metadata": {},
     "output_type": "execute_result"
    }
   ],
   "source": [
    "import asyncio\n",
    "from playwright.async_api import Playwright, async_playwright\n",
    "\n",
    "async def run(playwright: Playwright) -> None:\n",
    "    browser = await playwright.chromium.launch(headless=False)\n",
    "    context = await browser.new_context()\n",
    "    # Open new page\n",
    "    page = await context.new_page()\n",
    "    # Go to https://gomedia.asia/zh/free_tarot/\n",
    "    await page.goto(\"https://gomedia.asia/zh/free_tarot/\")\n",
    "    # 0× click\n",
    "    await page.click(\"iframe[name=\\\"aswift_1\\\"]\")\n",
    "    # ---------------------\n",
    "    await context.close()\n",
    "    await browser.close()\n",
    "    \n",
    "async def main() -> None:\n",
    "    async with async_playwright() as playwright:\n",
    "        await run(playwright)\n",
    "        \n",
    "asyncio.create_task(main())\n"
   ]
  },
  {
   "cell_type": "code",
   "execution_count": 76,
   "id": "d4d25d5e",
   "metadata": {},
   "outputs": [
    {
     "data": {
      "text/plain": [
       "<Task pending name='Task-11' coro=<main() running at /var/folders/21/1tszsz8n1vdd79rbhmdnwwqc0000gn/T/ipykernel_89874/1491300464.py:18>>"
      ]
     },
     "execution_count": 76,
     "metadata": {},
     "output_type": "execute_result"
    }
   ],
   "source": [
    "import asyncio\n",
    "from playwright.async_api import Playwright, async_playwright\n",
    "\n",
    "async def run(playwright: Playwright) -> None:\n",
    "    browser = await playwright.chromium.launch(headless=False)\n",
    "    context = await browser.new_context()\n",
    "    # Open new page\n",
    "    page = await context.new_page()\n",
    "    # Go to https://gomedia.asia/zh/free_tarot/\n",
    "    await page.goto(\"https://gomedia.asia/zh/free_tarot/\")\n",
    "    \n",
    "    # 0× click\n",
    "    await page.screenshot(path = '1.png', full_page= True )\n",
    "    # ---------------------\n",
    "    await context.close()\n",
    "    await browser.close()\n",
    "    \n",
    "async def main() -> None:\n",
    "    async with async_playwright() as playwright:\n",
    "        await run(playwright)\n",
    "        \n",
    "asyncio.create_task(main())\n"
   ]
  },
  {
   "cell_type": "code",
   "execution_count": 77,
   "id": "34c685ce",
   "metadata": {},
   "outputs": [],
   "source": [
    "! open 1.png"
   ]
  },
  {
   "cell_type": "markdown",
   "id": "42dd7711",
   "metadata": {},
   "source": [
    "## 練習題\n",
    "\n",
    "請修改以下程式，讓我們截圖Facebook 的完整頁面內容\n"
   ]
  },
  {
   "cell_type": "code",
   "execution_count": null,
   "id": "016b0e04",
   "metadata": {},
   "outputs": [],
   "source": [
    "import asyncio\n",
    "from playwright.async_api import Playwright, async_playwright\n",
    "\n",
    "async def run(playwright: Playwright) -> None:\n",
    "    browser = await playwright.chromium.launch(headless=False)\n",
    "    context = await browser.new_context()\n",
    "    # Open new page\n",
    "    page = await context.new_page()\n",
    "    # Go to https://gomedia.asia/zh/free_tarot/\n",
    "    await page.goto(\"https://gomedia.asia/zh/free_tarot/\")\n",
    "    \n",
    "    # 0× click\n",
    "    await page.screenshot(path = '1.png', full_page= True )\n",
    "    # ---------------------\n",
    "    await context.close()\n",
    "    await browser.close()\n",
    "    \n",
    "async def main() -> None:\n",
    "    async with async_playwright() as playwright:\n",
    "        await run(playwright)\n",
    "        \n",
    "asyncio.create_task(main())\n"
   ]
  },
  {
   "cell_type": "code",
   "execution_count": null,
   "id": "1a1d530a",
   "metadata": {},
   "outputs": [],
   "source": []
  }
 ],
 "metadata": {
  "kernelspec": {
   "display_name": "Python 3 (ipykernel)",
   "language": "python",
   "name": "python3"
  },
  "language_info": {
   "codemirror_mode": {
    "name": "ipython",
    "version": 3
   },
   "file_extension": ".py",
   "mimetype": "text/x-python",
   "name": "python",
   "nbconvert_exporter": "python",
   "pygments_lexer": "ipython3",
   "version": "3.8.10"
  }
 },
 "nbformat": 4,
 "nbformat_minor": 5
}
