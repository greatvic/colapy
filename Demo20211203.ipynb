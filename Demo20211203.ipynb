{
 "cells": [
  {
   "cell_type": "markdown",
   "id": "52ab9300",
   "metadata": {},
   "source": [
    "## Go 塔羅"
   ]
  },
  {
   "cell_type": "code",
   "execution_count": 1,
   "id": "5a82d137",
   "metadata": {},
   "outputs": [],
   "source": [
    "! python -m playwright codegen --target python -o tarot2.py -b chromium https://gomedia.asia/zh/free_tarot/"
   ]
  },
  {
   "cell_type": "markdown",
   "id": "e06fbecd",
   "metadata": {},
   "source": [
    "### Method 1 (from ... import)\n",
    "- 好處：呼叫函數比較簡潔\n",
    "- 壞處：會有物件重名的問題"
   ]
  },
  {
   "cell_type": "code",
   "execution_count": 2,
   "id": "b5104832",
   "metadata": {},
   "outputs": [],
   "source": [
    "from playwright.sync_api import Playwright, sync_playwright"
   ]
  },
  {
   "cell_type": "markdown",
   "id": "d068a33d",
   "metadata": {},
   "source": [
    "### Method 2 (import)\n",
    "- 好處：不會有重名的問題\n",
    "- 壞處：呼叫功能比較麻煩"
   ]
  },
  {
   "cell_type": "code",
   "execution_count": 3,
   "id": "1695b469",
   "metadata": {},
   "outputs": [
    {
     "data": {
      "text/plain": [
       "playwright.sync_api._generated.Playwright"
      ]
     },
     "execution_count": 3,
     "metadata": {},
     "output_type": "execute_result"
    }
   ],
   "source": [
    "import playwright\n",
    "playwright.sync_api.Playwright"
   ]
  },
  {
   "cell_type": "code",
   "execution_count": 4,
   "id": "f6dd636d",
   "metadata": {},
   "outputs": [
    {
     "data": {
      "text/plain": [
       "1000"
      ]
     },
     "execution_count": 4,
     "metadata": {},
     "output_type": "execute_result"
    }
   ],
   "source": [
    "Playwright = 100\n",
    "Playwright * 10"
   ]
  },
  {
   "cell_type": "code",
   "execution_count": 5,
   "id": "d742aa3d",
   "metadata": {},
   "outputs": [],
   "source": [
    "from playwright.sync_api import Playwright, sync_playwright"
   ]
  },
  {
   "cell_type": "code",
   "execution_count": 6,
   "id": "d31f0a46",
   "metadata": {},
   "outputs": [
    {
     "ename": "TypeError",
     "evalue": "unsupported operand type(s) for *: 'type' and 'int'",
     "output_type": "error",
     "traceback": [
      "\u001b[0;31m---------------------------------------------------------------------------\u001b[0m",
      "\u001b[0;31mTypeError\u001b[0m                                 Traceback (most recent call last)",
      "\u001b[0;32m/var/folders/21/1tszsz8n1vdd79rbhmdnwwqc0000gn/T/ipykernel_89874/597205677.py\u001b[0m in \u001b[0;36m<module>\u001b[0;34m\u001b[0m\n\u001b[0;32m----> 1\u001b[0;31m \u001b[0mPlaywright\u001b[0m \u001b[0;34m*\u001b[0m \u001b[0;36m10\u001b[0m\u001b[0;34m\u001b[0m\u001b[0;34m\u001b[0m\u001b[0m\n\u001b[0m",
      "\u001b[0;31mTypeError\u001b[0m: unsupported operand type(s) for *: 'type' and 'int'"
     ]
    }
   ],
   "source": [
    "Playwright * 10"
   ]
  },
  {
   "cell_type": "markdown",
   "id": "41b61e50",
   "metadata": {},
   "source": [
    "## 呼叫模組的功能"
   ]
  },
  {
   "cell_type": "code",
   "execution_count": 8,
   "id": "b612c2ae",
   "metadata": {},
   "outputs": [
    {
     "data": {
      "text/plain": [
       "100"
      ]
     },
     "execution_count": 8,
     "metadata": {},
     "output_type": "execute_result"
    }
   ],
   "source": [
    "# from 套件(目錄).模組(檔案) import 功能或變數\n",
    "from newpackage.newmodule import a\n",
    "a"
   ]
  },
  {
   "cell_type": "code",
   "execution_count": 13,
   "id": "33ff5cee",
   "metadata": {},
   "outputs": [
    {
     "data": {
      "text/plain": [
       "100"
      ]
     },
     "execution_count": 13,
     "metadata": {},
     "output_type": "execute_result"
    }
   ],
   "source": [
    "import newpackage\n",
    "newpackage.newmodule.a"
   ]
  },
  {
   "cell_type": "code",
   "execution_count": 14,
   "id": "65c95850",
   "metadata": {},
   "outputs": [
    {
     "data": {
      "text/plain": [
       "100"
      ]
     },
     "execution_count": 14,
     "metadata": {},
     "output_type": "execute_result"
    }
   ],
   "source": [
    "from newpackage.newmodule import a as b\n",
    "b"
   ]
  },
  {
   "cell_type": "markdown",
   "id": "d919ca22",
   "metadata": {},
   "source": [
    "## Python 模組"
   ]
  },
  {
   "cell_type": "code",
   "execution_count": 16,
   "id": "6532d767",
   "metadata": {},
   "outputs": [
    {
     "data": {
      "text/plain": [
       "365.09675063891933"
      ]
     },
     "execution_count": 16,
     "metadata": {},
     "output_type": "execute_result"
    }
   ],
   "source": [
    "10000 / 27.39"
   ]
  },
  {
   "cell_type": "code",
   "execution_count": 17,
   "id": "1692a310",
   "metadata": {},
   "outputs": [
    {
     "name": "stdout",
     "output_type": "stream",
     "text": [
      "['__doc__', '__file__', '__loader__', '__name__', '__package__', '__spec__', 'acos', 'acosh', 'asin', 'asinh', 'atan', 'atan2', 'atanh', 'ceil', 'comb', 'copysign', 'cos', 'cosh', 'degrees', 'dist', 'e', 'erf', 'erfc', 'exp', 'expm1', 'fabs', 'factorial', 'floor', 'fmod', 'frexp', 'fsum', 'gamma', 'gcd', 'hypot', 'inf', 'isclose', 'isfinite', 'isinf', 'isnan', 'isqrt', 'ldexp', 'lgamma', 'log', 'log10', 'log1p', 'log2', 'modf', 'nan', 'perm', 'pi', 'pow', 'prod', 'radians', 'remainder', 'sin', 'sinh', 'sqrt', 'tan', 'tanh', 'tau', 'trunc']\n"
     ]
    }
   ],
   "source": [
    "import math\n",
    "print(dir(math))"
   ]
  },
  {
   "cell_type": "code",
   "execution_count": 18,
   "id": "29afc197",
   "metadata": {},
   "outputs": [],
   "source": [
    "?math.cos"
   ]
  },
  {
   "cell_type": "code",
   "execution_count": 19,
   "id": "06912bf7",
   "metadata": {},
   "outputs": [],
   "source": [
    "?math.ceil"
   ]
  },
  {
   "cell_type": "code",
   "execution_count": 20,
   "id": "4ec84f8d",
   "metadata": {},
   "outputs": [
    {
     "data": {
      "text/plain": [
       "366"
      ]
     },
     "execution_count": 20,
     "metadata": {},
     "output_type": "execute_result"
    }
   ],
   "source": [
    "math.ceil(10000 / 27.39)"
   ]
  },
  {
   "cell_type": "code",
   "execution_count": 21,
   "id": "3ad897e9",
   "metadata": {},
   "outputs": [
    {
     "name": "stdout",
     "output_type": "stream",
     "text": [
      "Collecting currencyconverter\n",
      "  Downloading CurrencyConverter-0.16.5-py2.py3-none-any.whl (532 kB)\n",
      "\u001b[K     |████████████████████████████████| 532 kB 1.4 MB/s eta 0:00:01\n",
      "\u001b[?25hInstalling collected packages: currencyconverter\n",
      "Successfully installed currencyconverter-0.16.5\n",
      "\u001b[33mWARNING: You are using pip version 21.1.1; however, version 21.3.1 is available.\n",
      "You should consider upgrading via the '/Users/david/.pyenv/versions/3.8.10/bin/python3.8 -m pip install --upgrade pip' command.\u001b[0m\n"
     ]
    }
   ],
   "source": [
    "! pip install currencyconverter"
   ]
  },
  {
   "cell_type": "code",
   "execution_count": 24,
   "id": "0e5fd9a7",
   "metadata": {},
   "outputs": [
    {
     "name": "stdout",
     "output_type": "stream",
     "text": [
      "100.000 USD = 86.401 EUR on 2021-12-03\r\n"
     ]
    }
   ],
   "source": [
    "! currency_converter 100 USD --to EUR -d 2021-12-03"
   ]
  },
  {
   "cell_type": "code",
   "execution_count": 25,
   "id": "027d861f",
   "metadata": {},
   "outputs": [
    {
     "name": "stdout",
     "output_type": "stream",
     "text": [
      "100.000 USD = 11,292.552 JPY on 2021-12-03\r\n"
     ]
    }
   ],
   "source": [
    "! currency_converter 100 USD --to JPY -d 2021-12-03"
   ]
  },
  {
   "cell_type": "code",
   "execution_count": 27,
   "id": "5255a7c9",
   "metadata": {},
   "outputs": [
    {
     "data": {
      "text/plain": [
       "115.74"
      ]
     },
     "execution_count": 27,
     "metadata": {},
     "output_type": "execute_result"
    }
   ],
   "source": [
    "from currency_converter import CurrencyConverter\n",
    "c = CurrencyConverter()\n",
    "c.convert(100, 'EUR', 'USD') "
   ]
  },
  {
   "cell_type": "code",
   "execution_count": 28,
   "id": "cd53e128",
   "metadata": {},
   "outputs": [
    {
     "data": {
      "text/plain": [
       "13069.999999999998"
      ]
     },
     "execution_count": 28,
     "metadata": {},
     "output_type": "execute_result"
    }
   ],
   "source": [
    "c.convert(100, 'EUR', 'JPY') "
   ]
  },
  {
   "cell_type": "markdown",
   "id": "d7f721aa",
   "metadata": {},
   "source": [
    "## Forex-Python\n",
    "- https://github.com/MicroPyramid/forex-python\n",
    "- 1 BTC to 1 USD"
   ]
  },
  {
   "cell_type": "code",
   "execution_count": 30,
   "id": "352461f0",
   "metadata": {},
   "outputs": [
    {
     "name": "stdout",
     "output_type": "stream",
     "text": [
      "Collecting forex_python\n",
      "  Downloading forex_python-1.7-py3-none-any.whl (8.1 kB)\n",
      "Requirement already satisfied: requests in /Users/david/.pyenv/versions/3.8.10/lib/python3.8/site-packages (from forex_python) (2.26.0)\n",
      "Requirement already satisfied: simplejson in /Users/david/.pyenv/versions/3.8.10/lib/python3.8/site-packages (from forex_python) (3.17.3)\n",
      "Requirement already satisfied: idna<4,>=2.5 in /Users/david/.pyenv/versions/3.8.10/lib/python3.8/site-packages (from requests->forex_python) (3.2)\n",
      "Requirement already satisfied: charset-normalizer~=2.0.0 in /Users/david/.pyenv/versions/3.8.10/lib/python3.8/site-packages (from requests->forex_python) (2.0.4)\n",
      "Requirement already satisfied: certifi>=2017.4.17 in /Users/david/.local/lib/python3.8/site-packages (from requests->forex_python) (2021.5.30)\n",
      "Requirement already satisfied: urllib3<1.27,>=1.21.1 in /Users/david/.pyenv/versions/3.8.10/lib/python3.8/site-packages (from requests->forex_python) (1.26.6)\n",
      "Installing collected packages: forex-python\n",
      "Successfully installed forex-python-1.7\n",
      "\u001b[33mWARNING: You are using pip version 21.1.1; however, version 21.3.1 is available.\n",
      "You should consider upgrading via the '/Users/david/.pyenv/versions/3.8.10/bin/python3.8 -m pip install --upgrade pip' command.\u001b[0m\n"
     ]
    }
   ],
   "source": [
    "! pip install forex_python"
   ]
  },
  {
   "cell_type": "code",
   "execution_count": 31,
   "id": "513b2fc1",
   "metadata": {},
   "outputs": [
    {
     "data": {
      "text/plain": [
       "56366.9283"
      ]
     },
     "execution_count": 31,
     "metadata": {},
     "output_type": "execute_result"
    }
   ],
   "source": [
    "from forex_python.bitcoin import BtcConverter\n",
    "b = BtcConverter() # force_decimal=True to get Decimal rates\n",
    "b.get_latest_price('USD')"
   ]
  },
  {
   "cell_type": "code",
   "execution_count": 32,
   "id": "901058e2",
   "metadata": {},
   "outputs": [],
   "source": [
    "?b.get_latest_price"
   ]
  },
  {
   "cell_type": "code",
   "execution_count": 33,
   "id": "7f3d175f",
   "metadata": {},
   "outputs": [
    {
     "data": {
      "text/plain": [
       "1563164.5299"
      ]
     },
     "execution_count": 33,
     "metadata": {},
     "output_type": "execute_result"
    }
   ],
   "source": [
    "from forex_python.bitcoin import BtcConverter\n",
    "b = BtcConverter() # force_decimal=True to get Decimal rates\n",
    "b.get_latest_price('TWD')"
   ]
  },
  {
   "cell_type": "markdown",
   "id": "440a9eec",
   "metadata": {},
   "source": [
    "## 換匯"
   ]
  },
  {
   "cell_type": "code",
   "execution_count": 36,
   "id": "92a9b216",
   "metadata": {},
   "outputs": [
    {
     "data": {
      "text/plain": [
       "81900.0"
      ]
     },
     "execution_count": 36,
     "metadata": {},
     "output_type": "execute_result"
    }
   ],
   "source": [
    "USD = 3000\n",
    "EXCHANGE = 27.3\n",
    "EXCHANGE * USD"
   ]
  },
  {
   "cell_type": "code",
   "execution_count": 37,
   "id": "ab0083b9",
   "metadata": {},
   "outputs": [],
   "source": [
    "def rate_exchange(USD):\n",
    "    EXCHANGE = 27.3\n",
    "    TWD = EXCHANGE * USD\n",
    "    return TWD"
   ]
  },
  {
   "cell_type": "code",
   "execution_count": 38,
   "id": "7678f10c",
   "metadata": {},
   "outputs": [
    {
     "data": {
      "text/plain": [
       "2730.0"
      ]
     },
     "execution_count": 38,
     "metadata": {},
     "output_type": "execute_result"
    }
   ],
   "source": [
    "rate_exchange(100)"
   ]
  },
  {
   "cell_type": "code",
   "execution_count": 39,
   "id": "7891f8ab",
   "metadata": {},
   "outputs": [
    {
     "data": {
      "text/plain": [
       "4095.0"
      ]
     },
     "execution_count": 39,
     "metadata": {},
     "output_type": "execute_result"
    }
   ],
   "source": [
    "rate_exchange(150)"
   ]
  },
  {
   "cell_type": "code",
   "execution_count": 41,
   "id": "76ce59f7",
   "metadata": {},
   "outputs": [
    {
     "name": "stdout",
     "output_type": "stream",
     "text": [
      "Print Anyway\n"
     ]
    }
   ],
   "source": [
    "a = 5\n",
    "b = 6\n",
    "\n",
    "if a > b:\n",
    "    print('A is greater than B')\n",
    "print('Print Anyway')"
   ]
  },
  {
   "cell_type": "code",
   "execution_count": 48,
   "id": "a0819ac6",
   "metadata": {},
   "outputs": [
    {
     "name": "stdout",
     "output_type": "stream",
     "text": [
      "A is greater than B\n",
      "Print Anyway\n"
     ]
    }
   ],
   "source": [
    "a = 5\n",
    "b = 3\n",
    "\n",
    "if a > b:\n",
    "                                                   print('A is greater than B')\n",
    "print('Print Anyway')"
   ]
  },
  {
   "cell_type": "code",
   "execution_count": 49,
   "id": "e0249e1a",
   "metadata": {},
   "outputs": [],
   "source": [
    "USD = 3000\n",
    "EXCHANGE = 27.3\n",
    "EXCHANGE * USD\n",
    "\n",
    "\n",
    "def rate_exchange(USD):\n",
    "    EXCHANGE = 27.3\n",
    "    TWD = EXCHANGE * USD\n",
    "    return TWD"
   ]
  },
  {
   "cell_type": "code",
   "execution_count": 50,
   "id": "1dcc33ab",
   "metadata": {},
   "outputs": [
    {
     "data": {
      "text/plain": [
       "2730.0"
      ]
     },
     "execution_count": 50,
     "metadata": {},
     "output_type": "execute_result"
    }
   ],
   "source": [
    "rate_exchange(100)"
   ]
  },
  {
   "cell_type": "code",
   "execution_count": 51,
   "id": "745de816",
   "metadata": {},
   "outputs": [
    {
     "data": {
      "text/plain": [
       "5460.0"
      ]
     },
     "execution_count": 51,
     "metadata": {},
     "output_type": "execute_result"
    }
   ],
   "source": [
    "rate_exchange(200)"
   ]
  },
  {
   "cell_type": "code",
   "execution_count": 53,
   "id": "56c7748d",
   "metadata": {},
   "outputs": [
    {
     "data": {
      "text/plain": [
       "82200"
      ]
     },
     "execution_count": 53,
     "metadata": {},
     "output_type": "execute_result"
    }
   ],
   "source": [
    "USD = 3000\n",
    "EXCHANGE = 27.4\n",
    "TWD = USD * EXCHANGE\n",
    "TWD =int(TWD)\n",
    "TWD"
   ]
  },
  {
   "cell_type": "code",
   "execution_count": 54,
   "id": "37cf6efc",
   "metadata": {},
   "outputs": [],
   "source": [
    "def rate_exchange(USD, EXCHANGE):\n",
    "    TWD = USD * EXCHANGE\n",
    "    TWD =int(TWD)\n",
    "    return TWD"
   ]
  },
  {
   "cell_type": "code",
   "execution_count": 55,
   "id": "d1f2ebe5",
   "metadata": {},
   "outputs": [
    {
     "data": {
      "text/plain": [
       "84000"
      ]
     },
     "execution_count": 55,
     "metadata": {},
     "output_type": "execute_result"
    }
   ],
   "source": [
    "rate_exchange(3000, 28)"
   ]
  },
  {
   "cell_type": "code",
   "execution_count": 56,
   "id": "c2e3d520",
   "metadata": {},
   "outputs": [
    {
     "data": {
      "text/plain": [
       "81600"
      ]
     },
     "execution_count": 56,
     "metadata": {},
     "output_type": "execute_result"
    }
   ],
   "source": [
    "rate_exchange(3000, 27.2)"
   ]
  },
  {
   "cell_type": "code",
   "execution_count": 57,
   "id": "788d8cab",
   "metadata": {},
   "outputs": [],
   "source": [
    "def rate_exchange(USD :int , EXCHANGE:float) -> int:\n",
    "    TWD = USD * EXCHANGE\n",
    "    TWD =int(TWD)\n",
    "    return TWD"
   ]
  },
  {
   "cell_type": "code",
   "execution_count": 58,
   "id": "0c2124ca",
   "metadata": {},
   "outputs": [
    {
     "data": {
      "text/plain": [
       "84000"
      ]
     },
     "execution_count": 58,
     "metadata": {},
     "output_type": "execute_result"
    }
   ],
   "source": [
    "rate_exchange(3000, 28)"
   ]
  },
  {
   "cell_type": "code",
   "execution_count": 59,
   "id": "50c3eb08",
   "metadata": {},
   "outputs": [],
   "source": [
    "def rate_exchange(USD :int , EXCHANGE:float) -> int:\n",
    "    TWD = USD * EXCHANGE\n",
    "    #TWD =int(TWD)\n",
    "    return TWD"
   ]
  },
  {
   "cell_type": "code",
   "execution_count": 61,
   "id": "563cbd41",
   "metadata": {},
   "outputs": [
    {
     "data": {
      "text/plain": [
       "84000.0"
      ]
     },
     "execution_count": 61,
     "metadata": {},
     "output_type": "execute_result"
    }
   ],
   "source": [
    "rate_exchange(3000, 28.0)"
   ]
  },
  {
   "cell_type": "code",
   "execution_count": 71,
   "id": "8daadf1a",
   "metadata": {},
   "outputs": [],
   "source": [
    "! python tarot2.py"
   ]
  },
  {
   "cell_type": "markdown",
   "id": "4f6c9d2b",
   "metadata": {},
   "source": [
    "## Async"
   ]
  },
  {
   "cell_type": "code",
   "execution_count": 72,
   "id": "f38514a1",
   "metadata": {},
   "outputs": [
    {
     "name": "stdout",
     "output_type": "stream",
     "text": [
      "^C\r\n"
     ]
    }
   ],
   "source": [
    "! python -m playwright codegen --target python-async -o tarot2.py -b chromium https://gomedia.asia/zh/free_tarot/"
   ]
  },
  {
   "cell_type": "code",
   "execution_count": 73,
   "id": "fef35fc2",
   "metadata": {},
   "outputs": [
    {
     "data": {
      "text/plain": [
       "<Task pending name='Task-3' coro=<main() running at /var/folders/21/1tszsz8n1vdd79rbhmdnwwqc0000gn/T/ipykernel_89874/3351472191.py:17>>"
      ]
     },
     "execution_count": 73,
     "metadata": {},
     "output_type": "execute_result"
    }
   ],
   "source": [
    "import asyncio\n",
    "from playwright.async_api import Playwright, async_playwright\n",
    "\n",
    "async def run(playwright: Playwright) -> None:\n",
    "    browser = await playwright.chromium.launch(headless=False)\n",
    "    context = await browser.new_context()\n",
    "    # Open new page\n",
    "    page = await context.new_page()\n",
    "    # Go to https://gomedia.asia/zh/free_tarot/\n",
    "    await page.goto(\"https://gomedia.asia/zh/free_tarot/\")\n",
    "    # 0× click\n",
    "    await page.click(\"iframe[name=\\\"aswift_1\\\"]\")\n",
    "    # ---------------------\n",
    "    await context.close()\n",
    "    await browser.close()\n",
    "    \n",
    "async def main() -> None:\n",
    "    async with async_playwright() as playwright:\n",
    "        await run(playwright)\n",
    "        \n",
    "asyncio.create_task(main())\n"
   ]
  },
  {
   "cell_type": "code",
   "execution_count": 76,
   "id": "9a2a04ad",
   "metadata": {},
   "outputs": [
    {
     "data": {
      "text/plain": [
       "<Task pending name='Task-11' coro=<main() running at /var/folders/21/1tszsz8n1vdd79rbhmdnwwqc0000gn/T/ipykernel_89874/1491300464.py:18>>"
      ]
     },
     "execution_count": 76,
     "metadata": {},
     "output_type": "execute_result"
    }
   ],
   "source": [
    "import asyncio\n",
    "from playwright.async_api import Playwright, async_playwright\n",
    "\n",
    "async def run(playwright: Playwright) -> None:\n",
    "    browser = await playwright.chromium.launch(headless=False)\n",
    "    context = await browser.new_context()\n",
    "    # Open new page\n",
    "    page = await context.new_page()\n",
    "    # Go to https://gomedia.asia/zh/free_tarot/\n",
    "    await page.goto(\"https://gomedia.asia/zh/free_tarot/\")\n",
    "    \n",
    "    # 0× click\n",
    "    await page.screenshot(path = '1.png', full_page= True )\n",
    "    # ---------------------\n",
    "    await context.close()\n",
    "    await browser.close()\n",
    "    \n",
    "async def main() -> None:\n",
    "    async with async_playwright() as playwright:\n",
    "        await run(playwright)\n",
    "        \n",
    "asyncio.create_task(main())\n"
   ]
  },
  {
   "cell_type": "code",
   "execution_count": 77,
   "id": "d188222d",
   "metadata": {},
   "outputs": [],
   "source": [
    "! open 1.png"
   ]
  },
  {
   "cell_type": "markdown",
   "id": "a8af581f",
   "metadata": {},
   "source": [
    "## 練習題\n",
    "\n",
    "請修改以下程式，讓我們截圖Facebook 的完整頁面內容\n"
   ]
  },
  {
   "cell_type": "code",
   "execution_count": null,
   "id": "0c6d331e",
   "metadata": {},
   "outputs": [],
   "source": [
    "import asyncio\n",
    "from playwright.async_api import Playwright, async_playwright\n",
    "\n",
    "async def run(playwright: Playwright) -> None:\n",
    "    browser = await playwright.chromium.launch(headless=False)\n",
    "    context = await browser.new_context()\n",
    "    # Open new page\n",
    "    page = await context.new_page()\n",
    "    # Go to https://gomedia.asia/zh/free_tarot/\n",
    "    await page.goto(\"https://gomedia.asia/zh/free_tarot/\")\n",
    "    \n",
    "    # 0× click\n",
    "    await page.screenshot(path = '1.png', full_page= True )\n",
    "    # ---------------------\n",
    "    await context.close()\n",
    "    await browser.close()\n",
    "    \n",
    "async def main() -> None:\n",
    "    async with async_playwright() as playwright:\n",
    "        await run(playwright)\n",
    "        \n",
    "asyncio.create_task(main())\n"
   ]
  },
  {
   "cell_type": "code",
   "execution_count": 78,
   "id": "131a9e97",
   "metadata": {},
   "outputs": [],
   "source": [
    "! python -m playwright codegen --target python-async -o apple.py -b chromium https://www.apple.com/tw/"
   ]
  },
  {
   "cell_type": "code",
   "execution_count": 83,
   "id": "b7e00afd",
   "metadata": {},
   "outputs": [
    {
     "data": {
      "text/plain": [
       "<Task pending name='Task-22' coro=<main() running at /var/folders/21/1tszsz8n1vdd79rbhmdnwwqc0000gn/T/ipykernel_89874/3111249295.py:48>>"
      ]
     },
     "execution_count": 83,
     "metadata": {},
     "output_type": "execute_result"
    }
   ],
   "source": [
    "import asyncio\n",
    "\n",
    "from playwright.async_api import Playwright, async_playwright\n",
    "\n",
    "\n",
    "async def run(playwright: Playwright) -> None:\n",
    "    browser = await playwright.chromium.launch(headless=False)\n",
    "    context = await browser.new_context()\n",
    "\n",
    "    # Open new page\n",
    "    page = await context.new_page()\n",
    "\n",
    "    # Go to https://www.apple.com/tw/\n",
    "    await page.goto(\"https://www.apple.com/tw/\")\n",
    "\n",
    "    # Click text=iPhone 13 NT$22,900 起 >> figure\n",
    "    await page.click(\"text=iPhone 13 NT$22,900 起 >> figure\")\n",
    "    await page.wait_for_timeout(5000)\n",
    "    await page.screenshot(path = '1.png', full_page= True )\n",
    "    # assert page.url == \"https://www.apple.com/tw/shop/buy-iphone/iphone-13\"\n",
    "\n",
    "    # Go to https://www.apple.com/tw/\n",
    "    await page.goto(\"https://www.apple.com/tw/\")\n",
    "\n",
    "    # Click text=AirPods Pro NT$7,990\n",
    "    # async with page.expect_navigation(url=\"https://www.apple.com/tw/\"):\n",
    "    async with page.expect_navigation():\n",
    "        await page.click(\"text=AirPods Pro NT$7,990\")\n",
    "    await page.wait_for_timeout(5000)\n",
    "    await page.screenshot(path = '2.png', full_page= True )\n",
    "    # assert page.url == \"https://www.apple.com/tw/shop/product/MLWK3TA/A/airpods-pro\"\n",
    "\n",
    "    await page.goto(\"https://www.apple.com/tw/\")\n",
    "    # Click text=HomePod mini NT$3,000 >> figure\n",
    "    await page.click(\"text=HomePod mini NT$3,000 >> figure\")\n",
    "    await page.wait_for_timeout(5000)\n",
    "    await page.screenshot(path = '3.png', full_page= True )\n",
    "    # assert page.url == \"https://www.apple.com/tw/shop/buy-homepod/homepod-mini\"\n",
    "\n",
    "    # Close page\n",
    "    await page.close()\n",
    "\n",
    "    # ---------------------\n",
    "    await context.close()\n",
    "    await browser.close()\n",
    "\n",
    "\n",
    "async def main() -> None:\n",
    "    async with async_playwright() as playwright:\n",
    "        await run(playwright)\n",
    "\n",
    "\n",
    "asyncio.create_task(main())\n"
   ]
  },
  {
   "cell_type": "code",
   "execution_count": 86,
   "id": "db6b299e",
   "metadata": {},
   "outputs": [],
   "source": [
    "! open 1.png"
   ]
  },
  {
   "cell_type": "code",
   "execution_count": 87,
   "id": "385156e1",
   "metadata": {},
   "outputs": [],
   "source": [
    "page1 = 'https://www.apple.com/tw/shop/buy-iphone/iphone-13'\n",
    "page2 = 'https://www.apple.com/tw/shop/product/MLWK3TA/A/airpods-pro'\n",
    "page3 = 'https://www.apple.com/tw/shop/buy-watch/apple-watch'\n",
    "pages = ['https://www.apple.com/tw/shop/buy-iphone/iphone-13','https://www.apple.com/tw/shop/product/MLWK3TA/A/airpods-pro','https://www.apple.com/tw/shop/buy-watch/apple-watch']"
   ]
  },
  {
   "cell_type": "code",
   "execution_count": 88,
   "id": "d8f4badb",
   "metadata": {},
   "outputs": [
    {
     "data": {
      "text/plain": [
       "'https://www.apple.com/tw/shop/buy-iphone/iphone-13'"
      ]
     },
     "execution_count": 88,
     "metadata": {},
     "output_type": "execute_result"
    }
   ],
   "source": [
    "pages[0]"
   ]
  },
  {
   "cell_type": "code",
   "execution_count": 89,
   "id": "d3ce5852",
   "metadata": {},
   "outputs": [
    {
     "data": {
      "text/plain": [
       "'https://www.apple.com/tw/shop/product/MLWK3TA/A/airpods-pro'"
      ]
     },
     "execution_count": 89,
     "metadata": {},
     "output_type": "execute_result"
    }
   ],
   "source": [
    "pages[1]"
   ]
  },
  {
   "cell_type": "code",
   "execution_count": 90,
   "id": "ad78b9b4",
   "metadata": {},
   "outputs": [
    {
     "data": {
      "text/plain": [
       "'https://www.apple.com/tw/shop/buy-watch/apple-watch'"
      ]
     },
     "execution_count": 90,
     "metadata": {},
     "output_type": "execute_result"
    }
   ],
   "source": [
    "pages[2]"
   ]
  },
  {
   "cell_type": "code",
   "execution_count": 91,
   "id": "9ec72528",
   "metadata": {},
   "outputs": [
    {
     "data": {
      "text/plain": [
       "'https://www.apple.com/tw/shop/buy-watch/apple-watch'"
      ]
     },
     "execution_count": 91,
     "metadata": {},
     "output_type": "execute_result"
    }
   ],
   "source": [
    "pages[-1]"
   ]
  },
  {
   "cell_type": "code",
   "execution_count": 92,
   "id": "0fa0fa8d",
   "metadata": {},
   "outputs": [],
   "source": [
    "page = pages[0]\n",
    "# ... do something\n",
    "page = pages[1]\n",
    "# ... do something\n",
    "page = pages[2]\n",
    "# ... do something"
   ]
  },
  {
   "cell_type": "code",
   "execution_count": 93,
   "id": "fb9bb73f",
   "metadata": {},
   "outputs": [
    {
     "name": "stdout",
     "output_type": "stream",
     "text": [
      "https://www.apple.com/tw/shop/buy-iphone/iphone-13\n",
      "https://www.apple.com/tw/shop/product/MLWK3TA/A/airpods-pro\n",
      "https://www.apple.com/tw/shop/buy-watch/apple-watch\n"
     ]
    }
   ],
   "source": [
    "for page in pages:\n",
    "    print(page)"
   ]
  },
  {
   "cell_type": "code",
   "execution_count": 95,
   "id": "13f901d6",
   "metadata": {},
   "outputs": [
    {
     "data": {
      "text/plain": [
       "<Task pending name='Task-36' coro=<main() running at /var/folders/21/1tszsz8n1vdd79rbhmdnwwqc0000gn/T/ipykernel_89874/3646288161.py:34>>"
      ]
     },
     "execution_count": 95,
     "metadata": {},
     "output_type": "execute_result"
    }
   ],
   "source": [
    "import asyncio\n",
    "\n",
    "from playwright.async_api import Playwright, async_playwright\n",
    "\n",
    "pages = ['https://www.apple.com/tw/shop/buy-iphone/iphone-13','https://www.apple.com/tw/shop/product/MLWK3TA/A/airpods-pro','https://www.apple.com/tw/shop/buy-watch/apple-watch']\n",
    "\n",
    "async def run(playwright: Playwright) -> None:\n",
    "    browser = await playwright.chromium.launch(headless=False)\n",
    "    context = await browser.new_context()\n",
    "\n",
    "    # Open new page\n",
    "    page = await context.new_page()\n",
    "\n",
    "    # Go to https://www.apple.com/tw/\n",
    "    await page.goto(\"https://www.apple.com/tw/\")\n",
    "\n",
    "    for p in pages:\n",
    "        await page.goto(p)\n",
    "        await page.wait_for_timeout(5000)\n",
    "    # Click text=iPhone 13 NT$22,900 起 >> figure\n",
    "    #await page.click(\"text=iPhone 13 NT$22,900 起 >> figure\")\n",
    "    #await page.wait_for_timeout(5000)\n",
    "    #await page.screenshot(path = '1.png', full_page= True )\n",
    "    # assert page.url == \"https://www.apple.com/tw/shop/buy-iphone/iphone-13\"\n",
    "\n",
    "    # Close page\n",
    "    await page.close()\n",
    "\n",
    "    # ---------------------\n",
    "    await context.close()\n",
    "    await browser.close()\n",
    "\n",
    "\n",
    "async def main() -> None:\n",
    "    async with async_playwright() as playwright:\n",
    "        await run(playwright)\n",
    "\n",
    "\n",
    "asyncio.create_task(main())\n"
   ]
  },
  {
   "cell_type": "code",
   "execution_count": 99,
   "id": "1e2a0890",
   "metadata": {},
   "outputs": [
    {
     "data": {
      "text/plain": [
       "<Task pending name='Task-43' coro=<main() running at /var/folders/21/1tszsz8n1vdd79rbhmdnwwqc0000gn/T/ipykernel_89874/3586440816.py:35>>"
      ]
     },
     "execution_count": 99,
     "metadata": {},
     "output_type": "execute_result"
    }
   ],
   "source": [
    "import asyncio\n",
    "\n",
    "from playwright.async_api import Playwright, async_playwright\n",
    "\n",
    "pages = ['https://www.apple.com/tw/shop/buy-iphone/iphone-13','https://www.apple.com/tw/shop/product/MLWK3TA/A/airpods-pro','https://www.apple.com/tw/shop/buy-watch/apple-watch']\n",
    "\n",
    "async def run(playwright: Playwright) -> None:\n",
    "    browser = await playwright.chromium.launch(headless=False)\n",
    "    context = await browser.new_context()\n",
    "\n",
    "    # Open new page\n",
    "    page = await context.new_page()\n",
    "\n",
    "    # Go to https://www.apple.com/tw/\n",
    "    await page.goto(\"https://www.apple.com/tw/\")\n",
    "\n",
    "    for i, p in enumerate(pages):\n",
    "        await page.goto(p)\n",
    "        await page.wait_for_timeout(5000)\n",
    "        await page.screenshot(path = '{}.png'.format(i), full_page= True )\n",
    "    # Click text=iPhone 13 NT$22,900 起 >> figure\n",
    "    #await page.click(\"text=iPhone 13 NT$22,900 起 >> figure\")\n",
    "    #await page.wait_for_timeout(5000)\n",
    "    #await page.screenshot(path = '1.png', full_page= True )\n",
    "    # assert page.url == \"https://www.apple.com/tw/shop/buy-iphone/iphone-13\"\n",
    "\n",
    "    # Close page\n",
    "    await page.close()\n",
    "\n",
    "    # ---------------------\n",
    "    await context.close()\n",
    "    await browser.close()\n",
    "\n",
    "\n",
    "async def main() -> None:\n",
    "    async with async_playwright() as playwright:\n",
    "        await run(playwright)\n",
    "\n",
    "\n",
    "asyncio.create_task(main())\n"
   ]
  },
  {
   "cell_type": "code",
   "execution_count": 97,
   "id": "d31741fc",
   "metadata": {},
   "outputs": [
    {
     "name": "stdout",
     "output_type": "stream",
     "text": [
      "0 https://www.apple.com/tw/shop/buy-iphone/iphone-13\n",
      "1 https://www.apple.com/tw/shop/product/MLWK3TA/A/airpods-pro\n",
      "2 https://www.apple.com/tw/shop/buy-watch/apple-watch\n"
     ]
    }
   ],
   "source": [
    "\n",
    "i = 0\n",
    "for page in pages:\n",
    "    print(i, page)\n",
    "    i = i + 1"
   ]
  },
  {
   "cell_type": "code",
   "execution_count": 98,
   "id": "e407a61c",
   "metadata": {},
   "outputs": [
    {
     "name": "stdout",
     "output_type": "stream",
     "text": [
      "0 https://www.apple.com/tw/shop/buy-iphone/iphone-13\n",
      "1 https://www.apple.com/tw/shop/product/MLWK3TA/A/airpods-pro\n",
      "2 https://www.apple.com/tw/shop/buy-watch/apple-watch\n"
     ]
    }
   ],
   "source": [
    "\n",
    "for i, page in enumerate(pages):\n",
    "    print(i, page)\n"
   ]
  },
  {
   "cell_type": "code",
   "execution_count": 102,
   "id": "88366c3b",
   "metadata": {},
   "outputs": [],
   "source": [
    "! open 2.png"
   ]
  },
  {
   "cell_type": "markdown",
   "id": "821dd1a4",
   "metadata": {},
   "source": [
    "## 瀏覽漫畫\n",
    "- https://www.mhgui.com/comic/1128/537121.html\n",
    "- https://www.mhgui.com/comic/1128/537121.html#p=2"
   ]
  },
  {
   "cell_type": "code",
   "execution_count": 104,
   "id": "909d13e0",
   "metadata": {},
   "outputs": [
    {
     "name": "stdout",
     "output_type": "stream",
     "text": [
      "https://www.mhgui.com/comic/1128/537121.html#p=1\n",
      "https://www.mhgui.com/comic/1128/537121.html#p=2\n",
      "https://www.mhgui.com/comic/1128/537121.html#p=3\n",
      "https://www.mhgui.com/comic/1128/537121.html#p=4\n",
      "https://www.mhgui.com/comic/1128/537121.html#p=5\n",
      "https://www.mhgui.com/comic/1128/537121.html#p=6\n",
      "https://www.mhgui.com/comic/1128/537121.html#p=7\n",
      "https://www.mhgui.com/comic/1128/537121.html#p=8\n",
      "https://www.mhgui.com/comic/1128/537121.html#p=9\n",
      "https://www.mhgui.com/comic/1128/537121.html#p=10\n",
      "https://www.mhgui.com/comic/1128/537121.html#p=11\n",
      "https://www.mhgui.com/comic/1128/537121.html#p=12\n",
      "https://www.mhgui.com/comic/1128/537121.html#p=13\n",
      "https://www.mhgui.com/comic/1128/537121.html#p=14\n",
      "https://www.mhgui.com/comic/1128/537121.html#p=15\n",
      "https://www.mhgui.com/comic/1128/537121.html#p=16\n",
      "https://www.mhgui.com/comic/1128/537121.html#p=17\n"
     ]
    }
   ],
   "source": [
    "comic_url = 'https://www.mhgui.com/comic/1128/537121.html#p={}'\n",
    "for i in range(1,18):\n",
    "    print(comic_url.format(i))"
   ]
  },
  {
   "cell_type": "code",
   "execution_count": 105,
   "id": "0117a5fb",
   "metadata": {},
   "outputs": [
    {
     "name": "stdout",
     "output_type": "stream",
     "text": [
      "https://www.mhgui.com/comic/1128/537121.html#p=1\n",
      "https://www.mhgui.com/comic/1128/537121.html#p=2\n",
      "https://www.mhgui.com/comic/1128/537121.html#p=3\n",
      "https://www.mhgui.com/comic/1128/537121.html#p=4\n",
      "https://www.mhgui.com/comic/1128/537121.html#p=5\n",
      "https://www.mhgui.com/comic/1128/537121.html#p=6\n",
      "https://www.mhgui.com/comic/1128/537121.html#p=7\n",
      "https://www.mhgui.com/comic/1128/537121.html#p=8\n",
      "https://www.mhgui.com/comic/1128/537121.html#p=9\n",
      "https://www.mhgui.com/comic/1128/537121.html#p=10\n",
      "https://www.mhgui.com/comic/1128/537121.html#p=11\n",
      "https://www.mhgui.com/comic/1128/537121.html#p=12\n",
      "https://www.mhgui.com/comic/1128/537121.html#p=13\n",
      "https://www.mhgui.com/comic/1128/537121.html#p=14\n",
      "https://www.mhgui.com/comic/1128/537121.html#p=15\n",
      "https://www.mhgui.com/comic/1128/537121.html#p=16\n",
      "https://www.mhgui.com/comic/1128/537121.html#p=17\n"
     ]
    }
   ],
   "source": [
    "comic_url = 'https://www.mhgui.com/comic/1128/537121.html#p={}'\n",
    "ary = []\n",
    "for i in range(1,18):\n",
    "    print(comic_url.format(i))\n",
    "    ary.append(comic_url.format(i))"
   ]
  },
  {
   "cell_type": "code",
   "execution_count": 106,
   "id": "7167f880",
   "metadata": {},
   "outputs": [
    {
     "data": {
      "text/plain": [
       "['https://www.mhgui.com/comic/1128/537121.html#p=1',\n",
       " 'https://www.mhgui.com/comic/1128/537121.html#p=2',\n",
       " 'https://www.mhgui.com/comic/1128/537121.html#p=3',\n",
       " 'https://www.mhgui.com/comic/1128/537121.html#p=4',\n",
       " 'https://www.mhgui.com/comic/1128/537121.html#p=5',\n",
       " 'https://www.mhgui.com/comic/1128/537121.html#p=6',\n",
       " 'https://www.mhgui.com/comic/1128/537121.html#p=7',\n",
       " 'https://www.mhgui.com/comic/1128/537121.html#p=8',\n",
       " 'https://www.mhgui.com/comic/1128/537121.html#p=9',\n",
       " 'https://www.mhgui.com/comic/1128/537121.html#p=10',\n",
       " 'https://www.mhgui.com/comic/1128/537121.html#p=11',\n",
       " 'https://www.mhgui.com/comic/1128/537121.html#p=12',\n",
       " 'https://www.mhgui.com/comic/1128/537121.html#p=13',\n",
       " 'https://www.mhgui.com/comic/1128/537121.html#p=14',\n",
       " 'https://www.mhgui.com/comic/1128/537121.html#p=15',\n",
       " 'https://www.mhgui.com/comic/1128/537121.html#p=16',\n",
       " 'https://www.mhgui.com/comic/1128/537121.html#p=17']"
      ]
     },
     "execution_count": 106,
     "metadata": {},
     "output_type": "execute_result"
    }
   ],
   "source": [
    "ary"
   ]
  },
  {
   "cell_type": "code",
   "execution_count": 111,
   "id": "8ddadd84",
   "metadata": {},
   "outputs": [
    {
     "data": {
      "text/plain": [
       "<Task pending name='Task-67' coro=<main() running at /var/folders/21/1tszsz8n1vdd79rbhmdnwwqc0000gn/T/ipykernel_89874/1924002743.py:29>>"
      ]
     },
     "execution_count": 111,
     "metadata": {},
     "output_type": "execute_result"
    }
   ],
   "source": [
    "import asyncio\n",
    "\n",
    "from playwright.async_api import Playwright, async_playwright\n",
    "\n",
    "\n",
    "async def run(playwright: Playwright) -> None:\n",
    "    browser = await playwright.chromium.launch(headless=False)\n",
    "    context = await browser.new_context()\n",
    "\n",
    "    # Open new page\n",
    "    page = await context.new_page()\n",
    "\n",
    "    # Go to https://www.apple.com/tw/\n",
    "    comic_url = 'https://www.mhgui.com/comic/1128/537121.html#p={}'\n",
    "\n",
    "    for i in range(1,18):\n",
    "        await page.goto(comic_url.format(i))\n",
    "        await page.goto(comic_url.format(i))\n",
    "        await page.wait_for_timeout(3000)\n",
    "        await page.screenshot(path = '{}.png'.format(i), full_page= True )\n",
    "        \n",
    "    await page.close()\n",
    "\n",
    "    # ---------------------\n",
    "    await context.close()\n",
    "    await browser.close()\n",
    "\n",
    "\n",
    "async def main() -> None:\n",
    "    async with async_playwright() as playwright:\n",
    "        await run(playwright)\n",
    "\n",
    "\n",
    "asyncio.create_task(main())\n"
   ]
  },
  {
   "cell_type": "code",
   "execution_count": 115,
   "id": "bf9c686c",
   "metadata": {},
   "outputs": [],
   "source": [
    "! open.png"
   ]
  },
  {
   "cell_type": "code",
   "execution_count": 120,
   "id": "45c5aa28",
   "metadata": {},
   "outputs": [
    {
     "data": {
      "text/plain": [
       "<Task pending name='Task-82' coro=<main() running at /var/folders/21/1tszsz8n1vdd79rbhmdnwwqc0000gn/T/ipykernel_89874/2726270887.py:30>>"
      ]
     },
     "execution_count": 120,
     "metadata": {},
     "output_type": "execute_result"
    }
   ],
   "source": [
    "import asyncio\n",
    "\n",
    "from playwright.async_api import Playwright, async_playwright\n",
    "\n",
    "\n",
    "async def run(playwright: Playwright) -> None:\n",
    "    browser = await playwright.chromium.launch(headless=False)\n",
    "    context = await browser.new_context()\n",
    "\n",
    "    # Open new page\n",
    "    page = await context.new_page()\n",
    "\n",
    "    # Go to https://www.apple.com/tw/\n",
    "    comic_url = 'https://www.mhgui.com/comic/1128/537121.html#p={}'\n",
    "\n",
    "    i = 3\n",
    "    await page.goto(comic_url.format(i))\n",
    "    await page.screenshot(path = '/Users/david/Desktop/{}.png'.format(i), full_page= True )\n",
    "    i = 4\n",
    "    await page.goto(comic_url.format(i))\n",
    "    await page.screenshot(path = '/Users/david/Desktop/{}.png'.format(i), full_page= True )\n",
    "          \n",
    "    await page.close()\n",
    "\n",
    "    # ---------------------\n",
    "    await context.close()\n",
    "    await browser.close()\n",
    "\n",
    "\n",
    "async def main() -> None:\n",
    "    async with async_playwright() as playwright:\n",
    "        await run(playwright)\n",
    "\n",
    "\n",
    "asyncio.create_task(main())\n"
   ]
  },
  {
   "cell_type": "code",
   "execution_count": 121,
   "id": "d22b0a80",
   "metadata": {},
   "outputs": [],
   "source": [
    "! open ~/Desktop/3.png"
   ]
  },
  {
   "cell_type": "code",
   "execution_count": 122,
   "id": "dba83364",
   "metadata": {},
   "outputs": [],
   "source": [
    "! open ~/Desktop/4.png"
   ]
  },
  {
   "cell_type": "code",
   "execution_count": null,
   "id": "b05b312a",
   "metadata": {},
   "outputs": [],
   "source": []
  }
 ],
 "metadata": {
  "kernelspec": {
   "display_name": "Python 3 (ipykernel)",
   "language": "python",
   "name": "python3"
  },
  "language_info": {
   "codemirror_mode": {
    "name": "ipython",
    "version": 3
   },
   "file_extension": ".py",
   "mimetype": "text/x-python",
   "name": "python",
   "nbconvert_exporter": "python",
   "pygments_lexer": "ipython3",
   "version": "3.8.10"
  }
 },
 "nbformat": 4,
 "nbformat_minor": 5
}
