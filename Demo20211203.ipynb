{
 "cells": [
  {
   "cell_type": "markdown",
   "id": "bb88177c",
   "metadata": {},
   "source": [
    "## Go 塔羅"
   ]
  },
  {
   "cell_type": "code",
   "execution_count": 1,
   "id": "fe33e43c",
   "metadata": {},
   "outputs": [],
   "source": [
    "! python -m playwright codegen --target python -o tarot2.py -b chromium https://gomedia.asia/zh/free_tarot/"
   ]
  },
  {
   "cell_type": "markdown",
   "id": "86e31904",
   "metadata": {},
   "source": [
    "### Method 1 (from ... import)\n",
    "- 好處：呼叫函數比較簡潔\n",
    "- 壞處：會有物件重名的問題"
   ]
  },
  {
   "cell_type": "code",
   "execution_count": 2,
   "id": "04efa549",
   "metadata": {},
   "outputs": [],
   "source": [
    "from playwright.sync_api import Playwright, sync_playwright"
   ]
  },
  {
   "cell_type": "markdown",
   "id": "2438a05a",
   "metadata": {},
   "source": [
    "### Method 2 (import)\n",
    "- 好處：不會有重名的問題\n",
    "- 壞處：呼叫功能比較麻煩"
   ]
  },
  {
   "cell_type": "code",
   "execution_count": 3,
   "id": "ffc420a7",
   "metadata": {},
   "outputs": [
    {
     "data": {
      "text/plain": [
       "playwright.sync_api._generated.Playwright"
      ]
     },
     "execution_count": 3,
     "metadata": {},
     "output_type": "execute_result"
    }
   ],
   "source": [
    "import playwright\n",
    "playwright.sync_api.Playwright"
   ]
  },
  {
   "cell_type": "code",
   "execution_count": 4,
   "id": "e84446ac",
   "metadata": {},
   "outputs": [
    {
     "data": {
      "text/plain": [
       "1000"
      ]
     },
     "execution_count": 4,
     "metadata": {},
     "output_type": "execute_result"
    }
   ],
   "source": [
    "Playwright = 100\n",
    "Playwright * 10"
   ]
  },
  {
   "cell_type": "code",
   "execution_count": 5,
   "id": "8389aca0",
   "metadata": {},
   "outputs": [],
   "source": [
    "from playwright.sync_api import Playwright, sync_playwright"
   ]
  },
  {
   "cell_type": "code",
   "execution_count": 6,
   "id": "6902b61b",
   "metadata": {},
   "outputs": [
    {
     "ename": "TypeError",
     "evalue": "unsupported operand type(s) for *: 'type' and 'int'",
     "output_type": "error",
     "traceback": [
      "\u001b[0;31m---------------------------------------------------------------------------\u001b[0m",
      "\u001b[0;31mTypeError\u001b[0m                                 Traceback (most recent call last)",
      "\u001b[0;32m/var/folders/21/1tszsz8n1vdd79rbhmdnwwqc0000gn/T/ipykernel_89874/597205677.py\u001b[0m in \u001b[0;36m<module>\u001b[0;34m\u001b[0m\n\u001b[0;32m----> 1\u001b[0;31m \u001b[0mPlaywright\u001b[0m \u001b[0;34m*\u001b[0m \u001b[0;36m10\u001b[0m\u001b[0;34m\u001b[0m\u001b[0;34m\u001b[0m\u001b[0m\n\u001b[0m",
      "\u001b[0;31mTypeError\u001b[0m: unsupported operand type(s) for *: 'type' and 'int'"
     ]
    }
   ],
   "source": [
    "Playwright * 10"
   ]
  },
  {
   "cell_type": "markdown",
   "id": "18b543b5",
   "metadata": {},
   "source": [
    "## 呼叫模組的功能"
   ]
  },
  {
   "cell_type": "code",
   "execution_count": 8,
   "id": "e7e3150f",
   "metadata": {},
   "outputs": [
    {
     "data": {
      "text/plain": [
       "100"
      ]
     },
     "execution_count": 8,
     "metadata": {},
     "output_type": "execute_result"
    }
   ],
   "source": [
    "# from 套件(目錄).模組(檔案) import 功能或變數\n",
    "from newpackage.newmodule import a\n",
    "a"
   ]
  },
  {
   "cell_type": "code",
   "execution_count": 13,
   "id": "324e841a",
   "metadata": {},
   "outputs": [
    {
     "data": {
      "text/plain": [
       "100"
      ]
     },
     "execution_count": 13,
     "metadata": {},
     "output_type": "execute_result"
    }
   ],
   "source": [
    "import newpackage\n",
    "newpackage.newmodule.a"
   ]
  },
  {
   "cell_type": "code",
   "execution_count": 14,
   "id": "ff59496f",
   "metadata": {},
   "outputs": [
    {
     "data": {
      "text/plain": [
       "100"
      ]
     },
     "execution_count": 14,
     "metadata": {},
     "output_type": "execute_result"
    }
   ],
   "source": [
    "from newpackage.newmodule import a as b\n",
    "b"
   ]
  },
  {
   "cell_type": "markdown",
   "id": "0ff8e264",
   "metadata": {},
   "source": [
    "## Python 模組"
   ]
  },
  {
   "cell_type": "code",
   "execution_count": 16,
   "id": "7ca0b4ba",
   "metadata": {},
   "outputs": [
    {
     "data": {
      "text/plain": [
       "365.09675063891933"
      ]
     },
     "execution_count": 16,
     "metadata": {},
     "output_type": "execute_result"
    }
   ],
   "source": [
    "10000 / 27.39"
   ]
  },
  {
   "cell_type": "code",
   "execution_count": 17,
   "id": "b1703d3d",
   "metadata": {},
   "outputs": [
    {
     "name": "stdout",
     "output_type": "stream",
     "text": [
      "['__doc__', '__file__', '__loader__', '__name__', '__package__', '__spec__', 'acos', 'acosh', 'asin', 'asinh', 'atan', 'atan2', 'atanh', 'ceil', 'comb', 'copysign', 'cos', 'cosh', 'degrees', 'dist', 'e', 'erf', 'erfc', 'exp', 'expm1', 'fabs', 'factorial', 'floor', 'fmod', 'frexp', 'fsum', 'gamma', 'gcd', 'hypot', 'inf', 'isclose', 'isfinite', 'isinf', 'isnan', 'isqrt', 'ldexp', 'lgamma', 'log', 'log10', 'log1p', 'log2', 'modf', 'nan', 'perm', 'pi', 'pow', 'prod', 'radians', 'remainder', 'sin', 'sinh', 'sqrt', 'tan', 'tanh', 'tau', 'trunc']\n"
     ]
    }
   ],
   "source": [
    "import math\n",
    "print(dir(math))"
   ]
  },
  {
   "cell_type": "code",
   "execution_count": 18,
   "id": "b56e04b8",
   "metadata": {},
   "outputs": [],
   "source": [
    "?math.cos"
   ]
  },
  {
   "cell_type": "code",
   "execution_count": 19,
   "id": "ca5a00a3",
   "metadata": {},
   "outputs": [],
   "source": [
    "?math.ceil"
   ]
  },
  {
   "cell_type": "code",
   "execution_count": 20,
   "id": "5a30834b",
   "metadata": {},
   "outputs": [
    {
     "data": {
      "text/plain": [
       "366"
      ]
     },
     "execution_count": 20,
     "metadata": {},
     "output_type": "execute_result"
    }
   ],
   "source": [
    "math.ceil(10000 / 27.39)"
   ]
  },
  {
   "cell_type": "code",
   "execution_count": 21,
   "id": "953a8af0",
   "metadata": {},
   "outputs": [
    {
     "name": "stdout",
     "output_type": "stream",
     "text": [
      "Collecting currencyconverter\n",
      "  Downloading CurrencyConverter-0.16.5-py2.py3-none-any.whl (532 kB)\n",
      "\u001b[K     |████████████████████████████████| 532 kB 1.4 MB/s eta 0:00:01\n",
      "\u001b[?25hInstalling collected packages: currencyconverter\n",
      "Successfully installed currencyconverter-0.16.5\n",
      "\u001b[33mWARNING: You are using pip version 21.1.1; however, version 21.3.1 is available.\n",
      "You should consider upgrading via the '/Users/david/.pyenv/versions/3.8.10/bin/python3.8 -m pip install --upgrade pip' command.\u001b[0m\n"
     ]
    }
   ],
   "source": [
    "! pip install currencyconverter"
   ]
  },
  {
   "cell_type": "code",
   "execution_count": 24,
   "id": "2d9e14b6",
   "metadata": {},
   "outputs": [
    {
     "name": "stdout",
     "output_type": "stream",
     "text": [
      "100.000 USD = 86.401 EUR on 2021-12-03\r\n"
     ]
    }
   ],
   "source": [
    "! currency_converter 100 USD --to EUR -d 2021-12-03"
   ]
  },
  {
   "cell_type": "code",
   "execution_count": 25,
   "id": "418d22b4",
   "metadata": {},
   "outputs": [
    {
     "name": "stdout",
     "output_type": "stream",
     "text": [
      "100.000 USD = 11,292.552 JPY on 2021-12-03\r\n"
     ]
    }
   ],
   "source": [
    "! currency_converter 100 USD --to JPY -d 2021-12-03"
   ]
  },
  {
   "cell_type": "code",
   "execution_count": 27,
   "id": "e0ca19c9",
   "metadata": {},
   "outputs": [
    {
     "data": {
      "text/plain": [
       "115.74"
      ]
     },
     "execution_count": 27,
     "metadata": {},
     "output_type": "execute_result"
    }
   ],
   "source": [
    "from currency_converter import CurrencyConverter\n",
    "c = CurrencyConverter()\n",
    "c.convert(100, 'EUR', 'USD') "
   ]
  },
  {
   "cell_type": "code",
   "execution_count": 28,
   "id": "6adcb742",
   "metadata": {},
   "outputs": [
    {
     "data": {
      "text/plain": [
       "13069.999999999998"
      ]
     },
     "execution_count": 28,
     "metadata": {},
     "output_type": "execute_result"
    }
   ],
   "source": [
    "c.convert(100, 'EUR', 'JPY') "
   ]
  },
  {
   "cell_type": "markdown",
   "id": "82b54d3a",
   "metadata": {},
   "source": [
    "## Forex-Python\n",
    "- https://github.com/MicroPyramid/forex-python\n",
    "- 1 BTC to 1 USD"
   ]
  },
  {
   "cell_type": "code",
   "execution_count": null,
   "id": "db5cb81d",
   "metadata": {},
   "outputs": [],
   "source": []
  }
 ],
 "metadata": {
  "kernelspec": {
   "display_name": "Python 3 (ipykernel)",
   "language": "python",
   "name": "python3"
  },
  "language_info": {
   "codemirror_mode": {
    "name": "ipython",
    "version": 3
   },
   "file_extension": ".py",
   "mimetype": "text/x-python",
   "name": "python",
   "nbconvert_exporter": "python",
   "pygments_lexer": "ipython3",
   "version": "3.8.10"
  }
 },
 "nbformat": 4,
 "nbformat_minor": 5
}
